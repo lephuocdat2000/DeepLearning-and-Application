{
  "nbformat": 4,
  "nbformat_minor": 0,
  "metadata": {
    "colab": {
      "name": "Eng-Vie.ipynb",
      "provenance": [],
      "collapsed_sections": [
        "skUWw4-LSuAq"
      ],
      "authorship_tag": "ABX9TyMSorED3MBzzGb5sma4SjNr",
      "include_colab_link": true
    },
    "kernelspec": {
      "name": "python3",
      "display_name": "Python 3"
    },
    "language_info": {
      "name": "python"
    },
    "accelerator": "GPU"
  },
  "cells": [
    {
      "cell_type": "markdown",
      "metadata": {
        "id": "view-in-github",
        "colab_type": "text"
      },
      "source": [
        "<a href=\"https://colab.research.google.com/github/lephuocdat2000/DeepLearning-and-Application/blob/main/SER/Eng_Vie.ipynb\" target=\"_parent\"><img src=\"https://colab.research.google.com/assets/colab-badge.svg\" alt=\"Open In Colab\"/></a>"
      ]
    },
    {
      "cell_type": "code",
      "metadata": {
        "colab": {
          "base_uri": "https://localhost:8080/"
        },
        "id": "eJxquPQ5SJJg",
        "outputId": "95423594-0102-47da-98e3-3c965a7d99e0"
      },
      "source": [
        "from google.colab import drive\n",
        "drive.mount('/content/drive')"
      ],
      "execution_count": 1,
      "outputs": [
        {
          "output_type": "stream",
          "text": [
            "Mounted at /content/drive\n"
          ],
          "name": "stdout"
        }
      ]
    },
    {
      "cell_type": "code",
      "metadata": {
        "id": "p-c1x2YQSoVD"
      },
      "source": [
        "import scipy.io.wavfile\n",
        "import numpy as np\n",
        "import sys\n",
        "import glob \n",
        "import librosa\n",
        "import os\n",
        "import pandas as pd\n",
        "import matplotlib.pyplot as plt\n",
        "from scipy.stats import zscore\n",
        "from IPython.display import Audio\n",
        "### Time Distributed ConvNet imports ###\n",
        "import tensorflow as tf\n",
        "from tensorflow.keras.models import Sequential, Model\n",
        "from tensorflow.keras.layers import Input, Dense, Dropout, Activation, TimeDistributed, concatenate\n",
        "from tensorflow.keras.layers import Conv2D, MaxPooling2D, AveragePooling2D, BatchNormalization, LeakyReLU, Flatten\n",
        "from tensorflow.keras.layers import LSTM\n",
        "from tensorflow.keras.optimizers import Adam, SGD\n",
        "from tensorflow.keras.callbacks import EarlyStopping, ModelCheckpoint, ReduceLROnPlateau\n",
        "from tensorflow.keras import backend as K\n",
        "from keras.utils import np_utils\n",
        "from keras.utils.vis_utils import plot_model\n",
        "from sklearn.preprocessing import LabelEncoder\n",
        "from IPython.display import Image\n",
        "from glob import glob\n",
        "import pickle\n",
        "import itertools\n",
        "from sklearn.model_selection import train_test_split\n",
        "from PIL import Image\n",
        "\n",
        "### Audioimport ###\n",
        "import IPython\n",
        "\n",
        "### Warning ###\n",
        "import warnings\n",
        "warnings.filterwarnings('ignore')"
      ],
      "execution_count": 2,
      "outputs": []
    },
    {
      "cell_type": "markdown",
      "metadata": {
        "id": "skUWw4-LSuAq"
      },
      "source": [
        "#Download dataset from Kaggle"
      ]
    },
    {
      "cell_type": "code",
      "metadata": {
        "id": "bdANyxx1SykC"
      },
      "source": [
        "!pip install opendatasets"
      ],
      "execution_count": null,
      "outputs": []
    },
    {
      "cell_type": "code",
      "metadata": {
        "id": "4vukakk8So9n"
      },
      "source": [
        "import opendatasets as od\n",
        "od.download(\"https://www.kaggle.com/uwrfkaggler/ravdess-emotional-speech-audio\")"
      ],
      "execution_count": null,
      "outputs": []
    },
    {
      "cell_type": "markdown",
      "metadata": {
        "id": "lV1mTsU0S3mO"
      },
      "source": [
        "#Extract signals and labels"
      ]
    },
    {
      "cell_type": "code",
      "metadata": {
        "id": "LoBLWFlaS9pu"
      },
      "source": [
        "sample_rate = 16000     \n",
        "max_pad_len = 49100\n",
        "eng_signals = []\n",
        "eng_labels = []\n",
        "dataset_path = '/content/drive/MyDrive/Nhận dạng/ravdess-emotional-speech-audio'\n",
        "actors = os.listdir(dataset_path)\n",
        "\n",
        "for actor_file in actors:\n",
        "    actor_path = os.path.join(dataset_path,actor_file)\n",
        "    filenames = os.listdir(actor_path)\n",
        "    for name in filenames:\n",
        "        temp = int(name[6:8])\n",
        "        if (temp==1) or (temp==3) or (temp==4) or (temp==5):\n",
        "            if temp==1:  eng_labels.append(3)\n",
        "            elif temp==3: eng_labels.append(1)\n",
        "            elif temp==4: eng_labels.append(2)\n",
        "            else: eng_labels.append(0)\n",
        "            file_path = os.path.join(actor_path,name)\n",
        "            y,sr = librosa.load(file_path, sr=sample_rate)\n",
        "            y = zscore(y)\n",
        "            if len(y) < max_pad_len:    \n",
        "                y_padded = np.zeros(max_pad_len)\n",
        "                y_padded[:len(y)] = y\n",
        "                y = y_padded\n",
        "            elif len(y) > max_pad_len:\n",
        "                y = np.asarray(y[:max_pad_len])\n",
        "            eng_signals.append(y)\n",
        "\n",
        "eng_labels = np.array(eng_labels)\n",
        "eng_signals = np.array(eng_signals)"
      ],
      "execution_count": null,
      "outputs": []
    },
    {
      "cell_type": "markdown",
      "metadata": {
        "id": "g8JO_be7TIi5"
      },
      "source": [
        "#Augment noisy"
      ]
    },
    {
      "cell_type": "code",
      "metadata": {
        "id": "tYm14dhnTJm3"
      },
      "source": [
        "nb_augmented = 2\n",
        "\n",
        "# Function to add noise to a signals with a desired Signal Noise ratio (SNR)\n",
        "def noisy_signal(signal, snr_low=15, snr_high=30, nb_augmented=2):\n",
        "    \n",
        "    # Signal length\n",
        "    signal_len = len(signal)\n",
        "\n",
        "    # Generate White noise\n",
        "    noise = np.random.normal(size=(nb_augmented, signal_len))\n",
        "    \n",
        "    # Compute signal and noise power\n",
        "    s_power = np.sum((signal / (2.0 ** 15)) ** 2) / signal_len\n",
        "    n_power = np.sum((noise / (2.0 ** 15)) ** 2, axis=1) / signal_len\n",
        "    \n",
        "    # Random SNR: Uniform [15, 30]\n",
        "    snr = np.random.randint(snr_low, snr_high)\n",
        "    \n",
        "    # Compute K coeff for each noise\n",
        "    K = np.sqrt((s_power / n_power) * 10 ** (- snr / 10))\n",
        "    K = np.ones((signal_len, nb_augmented)) * K\n",
        "    \n",
        "    # Generate noisy signal\n",
        "    return signal + K.T * noise\n"
      ],
      "execution_count": 5,
      "outputs": []
    },
    {
      "cell_type": "code",
      "metadata": {
        "id": "MIIVZWlzVpU9"
      },
      "source": [
        "\n",
        "print(\"Data Augmentation: START\")\n",
        "eng_augmented_signals = list(map(noisy_signal, eng_signals))\n",
        "print(\"Data Augmentation: END!\")"
      ],
      "execution_count": null,
      "outputs": []
    },
    {
      "cell_type": "markdown",
      "metadata": {
        "id": "XdHOgbvjTMLF"
      },
      "source": [
        "#Extract Mel"
      ]
    },
    {
      "cell_type": "code",
      "metadata": {
        "id": "1bNJShvlTOji"
      },
      "source": [
        "def mel_spectrogram(y, sr=16000, n_fft=512, win_length=256, hop_length=128, window='hamming', n_mels=128, fmax=4000):\n",
        "    \n",
        "    # Compute spectogram\n",
        "    mel_spect = np.abs(librosa.stft(y, n_fft=n_fft, window=window, win_length=win_length, hop_length=hop_length)) ** 2\n",
        "    \n",
        "    # Compute mel spectrogram\n",
        "    mel_spect = librosa.feature.melspectrogram(S=mel_spect, sr=sr, n_mels=n_mels, fmax=fmax)\n",
        "    \n",
        "    # Compute log-mel spectrogram\n",
        "    mel_spect = librosa.power_to_db(mel_spect, ref=np.max)\n",
        "    \n",
        "    return mel_spect\n",
        "\n",
        "\n"
      ],
      "execution_count": 6,
      "outputs": []
    },
    {
      "cell_type": "code",
      "metadata": {
        "id": "sCjgpfV6Vri2"
      },
      "source": [
        "# Start feature extraction\n",
        "print(\"Feature extraction: START\")\n",
        "\n",
        "# Compute spectogram for all audio file\n",
        "eng_mel_spects = np.asarray(list(map(mel_spectrogram, eng_signals)))\n",
        "eng_augmented_mel_spects = [np.asarray(list(map(mel_spectrogram, eng_augmented_signals[i]))) for i in range(len(eng_augmented_signals))]\n",
        "\n",
        "# Stop feature extraction\n",
        "print(\"Feature extraction: END!\")"
      ],
      "execution_count": null,
      "outputs": []
    },
    {
      "cell_type": "markdown",
      "metadata": {
        "id": "WHYrS6lnWee9"
      },
      "source": [
        "#Prepare Data"
      ]
    },
    {
      "cell_type": "markdown",
      "metadata": {
        "id": "IfsfsF6ZWgVO"
      },
      "source": [
        "Training set"
      ]
    },
    {
      "cell_type": "code",
      "metadata": {
        "id": "vpk4QwjgWd75"
      },
      "source": [
        "# Build augmented labels and train\n",
        "eng_aug_labels = np.asarray(list(itertools.chain.from_iterable([[label] * nb_augmented for label in eng_labels])))\n",
        "eng_AUG_MEL_SPECTs = np.asarray(list(itertools.chain.from_iterable(eng_augmented_mel_spects)))\n",
        "eng_X_train = np.concatenate((eng_mel_spects ,eng_AUG_MEL_SPECTs))\n",
        "eng_y_train = np.concatenate((eng_labels,eng_aug_labels))"
      ],
      "execution_count": null,
      "outputs": []
    },
    {
      "cell_type": "markdown",
      "metadata": {
        "id": "XeNEyY_lWvcQ"
      },
      "source": [
        "Test set"
      ]
    },
    {
      "cell_type": "code",
      "metadata": {
        "id": "nSlHVI6fWomz"
      },
      "source": [
        "from numpy import load\n",
        "\n",
        "vie_X_test = load('/content/drive/MyDrive/Nhận dạng/vie-vie/vie_signals.npy')\n",
        "vie_y_test = load('/content/drive/MyDrive/Nhận dạng/vie-vie/vie_labels.npy')\n",
        "#Extract mel-spectrogram\n",
        "vie_X_test = np.asarray(list(map(mel_spectrogram, vie_X_test)))\n",
        "eng_X_train = load('eng-vie_X_train.npy')\n",
        "eng_y_train = load('eng-vie_y_train.npy')"
      ],
      "execution_count": null,
      "outputs": []
    },
    {
      "cell_type": "markdown",
      "metadata": {
        "id": "ecMgdox1bhxh"
      },
      "source": [
        "Split to frame"
      ]
    },
    {
      "cell_type": "code",
      "metadata": {
        "id": "1TV1UuyJbkYQ"
      },
      "source": [
        "#Time distributed parameters\n",
        "win_ts = 128\n",
        "hop_ts = 64\n",
        "\n",
        "# Split spectrogram into frames\n",
        "def frame(x, win_step=128, win_size=64):\n",
        "    nb_frames = 1 + int((x.shape[2] - win_size) / win_step)\n",
        "    frames = np.zeros((x.shape[0], nb_frames, x.shape[1], win_size)).astype(np.float32)\n",
        "    for t in range(nb_frames):\n",
        "        frames[:,t,:,:] = np.copy(x[:,:,(t * win_step):(t * win_step + win_size)]).astype(np.float32)\n",
        "    return frames\n"
      ],
      "execution_count": 7,
      "outputs": []
    },
    {
      "cell_type": "code",
      "metadata": {
        "id": "V1vuXVp9Vtlg"
      },
      "source": [
        "\n",
        "eng_X_train = frame(eng_X_train, hop_ts, win_ts)\n",
        "vie_X_test = frame(vie_X_test, hop_ts, win_ts)"
      ],
      "execution_count": 13,
      "outputs": []
    },
    {
      "cell_type": "code",
      "metadata": {
        "id": "Qnayva6MgA7L"
      },
      "source": [
        "from numpy import save \n",
        "\n",
        "save('eng-vie_X_train',eng_X_train)\n",
        "save('eng-vie_y_train',eng_y_train) "
      ],
      "execution_count": null,
      "outputs": []
    },
    {
      "cell_type": "markdown",
      "metadata": {
        "id": "CexWaSSiexf6"
      },
      "source": [
        "Label Encoding"
      ]
    },
    {
      "cell_type": "code",
      "metadata": {
        "colab": {
          "base_uri": "https://localhost:8080/"
        },
        "id": "oqD9dyOCe3UJ",
        "outputId": "c9ab27b7-0d02-4770-fb0b-e7a0b1e4e221"
      },
      "source": [
        "cd /content/drive/MyDrive/Nhận dạng/eng-vie"
      ],
      "execution_count": 3,
      "outputs": [
        {
          "output_type": "stream",
          "text": [
            "/content/drive/MyDrive/Nhận dạng/eng-vie\n"
          ],
          "name": "stdout"
        }
      ]
    },
    {
      "cell_type": "code",
      "metadata": {
        "id": "mh5DTrgZfGuv"
      },
      "source": [
        "#Encode label\n",
        "lb = LabelEncoder()\n",
        "eng_y_train = np_utils.to_categorical(lb.fit_transform(np.ravel(eng_y_train)))\n",
        "vie_y_test = np_utils.to_categorical(lb.transform(np.ravel(vie_y_test)))\n",
        "\n",
        "eng_X_train = eng_X_train.reshape(eng_X_train.shape[0], eng_X_train.shape[1] , eng_X_train.shape[2], eng_X_train.shape[3], 1)\n",
        "vie_X_test = vie_X_test.reshape(vie_X_test.shape[0], vie_X_test.shape[1] , vie_X_test.shape[2], vie_X_test.shape[3], 1)"
      ],
      "execution_count": 14,
      "outputs": []
    },
    {
      "cell_type": "markdown",
      "metadata": {
        "id": "zXhGRjqlbWvm"
      },
      "source": [
        "#Training"
      ]
    },
    {
      "cell_type": "markdown",
      "metadata": {
        "id": "cN1ttbB1fhyJ"
      },
      "source": [
        "Define model"
      ]
    },
    {
      "cell_type": "code",
      "metadata": {
        "id": "1zotBXjmZlps"
      },
      "source": [
        "from IPython.display import Image\n",
        "\n",
        "K.clear_session()\n",
        "\n",
        "# Define two sets of inputs: MFCC and FBANK\n",
        "input_y = Input(shape=eng_X_train.shape[1:], name='Input_MELSPECT')\n",
        "\n",
        "## First LFLB (local feature learning block)\n",
        "y = TimeDistributed(Conv2D(64, kernel_size=(3, 3), strides=(1, 1), padding='same'), name='Conv_1_MELSPECT')(input_y)\n",
        "y = TimeDistributed(BatchNormalization(), name='BatchNorm_1_MELSPECT')(y)\n",
        "y = TimeDistributed(Activation('elu'), name='Activ_1_MELSPECT')(y)\n",
        "y = TimeDistributed(MaxPooling2D(pool_size=(2, 2), strides=(2, 2), padding='same'), name='MaxPool_1_MELSPECT')(y)\n",
        "y = TimeDistributed(Dropout(0.2), name='Drop_1_MELSPECT')(y)     \n",
        "\n",
        "## Second LFLB (local feature learning block)\n",
        "y = TimeDistributed(Conv2D(64, kernel_size=(3, 3), strides=(1, 1), padding='same'), name='Conv_2_MELSPECT')(y)\n",
        "y = TimeDistributed(BatchNormalization(), name='BatchNorm_2_MELSPECT')(y)\n",
        "y = TimeDistributed(Activation('elu'), name='Activ_2_MELSPECT')(y)\n",
        "y = TimeDistributed(MaxPooling2D(pool_size=(4, 4), strides=(4, 4), padding='same'), name='MaxPool_2_MELSPECT')(y)\n",
        "y = TimeDistributed(Dropout(0.2), name='Drop_2_MELSPECT')(y)\n",
        "\n",
        "## Second LFLB (local feature learning block)\n",
        "y = TimeDistributed(Conv2D(128, kernel_size=(3, 3), strides=(1, 1), padding='same'), name='Conv_3_MELSPECT')(y)\n",
        "y = TimeDistributed(BatchNormalization(), name='BatchNorm_3_MELSPECT')(y)\n",
        "y = TimeDistributed(Activation('elu'), name='Activ_3_MELSPECT')(y)\n",
        "y = TimeDistributed(MaxPooling2D(pool_size=(4, 4), strides=(4, 4), padding='same'), name='MaxPool_3_MELSPECT')(y)\n",
        "y = TimeDistributed(Dropout(0.2), name='Drop_3_MELSPECT')(y)\n",
        "\n",
        "## Second LFLB (local feature learning block)\n",
        "y = TimeDistributed(Conv2D(128, kernel_size=(3, 3), strides=(1, 1), padding='same'), name='Conv_4_MELSPECT')(y)\n",
        "y = TimeDistributed(BatchNormalization(), name='BatchNorm_4_MELSPECT')(y)\n",
        "y = TimeDistributed(Activation('elu'), name='Activ_4_MELSPECT')(y)\n",
        "y = TimeDistributed(MaxPooling2D(pool_size=(4, 4), strides=(4, 4), padding='same'), name='MaxPool_4_MELSPECT')(y)\n",
        "y = TimeDistributed(Dropout(0.2), name='Drop_4_MELSPECT')(y)  \n",
        "\n",
        "## Flat\n",
        "y = TimeDistributed(Flatten(), name='Flat_MELSPECT')(y)                      \n",
        "                               \n",
        "# Apply 2 LSTM layer and one FC\n",
        "y = LSTM(256, return_sequences=False, dropout=0.2, name='LSTM_1')(y)\n",
        "y = Dense(eng_y_train.shape[1], activation='softmax', name='FC')(y)\n",
        "\n",
        "# Build final model\n",
        "model = Model(inputs=input_y, outputs=y)\n",
        "\n",
        "# Plot model graph\n",
        "plot_model(model, show_shapes=True, show_layer_names=True, to_file='model.png')\n",
        "Image(retina=True, filename='model.png')"
      ],
      "execution_count": null,
      "outputs": []
    },
    {
      "cell_type": "markdown",
      "metadata": {
        "id": "VExl_gA7fpFg"
      },
      "source": [
        "Compile"
      ]
    },
    {
      "cell_type": "code",
      "metadata": {
        "colab": {
          "base_uri": "https://localhost:8080/"
        },
        "id": "X7t1RNXih_rM",
        "outputId": "aad859ff-5ce7-45bd-d76f-08236e7cbb9d"
      },
      "source": [
        "cd /content/drive/MyDrive/Nhận dạng/eng-vie"
      ],
      "execution_count": null,
      "outputs": [
        {
          "output_type": "stream",
          "text": [
            "/content/drive/MyDrive/Nhận dạng/eng-vie\n"
          ],
          "name": "stdout"
        }
      ]
    },
    {
      "cell_type": "code",
      "metadata": {
        "id": "2TT9hDOCqNbs"
      },
      "source": [
        "# Compile model\n",
        "model.compile(optimizer=SGD(lr=0.01, decay=1e-6, momentum=0.8), loss='categorical_crossentropy', metrics=['accuracy'])\n",
        "\n",
        "# Save best model\n",
        "best_model_save = ModelCheckpoint('weights.{epoch:02d}-{val_loss:.2f}.h5', save_best_only=True, monitor='val_accuracy', mode='max')\n",
        "\n",
        "# Early stopping\n",
        "early_stopping = EarlyStopping(monitor='val_accuracy', patience=30, verbose=1, mode='max')\n",
        "\n",
        "# Fit model\n",
        "history = model.fit(eng_X_train,eng_y_train, batch_size=64, epochs=200, validation_data=(vie_X_test, vie_y_test), callbacks=[early_stopping, best_model_save])"
      ],
      "execution_count": null,
      "outputs": []
    },
    {
      "cell_type": "code",
      "metadata": {
        "colab": {
          "base_uri": "https://localhost:8080/",
          "height": 295
        },
        "id": "-t88jZcpp7Rz",
        "outputId": "bf717238-6fee-4c63-938a-a87c70e1cfbe"
      },
      "source": [
        "plt.plot(history.history['accuracy'])\n",
        "plt.plot(history.history['val_accuracy'])\n",
        "plt.title('model accuracy')\n",
        "plt.ylabel('accuracy')\n",
        "plt.xlabel('epoch')\n",
        "plt.legend(['train', 'test'], loc='upper left')\n",
        "plt.show()\n"
      ],
      "execution_count": null,
      "outputs": [
        {
          "output_type": "display_data",
          "data": {
            "image/png": "[encoded data removed]",
            "text/plain": [
              "<Figure size 432x288 with 1 Axes>"
            ]
          },
          "metadata": {
            "tags": [],
            "needs_background": "light"
          }
        }
      ]
    },
    {
      "cell_type": "code",
      "metadata": {
        "colab": {
          "base_uri": "https://localhost:8080/",
          "height": 295
        },
        "id": "fb1VVROCp9XE",
        "outputId": "37802be1-09f7-4c88-f29b-bfa69eb9699a"
      },
      "source": [
        "plt.plot(history.history['loss'])\n",
        "plt.plot(history.history['val_loss'])\n",
        "plt.title('model loss')\n",
        "plt.ylabel('loss')\n",
        "plt.xlabel('epoch')\n",
        "plt.legend(['train', 'test'], loc='upper left')\n",
        "plt.show()"
      ],
      "execution_count": null,
      "outputs": [
        {
          "output_type": "display_data",
          "data": {
            "image/png": "[encoded data removed]",
            "text/plain": [
              "<Figure size 432x288 with 1 Axes>"
            ]
          },
          "metadata": {
            "tags": [],
            "needs_background": "light"
          }
        }
      ]
    },
    {
      "cell_type": "code",
      "metadata": {
        "id": "e4KaPic8Wx7E"
      },
      "source": [
        "model = tf.keras.models.load_model('weights.103-2.59.h5')"
      ],
      "execution_count": 16,
      "outputs": []
    },
    {
      "cell_type": "code",
      "metadata": {
        "id": "EuAhs3UzW6KJ"
      },
      "source": [
        "max_pad_len = 49100\n",
        "def predict_emotion_from_file(model, filename, chunk_step=16000, chunk_size=49100, predict_proba=False, sample_rate=16000):\n",
        "        # Read audio file\n",
        "        emotion1={0:'Angry',1:'Happy',2:'Sad',3:'Neutral'}\n",
        "        y, sr = librosa.core.load(filename, sr=sample_rate, offset=0.5)\n",
        "        win_ts = 128\n",
        "        hop_ts = 64\n",
        "        if len(y) < max_pad_len:    \n",
        "          y_padded = np.zeros(max_pad_len)\n",
        "          y_padded[:len(y)] = y\n",
        "          y = y_padded\n",
        "        elif len(y) > max_pad_len:\n",
        "          y = np.asarray(y[:max_pad_len])\n",
        "        # Split audio signals into chunks\n",
        "        chunks = frame(y.reshape(1, 1, -1), chunk_step, chunk_size)\n",
        "        # Reshape chunks\n",
        "        chunks = chunks.reshape(chunks.shape[1],chunks.shape[-1])\n",
        "        # Z-normalization\n",
        "        y = np.asarray(list(map(zscore, chunks)))\n",
        "\n",
        "        # Compute mel spectrogram\n",
        "        mel_spect = np.asarray(list(map(mel_spectrogram, y)))\n",
        "\n",
        "        # Time distributed Framing\n",
        "        mel_spect_ts = frame(mel_spect,hop_ts,win_ts)\n",
        "        # Build X for time distributed CNN\n",
        "        X = mel_spect_ts.reshape(mel_spect_ts.shape[0],\n",
        "                                    mel_spect_ts.shape[1],\n",
        "                                    mel_spect_ts.shape[2],\n",
        "                                    mel_spect_ts.shape[3],\n",
        "                                    1)\n",
        "        # Predict emotion\n",
        "        if predict_proba is True:\n",
        "            predict = model.predict(X)\n",
        "        else:\n",
        "            predict = np.argmax(model.predict(X), axis=1)\n",
        "            predict = [emotion1.get(emotion) for emotion in predict]\n",
        "        return predict\n",
        "#Extract filename and label\n",
        "data_path = '/content/drive/MyDrive/Nhận dạng/Data Voice/Test'\n",
        "emotions=os.listdir(data_path)\n",
        "true_labels = []\n",
        "pred_labels = [] \n",
        "emotion1={0:'Angry',1:'Happy',2:'Sad',3:'Neutral'}\n",
        "\n",
        "for emotion in emotions:\n",
        "   emotion_path = os.path.join(data_path,emotion)\n",
        "   file_names = os.listdir(emotion_path)\n",
        "   for name in file_names:\n",
        "      file_path = os.path.join(emotion_path,name)\n",
        "      pred_labels.append(predict_emotion_from_file(model,file_path)[0])\n",
        "      true_labels.append(emotion1.get(int(name[0])))"
      ],
      "execution_count": 18,
      "outputs": []
    },
    {
      "cell_type": "code",
      "metadata": {
        "id": "jzPVbWAIXB_r",
        "outputId": "72f7bf86-4153-4507-8c2c-bc89cea9f716",
        "colab": {
          "base_uri": "https://localhost:8080/",
          "height": 279
        }
      },
      "source": [
        "from mlxtend.evaluate import confusion_matrix\n",
        "from mlxtend.plotting import plot_confusion_matrix\n",
        "cm = confusion_matrix(y_target=true_labels, \n",
        "                      y_predicted=pred_labels, \n",
        "                      binary=False)\n",
        "\n",
        "fig, ax = plot_confusion_matrix(cm)\n",
        "plt.show()"
      ],
      "execution_count": 19,
      "outputs": [
        {
          "output_type": "display_data",
          "data": {
            "image/png": "[encoded data removed]",
            "text/plain": [
              "<Figure size 432x288 with 1 Axes>"
            ]
          },
          "metadata": {
            "tags": [],
            "needs_background": "light"
          }
        }
      ]
    },
    {
      "cell_type": "code",
      "metadata": {
        "id": "064T0uQGXwmw",
        "outputId": "faa3f600-a131-473f-96ce-804f125ed88d",
        "colab": {
          "base_uri": "https://localhost:8080/"
        }
      },
      "source": [
        "from sklearn.metrics import accuracy_score,f1_score,precision_score,recall_score\n",
        "\n",
        "f1_score(true_labels,pred_labels,average='macro')"
      ],
      "execution_count": 25,
      "outputs": [
        {
          "output_type": "execute_result",
          "data": {
            "text/plain": [
              "0.3526317878691648"
            ]
          },
          "metadata": {
            "tags": []
          },
          "execution_count": 25
        }
      ]
    }
  ]
}