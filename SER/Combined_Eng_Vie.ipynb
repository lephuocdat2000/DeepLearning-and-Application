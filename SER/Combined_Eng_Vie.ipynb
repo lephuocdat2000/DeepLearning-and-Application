{
  "nbformat": 4,
  "nbformat_minor": 0,
  "metadata": {
    "colab": {
      "name": "Combined_Eng_Vie.ipynb",
      "provenance": [],
      "authorship_tag": "ABX9TyNm2rM76VXa9/6kdzfXUBGt",
      "include_colab_link": true
    },
    "kernelspec": {
      "name": "python3",
      "display_name": "Python 3"
    },
    "language_info": {
      "name": "python"
    },
    "accelerator": "GPU"
  },
  "cells": [
    {
      "cell_type": "markdown",
      "metadata": {
        "id": "view-in-github",
        "colab_type": "text"
      },
      "source": [
        "<a href=\"https://colab.research.google.com/github/lephuocdat2000/DeepLearning-and-Application/blob/main/SER/Combined_Eng_Vie.ipynb\" target=\"_parent\"><img src=\"https://colab.research.google.com/assets/colab-badge.svg\" alt=\"Open In Colab\"/></a>"
      ]
    },
    {
      "cell_type": "code",
      "metadata": {
        "colab": {
          "base_uri": "https://localhost:8080/"
        },
        "id": "1zuqdgUiqa1_",
        "outputId": "2e002a83-b6f4-41b5-a4fc-b99617d2b96a"
      },
      "source": [
        "from google.colab import drive\n",
        "drive.mount('/content/drive')"
      ],
      "execution_count": 1,
      "outputs": [
        {
          "output_type": "stream",
          "text": [
            "Mounted at /content/drive\n"
          ],
          "name": "stdout"
        }
      ]
    },
    {
      "cell_type": "code",
      "metadata": {
        "id": "lnMt--ppqhDO"
      },
      "source": [
        "import scipy.io.wavfile\n",
        "import numpy as np\n",
        "import sys\n",
        "import glob \n",
        "import librosa\n",
        "import os\n",
        "import matplotlib.pyplot as plt\n",
        "from scipy.stats import zscore\n",
        "from IPython.display import Audio\n",
        "### Time Distributed ConvNet imports ###\n",
        "import tensorflow as tf\n",
        "from tensorflow.keras.models import Sequential, Model\n",
        "from tensorflow.keras.layers import Input, Dense, Dropout, Activation, TimeDistributed, concatenate\n",
        "from tensorflow.keras.layers import Conv2D, MaxPooling2D, AveragePooling2D, BatchNormalization, LeakyReLU, Flatten\n",
        "from tensorflow.keras.layers import LSTM\n",
        "from tensorflow.keras.optimizers import Adam, SGD\n",
        "from tensorflow.keras.callbacks import EarlyStopping, ModelCheckpoint, ReduceLROnPlateau\n",
        "from tensorflow.keras import backend as K\n",
        "from keras.utils import np_utils\n",
        "from keras.utils.vis_utils import plot_model\n",
        "from sklearn.preprocessing import LabelEncoder\n",
        "from IPython.display import Image\n",
        "from glob import glob\n",
        "import pickle\n",
        "import itertools\n",
        "from sklearn.model_selection import train_test_split\n",
        "from PIL import Image\n",
        "from numpy import load\n",
        "### Audioimport ###\n",
        "import IPython\n",
        "\n",
        "### Warning ###\n",
        "import warnings\n",
        "warnings.filterwarnings('ignore')"
      ],
      "execution_count": 2,
      "outputs": []
    },
    {
      "cell_type": "markdown",
      "metadata": {
        "id": "fpM5loWWqqvk"
      },
      "source": [
        "#Prepare Data"
      ]
    },
    {
      "cell_type": "markdown",
      "metadata": {
        "id": "kB_QJErZq7w_"
      },
      "source": [
        "Load Vie-Dataset"
      ]
    },
    {
      "cell_type": "code",
      "metadata": {
        "id": "4t4xy6m4qndP"
      },
      "source": [
        "vie_vie_X_test = load('/content/drive/MyDrive/Nhận dạng/vie-vie/vie_vie_X_test.npy')\n",
        "vie_vie_X_train = load('/content/drive/MyDrive/Nhận dạng/vie-vie/vie_vie_X_train.npy')\n",
        "vie_vie_y_test = load('/content/drive/MyDrive/Nhận dạng/vie-vie/vie_vie_y_test.npy')\n",
        "vie_vie_y_train = load('/content/drive/MyDrive/Nhận dạng/vie-vie/vie_vie_y_train.npy')"
      ],
      "execution_count": 3,
      "outputs": []
    },
    {
      "cell_type": "markdown",
      "metadata": {
        "id": "0xxxdHiRrjGN"
      },
      "source": [
        "Load Eng-Dataset"
      ]
    },
    {
      "cell_type": "code",
      "metadata": {
        "id": "BObsTUEarbzl"
      },
      "source": [
        "eng_vie_X_train = load('/content/drive/MyDrive/Nhận dạng/eng-vie/eng-vie_X_train.npy')\n",
        "eng_vie_y_train = load('/content/drive/MyDrive/Nhận dạng/eng-vie/eng-vie_y_train.npy')"
      ],
      "execution_count": 4,
      "outputs": []
    },
    {
      "cell_type": "code",
      "metadata": {
        "id": "YWm3AQJtrvfS"
      },
      "source": [
        "#Time distributed parameters\n",
        "win_ts = 128\n",
        "hop_ts = 64\n",
        "\n",
        "# Split spectrogram into frames\n",
        "def frame(x, win_step=128, win_size=64):\n",
        "    nb_frames = 1 + int((x.shape[2] - win_size) / win_step)\n",
        "    frames = np.zeros((x.shape[0], nb_frames, x.shape[1], win_size)).astype(np.float32)\n",
        "    for t in range(nb_frames):\n",
        "        frames[:,t,:,:] = np.copy(x[:,:,(t * win_step):(t * win_step + win_size)]).astype(np.float32)\n",
        "    return frames\n",
        "\n",
        "eng_vie_X_train = frame(eng_vie_X_train, hop_ts, win_ts)"
      ],
      "execution_count": 5,
      "outputs": []
    },
    {
      "cell_type": "markdown",
      "metadata": {
        "id": "c7cdB4LSsNK5"
      },
      "source": [
        "Combine Dataset"
      ]
    },
    {
      "cell_type": "code",
      "metadata": {
        "id": "KD6uwxWYsMCb"
      },
      "source": [
        "X_ = np.concatenate((vie_vie_X_test,vie_vie_X_train,eng_vie_X_train))\n",
        "y_ = np.concatenate((vie_vie_y_test,vie_vie_y_train,eng_vie_y_train))\n",
        "\n",
        "#Split train and test set\n",
        "X_train,X_test,y_train,y_test = train_test_split(X_,y_,test_size=0.2,random_state=42)"
      ],
      "execution_count": 6,
      "outputs": []
    },
    {
      "cell_type": "markdown",
      "metadata": {
        "id": "ATMoZ3dMtOvG"
      },
      "source": [
        "Encoding"
      ]
    },
    {
      "cell_type": "code",
      "metadata": {
        "id": "zFg32Uz7tORm"
      },
      "source": [
        "#Encode label\n",
        "lb = LabelEncoder()\n",
        "y_train = np_utils.to_categorical(lb.fit_transform(np.ravel(y_train)))\n",
        "y_test = np_utils.to_categorical(lb.transform(np.ravel(y_test)))\n",
        "\n",
        "X_train = X_train.reshape(X_train.shape[0], X_train.shape[1] , X_train.shape[2], X_train.shape[3], 1)\n",
        "X_test = X_test.reshape(X_test.shape[0],X_test.shape[1] ,X_test.shape[2], X_test.shape[3], 1)"
      ],
      "execution_count": 7,
      "outputs": []
    },
    {
      "cell_type": "markdown",
      "metadata": {
        "id": "vGAEH8WAtBk1"
      },
      "source": [
        "#Training"
      ]
    },
    {
      "cell_type": "markdown",
      "metadata": {
        "id": "dXVUsvYntDbw"
      },
      "source": [
        "Define model"
      ]
    },
    {
      "cell_type": "code",
      "metadata": {
        "id": "H7XZQQ9yGNRj"
      },
      "source": [
        "from IPython.display import Image\n",
        "\n",
        "K.clear_session()\n",
        "\n",
        "# Define two sets of inputs: MFCC and FBANK\n",
        "input_y = Input(shape=X_train.shape[1:], name='Input_MELSPECT')\n",
        "\n",
        "## First LFLB (local feature learning block)\n",
        "y = TimeDistributed(Conv2D(64, kernel_size=(3, 3), strides=(1, 1), padding='same'), name='Conv_1_MELSPECT')(input_y)\n",
        "y = TimeDistributed(BatchNormalization(), name='BatchNorm_1_MELSPECT')(y)\n",
        "y = TimeDistributed(Activation('elu'), name='Activ_1_MELSPECT')(y)\n",
        "y = TimeDistributed(MaxPooling2D(pool_size=(2, 2), strides=(2, 2), padding='same'), name='MaxPool_1_MELSPECT')(y)\n",
        "y = TimeDistributed(Dropout(0.2), name='Drop_1_MELSPECT')(y)     \n",
        "\n",
        "## Second LFLB (local feature learning block)\n",
        "y = TimeDistributed(Conv2D(64, kernel_size=(3, 3), strides=(1, 1), padding='same'), name='Conv_2_MELSPECT')(y)\n",
        "y = TimeDistributed(BatchNormalization(), name='BatchNorm_2_MELSPECT')(y)\n",
        "y = TimeDistributed(Activation('elu'), name='Activ_2_MELSPECT')(y)\n",
        "y = TimeDistributed(MaxPooling2D(pool_size=(4, 4), strides=(4, 4), padding='same'), name='MaxPool_2_MELSPECT')(y)\n",
        "y = TimeDistributed(Dropout(0.2), name='Drop_2_MELSPECT')(y)\n",
        "\n",
        "## Second LFLB (local feature learning block)\n",
        "y = TimeDistributed(Conv2D(128, kernel_size=(3, 3), strides=(1, 1), padding='same'), name='Conv_3_MELSPECT')(y)\n",
        "y = TimeDistributed(BatchNormalization(), name='BatchNorm_3_MELSPECT')(y)\n",
        "y = TimeDistributed(Activation('elu'), name='Activ_3_MELSPECT')(y)\n",
        "y = TimeDistributed(MaxPooling2D(pool_size=(4, 4), strides=(4, 4), padding='same'), name='MaxPool_3_MELSPECT')(y)\n",
        "y = TimeDistributed(Dropout(0.2), name='Drop_3_MELSPECT')(y)\n",
        "\n",
        "## Second LFLB (local feature learning block)\n",
        "y = TimeDistributed(Conv2D(128, kernel_size=(3, 3), strides=(1, 1), padding='same'), name='Conv_4_MELSPECT')(y)\n",
        "y = TimeDistributed(BatchNormalization(), name='BatchNorm_4_MELSPECT')(y)\n",
        "y = TimeDistributed(Activation('elu'), name='Activ_4_MELSPECT')(y)\n",
        "y = TimeDistributed(MaxPooling2D(pool_size=(4, 4), strides=(4, 4), padding='same'), name='MaxPool_4_MELSPECT')(y)\n",
        "y = TimeDistributed(Dropout(0.2), name='Drop_4_MELSPECT')(y)  \n",
        "\n",
        "## Flat\n",
        "y = TimeDistributed(Flatten(), name='Flat_MELSPECT')(y)                      \n",
        "                               \n",
        "# Apply 2 LSTM layer and one FC\n",
        "y = LSTM(256, return_sequences=False, dropout=0.2, name='LSTM_1')(y)\n",
        "y = Dense(y_train.shape[1], activation='softmax', name='FC')(y)\n",
        "\n",
        "# Build final model\n",
        "model = Model(inputs=input_y, outputs=y)\n",
        "\n",
        "# Plot model graph\n",
        "plot_model(model, show_shapes=True, show_layer_names=True, to_file='model.png')\n",
        "Image(retina=True, filename='model.png')"
      ],
      "execution_count": null,
      "outputs": []
    },
    {
      "cell_type": "code",
      "metadata": {
        "colab": {
          "base_uri": "https://localhost:8080/"
        },
        "id": "PoeBMJjJzibe",
        "outputId": "2ba7b3aa-a9ff-450e-e273-cc4579e155ce"
      },
      "source": [
        "cd /content/drive/MyDrive/Nhận dạng/combined_model"
      ],
      "execution_count": 10,
      "outputs": [
        {
          "output_type": "stream",
          "text": [
            "/content/drive/MyDrive/Nhận dạng/combined_model\n"
          ],
          "name": "stdout"
        }
      ]
    },
    {
      "cell_type": "code",
      "metadata": {
        "id": "kEpT4LJfGK3M"
      },
      "source": [
        "# Compile model\n",
        "model.compile(optimizer=SGD(lr=0.01, decay=1e-6, momentum=0.8), loss='categorical_crossentropy', metrics=['accuracy'])\n",
        "\n",
        "# Save best model\n",
        "best_model_save = ModelCheckpoint('weights.{epoch:02d}-{val_loss:.2f}.h5', save_best_only=True, monitor='val_accuracy', mode='max')\n",
        "\n",
        "# Early stopping\n",
        "early_stopping = EarlyStopping(monitor='val_accuracy', patience=40, verbose=1, mode='max')\n",
        "\n",
        "# Fit model\n",
        "history = model.fit(X_train,y_train, batch_size=64, epochs=200, validation_data=(X_test, y_test), callbacks=[early_stopping, best_model_save])"
      ],
      "execution_count": null,
      "outputs": []
    },
    {
      "cell_type": "markdown",
      "metadata": {
        "id": "XH7slhQRt_hg"
      },
      "source": [
        "Compile"
      ]
    },
    {
      "cell_type": "code",
      "metadata": {
        "colab": {
          "base_uri": "https://localhost:8080/",
          "height": 295
        },
        "id": "QWjwY6jvBHDE",
        "outputId": "9e188225-f55a-4481-95ec-ef8e214e6bd6"
      },
      "source": [
        "plt.plot(history.history['accuracy'])\n",
        "plt.plot(history.history['val_accuracy'])\n",
        "plt.title('model accuracy')\n",
        "plt.ylabel('accuracy')\n",
        "plt.xlabel('epoch')\n",
        "plt.legend(['train', 'test'], loc='upper left')\n",
        "plt.show()"
      ],
      "execution_count": 14,
      "outputs": [
        {
          "output_type": "display_data",
          "data": {
            "image/png": "[encoded data removed]",
            "text/plain": [
              "<Figure size 432x288 with 1 Axes>"
            ]
          },
          "metadata": {
            "tags": [],
            "needs_background": "light"
          }
        }
      ]
    },
    {
      "cell_type": "markdown",
      "metadata": {
        "id": "u5xFXM4PCdUM"
      },
      "source": [
        "#Predict"
      ]
    },
    {
      "cell_type": "markdown",
      "metadata": {
        "id": "a_hakwFdCrD-"
      },
      "source": [
        "Function"
      ]
    },
    {
      "cell_type": "code",
      "metadata": {
        "id": "DTxDGos8CeNp"
      },
      "source": [
        "sample_rate = 16000     \n",
        "max_pad_len = 49100\n",
        "\n",
        "def mel_spectrogram(y, sr=16000, n_fft=512, win_length=256, hop_length=128, window='hamming', n_mels=128, fmax=4000):\n",
        "    \n",
        "    # Compute spectogram\n",
        "    mel_spect = np.abs(librosa.stft(y, n_fft=n_fft, window=window, win_length=win_length, hop_length=hop_length)) ** 2\n",
        "    \n",
        "    # Compute mel spectrogram\n",
        "    mel_spect = librosa.feature.melspectrogram(S=mel_spect, sr=sr, n_mels=n_mels, fmax=fmax)\n",
        "    \n",
        "    # Compute log-mel spectrogram\n",
        "    mel_spect = librosa.power_to_db(mel_spect, ref=np.max)\n",
        "    \n",
        "    return mel_spect\n",
        "\n",
        "def predict_emotion_from_file(model, filename, chunk_step=16000, chunk_size=49100, predict_proba=False, sample_rate=16000):\n",
        "        # Read audio file\n",
        "        emotion1={0:'Angry',1:'Happy',2:'Sad',3:'Neutral'}\n",
        "        y, sr = librosa.core.load(filename, sr=sample_rate, offset=0.5)\n",
        "        win_ts = 128\n",
        "        hop_ts = 64\n",
        "        if len(y) < max_pad_len:    \n",
        "          y_padded = np.zeros(max_pad_len)\n",
        "          y_padded[:len(y)] = y\n",
        "          y = y_padded\n",
        "        elif len(y) > max_pad_len:\n",
        "          y = np.asarray(y[:max_pad_len])\n",
        "        # Split audio signals into chunks\n",
        "        chunks = frame(y.reshape(1, 1, -1), chunk_step, chunk_size)\n",
        "        # Reshape chunks\n",
        "        chunks = chunks.reshape(chunks.shape[1],chunks.shape[-1])\n",
        "\n",
        "        # Z-normalization\n",
        "        y = np.asarray(list(map(zscore, chunks)))\n",
        "\n",
        "        # Compute mel spectrogram\n",
        "        mel_spect = np.asarray(list(map(mel_spectrogram, y)))\n",
        "\n",
        "        # Time distributed Framing\n",
        "        mel_spect_ts = frame(mel_spect,hop_ts,win_ts)\n",
        "        # Build X for time distributed CNN\n",
        "        X = mel_spect_ts.reshape(mel_spect_ts.shape[0],\n",
        "                                    mel_spect_ts.shape[1],\n",
        "                                    mel_spect_ts.shape[2],\n",
        "                                    mel_spect_ts.shape[3],\n",
        "                                    1)\n",
        "        # Predict emotion\n",
        "        if predict_proba is True:\n",
        "            predict = model.predict(X)\n",
        "        else:\n",
        "            predict = np.argmax(model.predict(X), axis=1)\n",
        "            print(predict)\n",
        "            predict = [emotion1.get(emotion) for emotion in predict]\n",
        "        return predict"
      ],
      "execution_count": 25,
      "outputs": []
    },
    {
      "cell_type": "code",
      "metadata": {
        "colab": {
          "base_uri": "https://localhost:8080/"
        },
        "id": "xyNAIYahDSMn",
        "outputId": "82a0ad6f-9f95-4bef-fb6d-96fbe5f5dd41"
      },
      "source": [
        "filepath = '/content/drive/MyDrive/Nhận dạng/new_data'\n",
        "filenames = os.listdir(filepath)\n",
        "labels = []\n",
        "pred_labels = []\n",
        "for name in filenames:\n",
        "   print(name)\n",
        "   labels.append(name[0])\n",
        "   path = os.path.join(filepath,name)\n",
        "   pred_labels.append(predict_emotion_from_file(model,filename=path))"
      ],
      "execution_count": 27,
      "outputs": [
        {
          "output_type": "stream",
          "text": [
            "1_1.wav\n",
            "[1]\n",
            "0_0.wav\n",
            "[1]\n",
            "0_1.wav\n",
            "[1]\n",
            "1_0.wav\n",
            "[2]\n",
            "2_0.wav\n",
            "[1]\n",
            "2_1.wav\n",
            "[1]\n",
            "1_2.wav\n",
            "[1]\n",
            "2_2.wav\n",
            "[2]\n"
          ],
          "name": "stdout"
        }
      ]
    }
  ]
}