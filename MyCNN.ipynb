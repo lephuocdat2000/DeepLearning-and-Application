{
  "nbformat": 4,
  "nbformat_minor": 0,
  "metadata": {
    "colab": {
      "name": "Untitled128.ipynb",
      "provenance": [],
      "authorship_tag": "ABX9TyMp/w6L+rFttOinHmjV19R5",
      "include_colab_link": true
    },
    "kernelspec": {
      "name": "python3",
      "display_name": "Python 3"
    },
    "language_info": {
      "name": "python"
    }
  },
  "cells": [
    {
      "cell_type": "markdown",
      "metadata": {
        "id": "view-in-github",
        "colab_type": "text"
      },
      "source": [
        "<a href=\"https://colab.research.google.com/github/lephuocdat2000/DeepLearning-and-Application/blob/main/MyCNN.ipynb\" target=\"_parent\"><img src=\"https://colab.research.google.com/assets/colab-badge.svg\" alt=\"Open In Colab\"/></a>"
      ]
    },
    {
      "cell_type": "code",
      "metadata": {
        "id": "a4SLG4s-30Ld"
      },
      "source": [
        "from keras.layers import Input, Conv2D, Dense, MaxPooling2D, Flatten\n",
        "from keras import Model\n",
        "\n",
        "class CNN:\n",
        "  def __init__(self):\n",
        "    self.model = None\n",
        "\n",
        "  # Build architecture of the network\n",
        "  def build(self, input_dim):\n",
        "    input = Input(shape=input_dim)\n",
        "    # Convolution block\n",
        "    C1 = Conv2D(3, (3, 3), padding=\"same\", activation='relu', use_bias=True)(input)\n",
        "    # Fully Connected block\n",
        "    flat = Flatten()(C1)\n",
        "    FC1 = Dense(120, activation='relu', use_bias=True)(flat)\n",
        "    FC2 = Dense(84, activation='relu', use_bias=True)(FC1)\n",
        "    output = Dense(10, activation='softmax', use_bias=True)(FC2)\n",
        "    self.model = Model(input, output)\n",
        "    self.model.compile(optimizer=\"sgd\", loss='categorical_crossentropy', metrics=['accuracy'])\n",
        "  \n",
        "  # Train the given architecture with data\n",
        "  def train(self, x_train, y_train):\n",
        "    history = self.model.fit(x_train, y_train, batch_size=128, epochs=10, validation_split=0.2)\n",
        "    return history\n",
        "\n",
        "  def predict(self, x_test):\n",
        "    return self.model.predict(x_test)\n",
        "\n",
        "  def summary(self):\n",
        "    self.model.summary()\n",
        "\n",
        "  def load(self, model_file):\n",
        "    self.model = load_model(model_file)\n",
        "\n",
        "  def save(self, model_file):\n",
        "    self.model.save(model_file)"
      ],
      "execution_count": 27,
      "outputs": []
    },
    {
      "cell_type": "code",
      "metadata": {
        "id": "R4TpSJKA3_yo"
      },
      "source": [
        "# Prepare data\n",
        "from keras.datasets import mnist\n",
        "import numpy as np\n",
        "\n",
        "(x_train, y_train), (x_test, y_test) = mnist.load_data()\n",
        "\n",
        "# Normalize data\n",
        "x_train_norm = x_train / 255.0 # Attention here: use 255.0 instead of 255\n",
        "x_test_norm = x_test / 255.0 \n",
        "\n",
        "# Convert to one-hot vector\n",
        "def onehot(y):\n",
        "  oh = np.zeros((y.shape[0], 10))\n",
        "  oh[np.arange(y.shape[0]), y] = 1\n",
        "  return oh\n",
        "\n",
        "y_train_oh = onehot(y_train)\n",
        "y_test_oh = onehot(y_test)"
      ],
      "execution_count": 11,
      "outputs": []
    },
    {
      "cell_type": "code",
      "metadata": {
        "colab": {
          "base_uri": "https://localhost:8080/",
          "height": 298
        },
        "id": "Xr2QCDLv4MQ7",
        "outputId": "e43c911d-1598-4f12-d1f0-73ebe18cce47"
      },
      "source": [
        "import matplotlib.pyplot as plt\n",
        "index = 1000\n",
        "print(y_train_oh[index])\n",
        "plt.imshow(x_train_norm[index])\n",
        "print('Size of input: ', x_train_norm.shape)"
      ],
      "execution_count": 12,
      "outputs": [
        {
          "output_type": "stream",
          "text": [
            "[1. 0. 0. 0. 0. 0. 0. 0. 0. 0.]\n",
            "Size of input:  (60000, 28, 28)\n"
          ],
          "name": "stdout"
        },
        {
          "output_type": "display_data",
          "data": {
            "image/png": "[encoded data removed]",
            "text/plain": [
              "<Figure size 432x288 with 1 Axes>"
            ]
          },
          "metadata": {
            "tags": [],
            "needs_background": "light"
          }
        }
      ]
    },
    {
      "cell_type": "code",
      "metadata": {
        "colab": {
          "base_uri": "https://localhost:8080/"
        },
        "id": "MtM9NvXm4Of_",
        "outputId": "414003df-76f0-438e-8828-58ec24ebfc40"
      },
      "source": [
        "CNN = CNN()\n",
        "CNN.build((28, 28, 1))\n",
        "CNN.summary()\n",
        "hist = CNN.train(x_train_norm, y_train_oh)"
      ],
      "execution_count": 28,
      "outputs": [
        {
          "output_type": "stream",
          "text": [
            "Model: \"model\"\n",
            "_________________________________________________________________\n",
            "Layer (type)                 Output Shape              Param #   \n",
            "=================================================================\n",
            "input_8 (InputLayer)         [(None, 28, 28, 1)]       0         \n",
            "_________________________________________________________________\n",
            "conv2d_7 (Conv2D)            (None, 28, 28, 3)         30        \n",
            "_________________________________________________________________\n",
            "flatten_7 (Flatten)          (None, 2352)              0         \n",
            "_________________________________________________________________\n",
            "dense_14 (Dense)             (None, 120)               282360    \n",
            "_________________________________________________________________\n",
            "dense_15 (Dense)             (None, 84)                10164     \n",
            "_________________________________________________________________\n",
            "dense_16 (Dense)             (None, 10)                850       \n",
            "=================================================================\n",
            "Total params: 293,404\n",
            "Trainable params: 293,404\n",
            "Non-trainable params: 0\n",
            "_________________________________________________________________\n",
            "Epoch 1/10\n",
            "375/375 [==============================] - 13s 33ms/step - loss: 1.8408 - accuracy: 0.3992 - val_loss: 0.3594 - val_accuracy: 0.8986\n",
            "Epoch 2/10\n",
            "375/375 [==============================] - 12s 33ms/step - loss: 0.3536 - accuracy: 0.8967 - val_loss: 0.2730 - val_accuracy: 0.9206\n",
            "Epoch 3/10\n",
            "375/375 [==============================] - 12s 32ms/step - loss: 0.2691 - accuracy: 0.9223 - val_loss: 0.2266 - val_accuracy: 0.9347\n",
            "Epoch 4/10\n",
            "375/375 [==============================] - 12s 32ms/step - loss: 0.2348 - accuracy: 0.9322 - val_loss: 0.2019 - val_accuracy: 0.9417\n",
            "Epoch 5/10\n",
            "375/375 [==============================] - 12s 32ms/step - loss: 0.1956 - accuracy: 0.9435 - val_loss: 0.1794 - val_accuracy: 0.9492\n",
            "Epoch 6/10\n",
            "375/375 [==============================] - 12s 32ms/step - loss: 0.1748 - accuracy: 0.9478 - val_loss: 0.1639 - val_accuracy: 0.9543\n",
            "Epoch 7/10\n",
            "375/375 [==============================] - 12s 32ms/step - loss: 0.1561 - accuracy: 0.9543 - val_loss: 0.1494 - val_accuracy: 0.9563\n",
            "Epoch 8/10\n",
            "375/375 [==============================] - 12s 32ms/step - loss: 0.1455 - accuracy: 0.9575 - val_loss: 0.1409 - val_accuracy: 0.9595\n",
            "Epoch 9/10\n",
            "375/375 [==============================] - 12s 32ms/step - loss: 0.1346 - accuracy: 0.9595 - val_loss: 0.1436 - val_accuracy: 0.9577\n",
            "Epoch 10/10\n",
            "375/375 [==============================] - 12s 32ms/step - loss: 0.1231 - accuracy: 0.9637 - val_loss: 0.1273 - val_accuracy: 0.9628\n"
          ],
          "name": "stdout"
        }
      ]
    },
    {
      "cell_type": "code",
      "metadata": {
        "colab": {
          "base_uri": "https://localhost:8080/",
          "height": 279
        },
        "id": "8ZVG8mwm4wow",
        "outputId": "c0f3e53b-5d1f-4efd-8ed4-375eac2f3443"
      },
      "source": [
        "plt.plot(hist.history['loss'])\n",
        "plt.plot(hist.history['val_loss'])\n",
        "plt.legend(['train_loss', 'val_loss'])\n",
        "plt.xlabel('#epochs')\n",
        "plt.ylabel('loss')\n",
        "plt.show()"
      ],
      "execution_count": 29,
      "outputs": [
        {
          "output_type": "display_data",
          "data": {
            "image/png": "[encoded data removed]",
            "text/plain": [
              "<Figure size 432x288 with 1 Axes>"
            ]
          },
          "metadata": {
            "tags": [],
            "needs_background": "light"
          }
        }
      ]
    },
    {
      "cell_type": "code",
      "metadata": {
        "colab": {
          "base_uri": "https://localhost:8080/",
          "height": 298
        },
        "id": "f2iebZMw7eor",
        "outputId": "36a6f964-1a3e-4c78-e9cd-5e11be754321"
      },
      "source": [
        "pred = CNN.predict(x_test_norm)\n",
        "index = 10\n",
        "print('Predicted label: ', np.argmax(pred[index]))\n",
        "plt.imshow(x_test_norm[index])"
      ],
      "execution_count": 32,
      "outputs": [
        {
          "output_type": "stream",
          "text": [
            "Predicted label:  0\n"
          ],
          "name": "stdout"
        },
        {
          "output_type": "execute_result",
          "data": {
            "text/plain": [
              "<matplotlib.image.AxesImage at 0x7fb5af446a50>"
            ]
          },
          "metadata": {
            "tags": []
          },
          "execution_count": 32
        },
        {
          "output_type": "display_data",
          "data": {
            "image/png": "[encoded data removed]",
            "text/plain": [
              "<Figure size 432x288 with 1 Axes>"
            ]
          },
          "metadata": {
            "tags": [],
            "needs_background": "light"
          }
        }
      ]
    }
  ]
}