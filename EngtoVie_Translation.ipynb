{
  "nbformat": 4,
  "nbformat_minor": 0,
  "metadata": {
    "colab": {
      "name": "Untitled155.ipynb",
      "provenance": [],
      "authorship_tag": "ABX9TyPg72JKGaVOMOeU1KxIB0m/",
      "include_colab_link": true
    },
    "kernelspec": {
      "name": "python3",
      "display_name": "Python 3"
    },
    "language_info": {
      "name": "python"
    },
    "accelerator": "GPU"
  },
  "cells": [
    {
      "cell_type": "markdown",
      "metadata": {
        "id": "view-in-github",
        "colab_type": "text"
      },
      "source": [
        "<a href=\"https://colab.research.google.com/github/lephuocdat2000/DeepLearning-and-Application/blob/main/EngtoVie_Translation.ipynb\" target=\"_parent\"><img src=\"https://colab.research.google.com/assets/colab-badge.svg\" alt=\"Open In Colab\"/></a>"
      ]
    },
    {
      "cell_type": "markdown",
      "metadata": {
        "id": "xVWH6dzCMVxr"
      },
      "source": [
        "#Preparing Data"
      ]
    },
    {
      "cell_type": "markdown",
      "metadata": {
        "id": "-ZC4JKq7Mdgd"
      },
      "source": [
        "###1, Import libraries"
      ]
    },
    {
      "cell_type": "code",
      "metadata": {
        "id": "ZqmRCsErMPkr"
      },
      "source": [
        "import numpy as np\n",
        "import tensorflow as tf\n",
        "from tensorflow.keras import layers , activations , models , preprocessing , utils\n",
        "import pandas as pd\n",
        "\n"
      ],
      "execution_count": 1,
      "outputs": []
    },
    {
      "cell_type": "markdown",
      "metadata": {
        "id": "xkA_IyfWMj8Z"
      },
      "source": [
        "###2, Reading the data"
      ]
    },
    {
      "cell_type": "code",
      "metadata": {
        "colab": {
          "base_uri": "https://localhost:8080/"
        },
        "id": "qwf6sbbPMiy7",
        "outputId": "ca920526-a6af-403c-e2aa-7d7d9f683562"
      },
      "source": [
        "!wget http://www.manythings.org/anki/vie-eng.zip -O viet-eng.zip\n",
        "!unzip viet-eng.zip"
      ],
      "execution_count": 2,
      "outputs": [
        {
          "output_type": "stream",
          "text": [
            "--2021-06-21 02:51:42--  http://www.manythings.org/anki/vie-eng.zip\n",
            "Resolving www.manythings.org (www.manythings.org)... 104.21.55.222, 172.67.173.198, 2606:4700:3031::6815:37de, ...\n",
            "Connecting to www.manythings.org (www.manythings.org)|104.21.55.222|:80... connected.\n",
            "HTTP request sent, awaiting response... 200 OK\n",
            "Length: 297648 (291K) [application/zip]\n",
            "Saving to: ‘viet-eng.zip’\n",
            "\n",
            "viet-eng.zip        100%[===================>] 290.67K  1015KB/s    in 0.3s    \n",
            "\n",
            "2021-06-21 02:51:43 (1015 KB/s) - ‘viet-eng.zip’ saved [297648/297648]\n",
            "\n",
            "Archive:  viet-eng.zip\n",
            "  inflating: _about.txt              \n",
            "  inflating: vie.txt                 \n"
          ],
          "name": "stdout"
        }
      ]
    },
    {
      "cell_type": "code",
      "metadata": {
        "id": "K0lTlrbeM2qQ"
      },
      "source": [
        "lines = pd.read_table( 'vie.txt' , names=[ 'eng' , 'vie' ] )\n",
        "lines.reset_index( level=0 , inplace=True)\n",
        "lines.rename( columns={ 'index' : 'eng' , 'eng' : 'vie' , 'vie' : 'c' } , inplace=True )\n",
        "lines = lines.drop('c',1)"
      ],
      "execution_count": 3,
      "outputs": []
    },
    {
      "cell_type": "code",
      "metadata": {
        "colab": {
          "base_uri": "https://localhost:8080/",
          "height": 203
        },
        "id": "7Y2jqbuzOOAc",
        "outputId": "946503f8-9730-4222-ccf8-eeb9c6816c21"
      },
      "source": [
        "lines.head()"
      ],
      "execution_count": 4,
      "outputs": [
        {
          "output_type": "execute_result",
          "data": {
            "text/html": [
              "<div>\n",
              "<style scoped>\n",
              "    .dataframe tbody tr th:only-of-type {\n",
              "        vertical-align: middle;\n",
              "    }\n",
              "\n",
              "    .dataframe tbody tr th {\n",
              "        vertical-align: top;\n",
              "    }\n",
              "\n",
              "    .dataframe thead th {\n",
              "        text-align: right;\n",
              "    }\n",
              "</style>\n",
              "<table border=\"1\" class=\"dataframe\">\n",
              "  <thead>\n",
              "    <tr style=\"text-align: right;\">\n",
              "      <th></th>\n",
              "      <th>eng</th>\n",
              "      <th>vie</th>\n",
              "    </tr>\n",
              "  </thead>\n",
              "  <tbody>\n",
              "    <tr>\n",
              "      <th>0</th>\n",
              "      <td>Run!</td>\n",
              "      <td>Chạy!</td>\n",
              "    </tr>\n",
              "    <tr>\n",
              "      <th>1</th>\n",
              "      <td>Help!</td>\n",
              "      <td>Giúp tôi với!</td>\n",
              "    </tr>\n",
              "    <tr>\n",
              "      <th>2</th>\n",
              "      <td>Go on.</td>\n",
              "      <td>Tiếp tục đi.</td>\n",
              "    </tr>\n",
              "    <tr>\n",
              "      <th>3</th>\n",
              "      <td>Hello!</td>\n",
              "      <td>Chào bạn.</td>\n",
              "    </tr>\n",
              "    <tr>\n",
              "      <th>4</th>\n",
              "      <td>Hurry!</td>\n",
              "      <td>Nhanh lên nào!</td>\n",
              "    </tr>\n",
              "  </tbody>\n",
              "</table>\n",
              "</div>"
            ],
            "text/plain": [
              "      eng             vie\n",
              "0    Run!           Chạy!\n",
              "1   Help!   Giúp tôi với!\n",
              "2  Go on.    Tiếp tục đi.\n",
              "3  Hello!       Chào bạn.\n",
              "4  Hurry!  Nhanh lên nào!"
            ]
          },
          "metadata": {
            "tags": []
          },
          "execution_count": 4
        }
      ]
    },
    {
      "cell_type": "markdown",
      "metadata": {
        "id": "kCe8LcxnPPAD"
      },
      "source": [
        "### 3) Preparing input data for the Encoder ( `encoder_input_data` )"
      ]
    },
    {
      "cell_type": "code",
      "metadata": {
        "id": "vxZGuQJCNxV5"
      },
      "source": [
        "eng_lines = list()\n",
        "for line in lines.eng:\n",
        "    eng_lines.append( line ) \n",
        "\n",
        "tokenizer = preprocessing.text.Tokenizer()  \n",
        "tokenizer.fit_on_texts( eng_lines ) \n",
        "tokenized_eng_lines = tokenizer.texts_to_sequences( eng_lines ) \n",
        "\n",
        "length_list = list()\n",
        "for token_seq in tokenized_eng_lines:\n",
        "    length_list.append( len( token_seq ))\n",
        "max_input_length = np.array( length_list ).max()\n",
        "padded_eng_lines = preprocessing.sequence.pad_sequences( tokenized_eng_lines , maxlen=max_input_length , padding='post' )\n",
        "encoder_input_data = np.array( padded_eng_lines )\n",
        "\n",
        "eng_word_dict = tokenizer.word_index\n",
        "num_eng_tokens = len( eng_word_dict )+1"
      ],
      "execution_count": 5,
      "outputs": []
    },
    {
      "cell_type": "code",
      "metadata": {
        "id": "3O2Q7kAWi5Om"
      },
      "source": [
        "tokenized_eng_lines"
      ],
      "execution_count": null,
      "outputs": []
    },
    {
      "cell_type": "markdown",
      "metadata": {
        "id": "X9yDB0JxROL3"
      },
      "source": [
        "### 4) Preparing input data for the Decoder ( `decoder_input_data` )"
      ]
    },
    {
      "cell_type": "code",
      "metadata": {
        "colab": {
          "base_uri": "https://localhost:8080/"
        },
        "id": "YdPOTeojT9hv",
        "outputId": "354aa99d-6624-4f7b-876e-e4fd6bad00f1"
      },
      "source": [
        "!pip install underthesea"
      ],
      "execution_count": 6,
      "outputs": [
        {
          "output_type": "stream",
          "text": [
            "Collecting underthesea\n",
            "\u001b[?25l  Downloading https://files.pythonhosted.org/packages/a8/5f/03ab9091b88e7851aa92da33f8eea6f111423cc1194cf1636c63c1fff3d0/underthesea-1.3.1-py3-none-any.whl (7.5MB)\n",
            "\u001b[K     |████████████████████████████████| 7.5MB 9.0MB/s \n",
            "\u001b[?25hCollecting python-crfsuite>=0.9.6\n",
            "\u001b[?25l  Downloading https://files.pythonhosted.org/packages/79/47/58f16c46506139f17de4630dbcfb877ce41a6355a1bbf3c443edb9708429/python_crfsuite-0.9.7-cp37-cp37m-manylinux1_x86_64.whl (743kB)\n",
            "\u001b[K     |████████████████████████████████| 747kB 51.4MB/s \n",
            "\u001b[?25hRequirement already satisfied: tqdm in /usr/local/lib/python3.7/dist-packages (from underthesea) (4.41.1)\n",
            "Collecting transformers<=3.5.1,>=3.5.0\n",
            "\u001b[?25l  Downloading https://files.pythonhosted.org/packages/3a/83/e74092e7f24a08d751aa59b37a9fc572b2e4af3918cb66f7766c3affb1b4/transformers-3.5.1-py3-none-any.whl (1.3MB)\n",
            "\u001b[K     |████████████████████████████████| 1.3MB 47.7MB/s \n",
            "\u001b[?25hRequirement already satisfied: nltk in /usr/local/lib/python3.7/dist-packages (from underthesea) (3.2.5)\n",
            "Collecting unidecode\n",
            "\u001b[?25l  Downloading https://files.pythonhosted.org/packages/9e/25/723487ca2a52ebcee88a34d7d1f5a4b80b793f179ee0f62d5371938dfa01/Unidecode-1.2.0-py2.py3-none-any.whl (241kB)\n",
            "\u001b[K     |████████████████████████████████| 245kB 51.2MB/s \n",
            "\u001b[?25hCollecting torch<=1.5.1,>=1.1.0\n",
            "\u001b[?25l  Downloading https://files.pythonhosted.org/packages/a4/cf/007b6de316c9f3d4cb315a60c308342cc299e464167f5ebc369e93b5e23a/torch-1.5.1-cp37-cp37m-manylinux1_x86_64.whl (753.2MB)\n",
            "\u001b[K     |████████████████████████████████| 753.2MB 24kB/s \n",
            "\u001b[?25hRequirement already satisfied: scikit-learn in /usr/local/lib/python3.7/dist-packages (from underthesea) (0.22.2.post1)\n",
            "Requirement already satisfied: requests in /usr/local/lib/python3.7/dist-packages (from underthesea) (2.23.0)\n",
            "Requirement already satisfied: Click>=6.0 in /usr/local/lib/python3.7/dist-packages (from underthesea) (7.1.2)\n",
            "Collecting seqeval\n",
            "\u001b[?25l  Downloading https://files.pythonhosted.org/packages/9d/2d/233c79d5b4e5ab1dbf111242299153f3caddddbb691219f363ad55ce783d/seqeval-1.2.2.tar.gz (43kB)\n",
            "\u001b[K     |████████████████████████████████| 51kB 7.9MB/s \n",
            "\u001b[?25hRequirement already satisfied: PyYAML in /usr/local/lib/python3.7/dist-packages (from underthesea) (3.13)\n",
            "Requirement already satisfied: joblib in /usr/local/lib/python3.7/dist-packages (from underthesea) (1.0.1)\n",
            "Requirement already satisfied: packaging in /usr/local/lib/python3.7/dist-packages (from transformers<=3.5.1,>=3.5.0->underthesea) (20.9)\n",
            "Requirement already satisfied: regex!=2019.12.17 in /usr/local/lib/python3.7/dist-packages (from transformers<=3.5.1,>=3.5.0->underthesea) (2019.12.20)\n",
            "Requirement already satisfied: numpy in /usr/local/lib/python3.7/dist-packages (from transformers<=3.5.1,>=3.5.0->underthesea) (1.19.5)\n",
            "Collecting sentencepiece==0.1.91\n",
            "\u001b[?25l  Downloading https://files.pythonhosted.org/packages/f2/e2/813dff3d72df2f49554204e7e5f73a3dc0f0eb1e3958a4cad3ef3fb278b7/sentencepiece-0.1.91-cp37-cp37m-manylinux1_x86_64.whl (1.1MB)\n",
            "\u001b[K     |████████████████████████████████| 1.1MB 36.3MB/s \n",
            "\u001b[?25hRequirement already satisfied: protobuf in /usr/local/lib/python3.7/dist-packages (from transformers<=3.5.1,>=3.5.0->underthesea) (3.12.4)\n",
            "Collecting sacremoses\n",
            "\u001b[?25l  Downloading https://files.pythonhosted.org/packages/75/ee/67241dc87f266093c533a2d4d3d69438e57d7a90abb216fa076e7d475d4a/sacremoses-0.0.45-py3-none-any.whl (895kB)\n",
            "\u001b[K     |████████████████████████████████| 901kB 41.8MB/s \n",
            "\u001b[?25hCollecting tokenizers==0.9.3\n",
            "\u001b[?25l  Downloading https://files.pythonhosted.org/packages/7b/ac/f5ba028f0f097d855e1541301e946d4672eb0f30b6e25cb2369075f916d2/tokenizers-0.9.3-cp37-cp37m-manylinux1_x86_64.whl (2.9MB)\n",
            "\u001b[K     |████████████████████████████████| 2.9MB 31.5MB/s \n",
            "\u001b[?25hRequirement already satisfied: filelock in /usr/local/lib/python3.7/dist-packages (from transformers<=3.5.1,>=3.5.0->underthesea) (3.0.12)\n",
            "Requirement already satisfied: six in /usr/local/lib/python3.7/dist-packages (from nltk->underthesea) (1.15.0)\n",
            "Requirement already satisfied: future in /usr/local/lib/python3.7/dist-packages (from torch<=1.5.1,>=1.1.0->underthesea) (0.16.0)\n",
            "Requirement already satisfied: scipy>=0.17.0 in /usr/local/lib/python3.7/dist-packages (from scikit-learn->underthesea) (1.4.1)\n",
            "Requirement already satisfied: certifi>=2017.4.17 in /usr/local/lib/python3.7/dist-packages (from requests->underthesea) (2021.5.30)\n",
            "Requirement already satisfied: urllib3!=1.25.0,!=1.25.1,<1.26,>=1.21.1 in /usr/local/lib/python3.7/dist-packages (from requests->underthesea) (1.24.3)\n",
            "Requirement already satisfied: chardet<4,>=3.0.2 in /usr/local/lib/python3.7/dist-packages (from requests->underthesea) (3.0.4)\n",
            "Requirement already satisfied: idna<3,>=2.5 in /usr/local/lib/python3.7/dist-packages (from requests->underthesea) (2.10)\n",
            "Requirement already satisfied: pyparsing>=2.0.2 in /usr/local/lib/python3.7/dist-packages (from packaging->transformers<=3.5.1,>=3.5.0->underthesea) (2.4.7)\n",
            "Requirement already satisfied: setuptools in /usr/local/lib/python3.7/dist-packages (from protobuf->transformers<=3.5.1,>=3.5.0->underthesea) (57.0.0)\n",
            "Building wheels for collected packages: seqeval\n",
            "  Building wheel for seqeval (setup.py) ... \u001b[?25l\u001b[?25hdone\n",
            "  Created wheel for seqeval: filename=seqeval-1.2.2-cp37-none-any.whl size=16184 sha256=9cab5607a4b4af31218cb1bdbcce85b69281ea1727b3f7f75ada378c8f3ab2c3\n",
            "  Stored in directory: /root/.cache/pip/wheels/52/df/1b/45d75646c37428f7e626214704a0e35bd3cfc32eda37e59e5f\n",
            "Successfully built seqeval\n",
            "\u001b[31mERROR: torchvision 0.10.0+cu102 has requirement torch==1.9.0, but you'll have torch 1.5.1 which is incompatible.\u001b[0m\n",
            "\u001b[31mERROR: torchtext 0.10.0 has requirement torch==1.9.0, but you'll have torch 1.5.1 which is incompatible.\u001b[0m\n",
            "Installing collected packages: python-crfsuite, sentencepiece, sacremoses, tokenizers, transformers, unidecode, torch, seqeval, underthesea\n",
            "  Found existing installation: torch 1.9.0+cu102\n",
            "    Uninstalling torch-1.9.0+cu102:\n",
            "      Successfully uninstalled torch-1.9.0+cu102\n",
            "Successfully installed python-crfsuite-0.9.7 sacremoses-0.0.45 sentencepiece-0.1.91 seqeval-1.2.2 tokenizers-0.9.3 torch-1.5.1 transformers-3.5.1 underthesea-1.3.1 unidecode-1.2.0\n"
          ],
          "name": "stdout"
        }
      ]
    },
    {
      "cell_type": "code",
      "metadata": {
        "colab": {
          "base_uri": "https://localhost:8080/"
        },
        "id": "6Ot7BFmwQkkw",
        "outputId": "d96a75d2-2688-4fbd-b4f1-dd2fa5028d0d"
      },
      "source": [
        "from underthesea import word_tokenize\n",
        "tokenized_vie_lines = []\n",
        "dict_words = np.array([])\n",
        "dict_numbers = np.array([]).astype('int64')\n",
        "vie_lines = []\n",
        "tokenized_vie_lines = []\n",
        "\n",
        "for line in lines.vie:\n",
        "    line = word_tokenize(line,format='text')  \n",
        "    full_line = '<START> ' + line + ' <END>'\n",
        "    words = full_line.split(\" \")\n",
        "    for word in words:\n",
        "       where_word_arr = np.where(dict_words==word)[0]\n",
        "       if len(where_word_arr)==0: \n",
        "           dict_words=np.append(dict_words,word)\n",
        "           dict_numbers=np.append(dict_numbers,1)\n",
        "       else: \n",
        "         dict_numbers[where_word_arr[0]]+=1\n",
        "    vie_lines.append(full_line)\n",
        "\n",
        "agr_sorted_dict_numbers = np.argsort(dict_numbers)[::-1]\n",
        "print(agr_sorted_dict_numbers)\n",
        "\n",
        "# tokenizer = preprocessing.text.Tokenizer()\n",
        "# tokenizer.fit_on_texts(vie_lines) \n",
        "# tokenized_vie_lines = tokenizer.texts_to_sequences(vie_lines) \n",
        "\n",
        "# length_list = list()\n",
        "# for token_seq in tokenized_vie_lines:\n",
        "#     length_list.append( len( token_seq ))\n",
        "\n",
        "# max_output_length = np.array( length_list ).max()\n",
        "# print( 'Vietnamese max length is {}'.format( max_output_length ))\n",
        "\n",
        "# padded_vie_lines = preprocessing.sequence.pad_sequences( tokenized_vie_lines , maxlen=max_output_length, padding='post' )\n",
        "# decoder_input_data = np.array( padded_vie_lines )\n",
        "# print( 'Decoder input data shape -> {}'.format( decoder_input_data.shape ))\n"
      ],
      "execution_count": 7,
      "outputs": [
        {
          "output_type": "stream",
          "text": [
            "/usr/local/lib/python3.7/dist-packages/ipykernel_launcher.py:13: FutureWarning: elementwise comparison failed; returning scalar instead, but in the future will perform elementwise comparison\n",
            "  del sys.path[0]\n"
          ],
          "name": "stderr"
        },
        {
          "output_type": "stream",
          "text": [
            "[   0    3    9 ... 1276 2380 1498]\n"
          ],
          "name": "stdout"
        }
      ]
    },
    {
      "cell_type": "code",
      "metadata": {
        "id": "J-31N3rzh0Ii"
      },
      "source": [
        "for i,vie_line in enumerate(vie_lines):\n",
        "    words = vie_line.split(\" \")\n",
        "    words_arr = np.zeros(len(words),dtype=int)\n",
        "    for i,word in enumerate(words):\n",
        "       where_word = np.where(dict_words==word)[0][0] \n",
        "       words_arr[i] = np.where(agr_sorted_dict_numbers==where_word)[0][0] + 1\n",
        "    tokenized_vie_lines.append(words_arr)"
      ],
      "execution_count": 8,
      "outputs": []
    },
    {
      "cell_type": "code",
      "metadata": {
        "colab": {
          "base_uri": "https://localhost:8080/"
        },
        "id": "ribenQJVbF0P",
        "outputId": "9b6643db-f137-49b5-d9d3-5dbf8b01c175"
      },
      "source": [
        "length_list = list()\n",
        "for token_seq in tokenized_vie_lines:\n",
        "    length_list.append( len( token_seq ))\n",
        "max_output_length = np.array( length_list ).max()\n",
        "padded_vie_lines = preprocessing.sequence.pad_sequences( tokenized_vie_lines , maxlen=max_output_length , padding='post' )\n",
        "decoder_input_data = np.array( padded_vie_lines )\n",
        "num_vie_tokens = len(dict_words )+1\n",
        "print( 'Number of Vietnamese tokens = {}'.format( num_vie_tokens))"
      ],
      "execution_count": 9,
      "outputs": [
        {
          "output_type": "stream",
          "text": [
            "Number of Vietnamese tokens = 4103\n"
          ],
          "name": "stdout"
        }
      ]
    },
    {
      "cell_type": "markdown",
      "metadata": {
        "id": "nmNBbJM8bwUk"
      },
      "source": [
        "### 5) Preparing target data for the Decoder ( decoder_target_data ) "
      ]
    },
    {
      "cell_type": "code",
      "metadata": {
        "id": "-irfCOx0WPLV",
        "colab": {
          "base_uri": "https://localhost:8080/"
        },
        "outputId": "ac9bbd17-f235-4785-eba6-96a293804fa8"
      },
      "source": [
        "decoder_target_data = list()\n",
        "for token_seq in tokenized_vie_lines:\n",
        "    decoder_target_data.append( token_seq[ 1 : ] ) \n",
        "    \n",
        "padded_vie_lines = preprocessing.sequence.pad_sequences( decoder_target_data , maxlen=max_output_length, padding='post' )\n",
        "onehot_vie_lines = utils.to_categorical( padded_vie_lines , num_vie_tokens )\n",
        "decoder_target_data = np.array( onehot_vie_lines )\n",
        "print( 'Decoder target data shape -> {}'.format( decoder_target_data.shape ))"
      ],
      "execution_count": 10,
      "outputs": [
        {
          "output_type": "stream",
          "text": [
            "Decoder target data shape -> (7523, 38, 4103)\n"
          ],
          "name": "stdout"
        }
      ]
    },
    {
      "cell_type": "markdown",
      "metadata": {
        "id": "DDRBeEkPdbjz"
      },
      "source": [
        "#Defining and Training the models"
      ]
    },
    {
      "cell_type": "markdown",
      "metadata": {
        "id": "mX0D4cUCdhAp"
      },
      "source": [
        "###1, Defining the Encoder - Decoder model"
      ]
    },
    {
      "cell_type": "code",
      "metadata": {
        "colab": {
          "base_uri": "https://localhost:8080/"
        },
        "id": "sv-fFnnYdnmT",
        "outputId": "c3321db2-1924-4b35-f659-195df194d9e9"
      },
      "source": [
        "encoder_inputs = tf.keras.layers.Input(shape=( None , ))\n",
        "encoder_embedding = tf.keras.layers.Embedding( num_eng_tokens, 256 , mask_zero=True ) (encoder_inputs)\n",
        "encoder_outputs , state_h , state_c = tf.keras.layers.LSTM( 128 , return_state=True  )( encoder_embedding )\n",
        "encoder_states = [ state_h , state_c ]\n",
        "\n",
        "decoder_inputs = tf.keras.layers.Input(shape=( None ,  ))\n",
        "decoder_embedding = tf.keras.layers.Embedding( num_vie_tokens, 256 , mask_zero=True) (decoder_inputs)\n",
        "decoder_lstm = tf.keras.layers.LSTM( 128 , return_state=True , return_sequences=True)\n",
        "decoder_outputs , _ , _ = decoder_lstm ( decoder_embedding , initial_state=encoder_states )\n",
        "decoder_dense = tf.keras.layers.Dense( num_vie_tokens , activation=tf.keras.activations.softmax ) \n",
        "output = decoder_dense ( decoder_outputs )\n",
        "\n",
        "model = tf.keras.models.Model([encoder_inputs, decoder_inputs], output )\n",
        "model.compile(optimizer=tf.keras.optimizers.RMSprop(), loss='categorical_crossentropy')\n",
        "\n",
        "model.summary()"
      ],
      "execution_count": 11,
      "outputs": [
        {
          "output_type": "stream",
          "text": [
            "Model: \"model\"\n",
            "__________________________________________________________________________________________________\n",
            "Layer (type)                    Output Shape         Param #     Connected to                     \n",
            "==================================================================================================\n",
            "input_1 (InputLayer)            [(None, None)]       0                                            \n",
            "__________________________________________________________________________________________________\n",
            "input_2 (InputLayer)            [(None, None)]       0                                            \n",
            "__________________________________________________________________________________________________\n",
            "embedding (Embedding)           (None, None, 256)    949760      input_1[0][0]                    \n",
            "__________________________________________________________________________________________________\n",
            "embedding_1 (Embedding)         (None, None, 256)    1050368     input_2[0][0]                    \n",
            "__________________________________________________________________________________________________\n",
            "lstm (LSTM)                     [(None, 128), (None, 197120      embedding[0][0]                  \n",
            "__________________________________________________________________________________________________\n",
            "lstm_1 (LSTM)                   [(None, None, 128),  197120      embedding_1[0][0]                \n",
            "                                                                 lstm[0][1]                       \n",
            "                                                                 lstm[0][2]                       \n",
            "__________________________________________________________________________________________________\n",
            "dense (Dense)                   (None, None, 4103)   529287      lstm_1[0][0]                     \n",
            "==================================================================================================\n",
            "Total params: 2,923,655\n",
            "Trainable params: 2,923,655\n",
            "Non-trainable params: 0\n",
            "__________________________________________________________________________________________________\n"
          ],
          "name": "stdout"
        }
      ]
    },
    {
      "cell_type": "markdown",
      "metadata": {
        "id": "XAmMJmV5ea8U"
      },
      "source": [
        "###Training model"
      ]
    },
    {
      "cell_type": "code",
      "metadata": {
        "colab": {
          "base_uri": "https://localhost:8080/"
        },
        "id": "3OIHzeZ-edzk",
        "outputId": "a2fabab9-4b9d-4e08-e421-5f04e53d3a7b"
      },
      "source": [
        "model.fit([encoder_input_data , decoder_input_data], decoder_target_data, batch_size=250, epochs=50 ) \n",
        "model.save( 'model.h5' ) "
      ],
      "execution_count": 12,
      "outputs": [
        {
          "output_type": "stream",
          "text": [
            "Epoch 1/50\n",
            "31/31 [==============================] - 16s 120ms/step - loss: 1.6676\n",
            "Epoch 2/50\n",
            "31/31 [==============================] - 4s 117ms/step - loss: 1.4007\n",
            "Epoch 3/50\n",
            "31/31 [==============================] - 4s 116ms/step - loss: 1.3337\n",
            "Epoch 4/50\n",
            "31/31 [==============================] - 4s 116ms/step - loss: 1.2675\n",
            "Epoch 5/50\n",
            "31/31 [==============================] - 4s 114ms/step - loss: 1.2136\n",
            "Epoch 6/50\n",
            "31/31 [==============================] - 4s 116ms/step - loss: 1.1708\n",
            "Epoch 7/50\n",
            "31/31 [==============================] - 4s 115ms/step - loss: 1.1364\n",
            "Epoch 8/50\n",
            "31/31 [==============================] - 4s 115ms/step - loss: 1.1076\n",
            "Epoch 9/50\n",
            "31/31 [==============================] - 4s 114ms/step - loss: 1.0824\n",
            "Epoch 10/50\n",
            "31/31 [==============================] - 4s 115ms/step - loss: 1.0589\n",
            "Epoch 11/50\n",
            "31/31 [==============================] - 4s 115ms/step - loss: 1.0358\n",
            "Epoch 12/50\n",
            "31/31 [==============================] - 4s 116ms/step - loss: 1.0121\n",
            "Epoch 13/50\n",
            "31/31 [==============================] - 4s 116ms/step - loss: 0.9898\n",
            "Epoch 14/50\n",
            "31/31 [==============================] - 4s 116ms/step - loss: 0.9672\n",
            "Epoch 15/50\n",
            "31/31 [==============================] - 4s 116ms/step - loss: 0.9462\n",
            "Epoch 16/50\n",
            "31/31 [==============================] - 4s 116ms/step - loss: 0.9262\n",
            "Epoch 17/50\n",
            "31/31 [==============================] - 4s 115ms/step - loss: 0.9077\n",
            "Epoch 18/50\n",
            "31/31 [==============================] - 4s 115ms/step - loss: 0.8900\n",
            "Epoch 19/50\n",
            "31/31 [==============================] - 4s 118ms/step - loss: 0.8725\n",
            "Epoch 20/50\n",
            "31/31 [==============================] - 4s 116ms/step - loss: 0.8563\n",
            "Epoch 21/50\n",
            "31/31 [==============================] - 4s 116ms/step - loss: 0.8399\n",
            "Epoch 22/50\n",
            "31/31 [==============================] - 4s 115ms/step - loss: 0.8235\n",
            "Epoch 23/50\n",
            "31/31 [==============================] - 4s 114ms/step - loss: 0.8081\n",
            "Epoch 24/50\n",
            "31/31 [==============================] - 4s 114ms/step - loss: 0.7921\n",
            "Epoch 25/50\n",
            "31/31 [==============================] - 4s 116ms/step - loss: 0.7767\n",
            "Epoch 26/50\n",
            "31/31 [==============================] - 4s 116ms/step - loss: 0.7614\n",
            "Epoch 27/50\n",
            "31/31 [==============================] - 4s 115ms/step - loss: 0.7470\n",
            "Epoch 28/50\n",
            "31/31 [==============================] - 4s 116ms/step - loss: 0.7317\n",
            "Epoch 29/50\n",
            "31/31 [==============================] - 4s 117ms/step - loss: 0.7171\n",
            "Epoch 30/50\n",
            "31/31 [==============================] - 4s 118ms/step - loss: 0.7034\n",
            "Epoch 31/50\n",
            "31/31 [==============================] - 4s 116ms/step - loss: 0.6891\n",
            "Epoch 32/50\n",
            "31/31 [==============================] - 4s 115ms/step - loss: 0.6758\n",
            "Epoch 33/50\n",
            "31/31 [==============================] - 4s 115ms/step - loss: 0.6616\n",
            "Epoch 34/50\n",
            "31/31 [==============================] - 4s 115ms/step - loss: 0.6490\n",
            "Epoch 35/50\n",
            "31/31 [==============================] - 4s 117ms/step - loss: 0.6355\n",
            "Epoch 36/50\n",
            "31/31 [==============================] - 4s 116ms/step - loss: 0.6219\n",
            "Epoch 37/50\n",
            "31/31 [==============================] - 4s 116ms/step - loss: 0.6097\n",
            "Epoch 38/50\n",
            "31/31 [==============================] - 4s 114ms/step - loss: 0.5963\n",
            "Epoch 39/50\n",
            "31/31 [==============================] - 4s 116ms/step - loss: 0.5838\n",
            "Epoch 40/50\n",
            "31/31 [==============================] - 4s 114ms/step - loss: 0.5716\n",
            "Epoch 41/50\n",
            "31/31 [==============================] - 4s 114ms/step - loss: 0.5594\n",
            "Epoch 42/50\n",
            "31/31 [==============================] - 4s 114ms/step - loss: 0.5474\n",
            "Epoch 43/50\n",
            "31/31 [==============================] - 4s 117ms/step - loss: 0.5363\n",
            "Epoch 44/50\n",
            "31/31 [==============================] - 4s 117ms/step - loss: 0.5245\n",
            "Epoch 45/50\n",
            "31/31 [==============================] - 4s 114ms/step - loss: 0.5121\n",
            "Epoch 46/50\n",
            "31/31 [==============================] - 4s 115ms/step - loss: 0.5011\n",
            "Epoch 47/50\n",
            "31/31 [==============================] - 4s 115ms/step - loss: 0.4905\n",
            "Epoch 48/50\n",
            "31/31 [==============================] - 3s 112ms/step - loss: 0.4793\n",
            "Epoch 49/50\n",
            "31/31 [==============================] - 4s 114ms/step - loss: 0.4684\n",
            "Epoch 50/50\n",
            "31/31 [==============================] - 4s 113ms/step - loss: 0.4573\n"
          ],
          "name": "stdout"
        }
      ]
    },
    {
      "cell_type": "code",
      "metadata": {
        "id": "Zr5v0UNpgSu4"
      },
      "source": [
        "def make_inference_models():\n",
        "    \n",
        "    encoder_model = tf.keras.models.Model(encoder_inputs, encoder_states)\n",
        "    \n",
        "    decoder_state_input_h = tf.keras.layers.Input(shape=( 128 ,))\n",
        "    decoder_state_input_c = tf.keras.layers.Input(shape=( 128 ,))\n",
        "    \n",
        "    decoder_states_inputs = [decoder_state_input_h, decoder_state_input_c]\n",
        "    \n",
        "    decoder_outputs, state_h, state_c = decoder_lstm(\n",
        "        decoder_embedding , initial_state=decoder_states_inputs)\n",
        "    decoder_states = [state_h, state_c]\n",
        "    decoder_outputs = decoder_dense(decoder_outputs)\n",
        "    decoder_model = tf.keras.models.Model(\n",
        "        [decoder_inputs] + decoder_states_inputs,\n",
        "        [decoder_outputs] + decoder_states)\n",
        "    \n",
        "    return encoder_model , decoder_model\n",
        "\n",
        "def str_to_tokens( sentence : str ):\n",
        "    words = sentence.lower().split()\n",
        "    tokens_list = list()\n",
        "    for word in words:\n",
        "        tokens_list.append( eng_word_dict[ word ] ) \n",
        "    return preprocessing.sequence.pad_sequences( [tokens_list] , maxlen=max_input_length , padding='post')"
      ],
      "execution_count": 13,
      "outputs": []
    },
    {
      "cell_type": "code",
      "metadata": {
        "id": "Vl88bcX6gXqi",
        "outputId": "c16414f8-b25b-49c0-c3b8-61de728e334e",
        "colab": {
          "base_uri": "https://localhost:8080/"
        }
      },
      "source": [
        "\n",
        "enc_model , dec_model = make_inference_models()\n",
        "\n",
        "for epoch in range( encoder_input_data.shape[0] ):\n",
        "    states_values = enc_model.predict( str_to_tokens( input( 'Enter eng sentence : ' ) ) )\n",
        "    #states_values = enc_model.predict( encoder_input_data[ epoch ] )\n",
        "    empty_target_seq = np.zeros( ( 1 , 1 ) )\n",
        "    empty_target_seq[0, 0] = np.where(dict_words=='<START>')[0][0]\n",
        "    stop_condition = False\n",
        "    decoded_translation = ''\n",
        "    while not stop_condition :\n",
        "        dec_outputs , h , c = dec_model.predict([ empty_target_seq ] + states_values )\n",
        "        sampled_word_index = np.argmax( dec_outputs[0, -1, :] )\n",
        "        sampled_word = None\n",
        "        for index,word in enumerate(dict_words):\n",
        "            if sampled_word_index == index :\n",
        "                decoded_translation += ' {}'.format( word )\n",
        "                sampled_word = word\n",
        "        \n",
        "        if sampled_word == 'end' or len(decoded_translation.split()) > max_output_length:\n",
        "            stop_condition = True\n",
        "            \n",
        "        empty_target_seq = np.zeros( ( 1 , 1 ) )  \n",
        "        empty_target_seq[ 0 , 0 ] = sampled_word_index\n",
        "        states_values = [ h , c ] \n",
        "\n",
        "    print( decoded_translation )\n"
      ],
      "execution_count": null,
      "outputs": [
        {
          "output_type": "stream",
          "text": [
            "Enter eng sentence : She is beautiful\n",
            " trường đây lên Tiếp_tục nào bỏ tôi Chào ! <START> trường <END> ! <START> trường <END> ! <START> trường <END> ! <START> trường <END> ! <START> trường <END> ! <START> trường <END> ! <START> trường <END> ! <START> trường\n",
            "Enter eng sentence : It is rain\n",
            " trường thế Tiếp_tục . Lại trường <END> ! <START> trường <END> ! <START> trường <END> ! <START> trường <END> ! <START> trường <END> ! <START> trường <END> ! <START> trường <END> ! <START> trường <END> ! <START> trường <END>\n"
          ],
          "name": "stdout"
        }
      ]
    },
    {
      "cell_type": "code",
      "metadata": {
        "id": "vdXFpcuShmnG",
        "outputId": "98ccb749-2cc2-4d5d-a33f-4fb80809e493",
        "colab": {
          "base_uri": "https://localhost:8080/"
        }
      },
      "source": [
        "np.where(dict_words=='<START>')[0]"
      ],
      "execution_count": 28,
      "outputs": [
        {
          "output_type": "execute_result",
          "data": {
            "text/plain": [
              "array([0])"
            ]
          },
          "metadata": {
            "tags": []
          },
          "execution_count": 28
        }
      ]
    },
    {
      "cell_type": "code",
      "metadata": {
        "id": "UkJqDfhHg_VS"
      },
      "source": [
        ""
      ],
      "execution_count": null,
      "outputs": []
    }
  ]
}