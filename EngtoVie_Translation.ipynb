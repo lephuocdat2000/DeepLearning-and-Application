{
  "nbformat": 4,
  "nbformat_minor": 0,
  "metadata": {
    "colab": {
      "name": "Untitled155.ipynb",
      "provenance": [],
      "authorship_tag": "ABX9TyPm+y6tbruNYh0KLoNIBQ7a",
      "include_colab_link": true
    },
    "kernelspec": {
      "name": "python3",
      "display_name": "Python 3"
    },
    "language_info": {
      "name": "python"
    },
    "accelerator": "GPU"
  },
  "cells": [
    {
      "cell_type": "markdown",
      "metadata": {
        "id": "view-in-github",
        "colab_type": "text"
      },
      "source": [
        "<a href=\"https://colab.research.google.com/github/lephuocdat2000/DeepLearning-and-Application/blob/main/EngtoVie_Translation.ipynb\" target=\"_parent\"><img src=\"https://colab.research.google.com/assets/colab-badge.svg\" alt=\"Open In Colab\"/></a>"
      ]
    },
    {
      "cell_type": "markdown",
      "metadata": {
        "id": "xVWH6dzCMVxr"
      },
      "source": [
        "#Preparing Data"
      ]
    },
    {
      "cell_type": "markdown",
      "metadata": {
        "id": "-ZC4JKq7Mdgd"
      },
      "source": [
        "###1, Import libraries"
      ]
    },
    {
      "cell_type": "code",
      "metadata": {
        "id": "ZqmRCsErMPkr"
      },
      "source": [
        "import numpy as np\n",
        "import tensorflow as tf\n",
        "from tensorflow.keras import layers , activations , models , preprocessing , utils\n",
        "import pandas as pd\n",
        "\n"
      ],
      "execution_count": 1,
      "outputs": []
    },
    {
      "cell_type": "markdown",
      "metadata": {
        "id": "xkA_IyfWMj8Z"
      },
      "source": [
        "###2, Reading the data"
      ]
    },
    {
      "cell_type": "code",
      "metadata": {
        "colab": {
          "base_uri": "https://localhost:8080/"
        },
        "id": "qwf6sbbPMiy7",
        "outputId": "4c15f744-6a7a-4241-b1b2-2a3e4793fc7d"
      },
      "source": [
        "!wget http://www.manythings.org/anki/vie-eng.zip -O viet-eng.zip\n",
        "!unzip viet-eng.zip"
      ],
      "execution_count": 2,
      "outputs": [
        {
          "output_type": "stream",
          "text": [
            "--2021-06-21 03:59:26--  http://www.manythings.org/anki/vie-eng.zip\n",
            "Resolving www.manythings.org (www.manythings.org)... 172.67.173.198, 104.21.55.222, 2606:4700:3031::6815:37de, ...\n",
            "Connecting to www.manythings.org (www.manythings.org)|172.67.173.198|:80... connected.\n",
            "HTTP request sent, awaiting response... 200 OK\n",
            "Length: 298429 (291K) [application/zip]\n",
            "Saving to: ‘viet-eng.zip’\n",
            "\n",
            "viet-eng.zip        100%[===================>] 291.43K  1.78MB/s    in 0.2s    \n",
            "\n",
            "2021-06-21 03:59:26 (1.78 MB/s) - ‘viet-eng.zip’ saved [298429/298429]\n",
            "\n",
            "Archive:  viet-eng.zip\n",
            "  inflating: _about.txt              \n",
            "  inflating: vie.txt                 \n"
          ],
          "name": "stdout"
        }
      ]
    },
    {
      "cell_type": "code",
      "metadata": {
        "id": "K0lTlrbeM2qQ"
      },
      "source": [
        "lines = pd.read_table( 'vie.txt' , names=[ 'eng' , 'vie' ] )\n",
        "lines.reset_index( level=0 , inplace=True)\n",
        "lines.rename( columns={ 'index' : 'eng' , 'eng' : 'vie' , 'vie' : 'c' } , inplace=True )\n",
        "lines = lines.drop('c',1)"
      ],
      "execution_count": 3,
      "outputs": []
    },
    {
      "cell_type": "code",
      "metadata": {
        "colab": {
          "base_uri": "https://localhost:8080/",
          "height": 203
        },
        "id": "7Y2jqbuzOOAc",
        "outputId": "946503f8-9730-4222-ccf8-eeb9c6816c21"
      },
      "source": [
        "lines.head()"
      ],
      "execution_count": null,
      "outputs": [
        {
          "output_type": "execute_result",
          "data": {
            "text/html": [
              "<div>\n",
              "<style scoped>\n",
              "    .dataframe tbody tr th:only-of-type {\n",
              "        vertical-align: middle;\n",
              "    }\n",
              "\n",
              "    .dataframe tbody tr th {\n",
              "        vertical-align: top;\n",
              "    }\n",
              "\n",
              "    .dataframe thead th {\n",
              "        text-align: right;\n",
              "    }\n",
              "</style>\n",
              "<table border=\"1\" class=\"dataframe\">\n",
              "  <thead>\n",
              "    <tr style=\"text-align: right;\">\n",
              "      <th></th>\n",
              "      <th>eng</th>\n",
              "      <th>vie</th>\n",
              "    </tr>\n",
              "  </thead>\n",
              "  <tbody>\n",
              "    <tr>\n",
              "      <th>0</th>\n",
              "      <td>Run!</td>\n",
              "      <td>Chạy!</td>\n",
              "    </tr>\n",
              "    <tr>\n",
              "      <th>1</th>\n",
              "      <td>Help!</td>\n",
              "      <td>Giúp tôi với!</td>\n",
              "    </tr>\n",
              "    <tr>\n",
              "      <th>2</th>\n",
              "      <td>Go on.</td>\n",
              "      <td>Tiếp tục đi.</td>\n",
              "    </tr>\n",
              "    <tr>\n",
              "      <th>3</th>\n",
              "      <td>Hello!</td>\n",
              "      <td>Chào bạn.</td>\n",
              "    </tr>\n",
              "    <tr>\n",
              "      <th>4</th>\n",
              "      <td>Hurry!</td>\n",
              "      <td>Nhanh lên nào!</td>\n",
              "    </tr>\n",
              "  </tbody>\n",
              "</table>\n",
              "</div>"
            ],
            "text/plain": [
              "      eng             vie\n",
              "0    Run!           Chạy!\n",
              "1   Help!   Giúp tôi với!\n",
              "2  Go on.    Tiếp tục đi.\n",
              "3  Hello!       Chào bạn.\n",
              "4  Hurry!  Nhanh lên nào!"
            ]
          },
          "metadata": {
            "tags": []
          },
          "execution_count": 4
        }
      ]
    },
    {
      "cell_type": "markdown",
      "metadata": {
        "id": "kCe8LcxnPPAD"
      },
      "source": [
        "### 3) Preparing input data for the Encoder ( `encoder_input_data` )"
      ]
    },
    {
      "cell_type": "code",
      "metadata": {
        "id": "vxZGuQJCNxV5"
      },
      "source": [
        "eng_lines = list()\n",
        "for line in lines.eng:\n",
        "    eng_lines.append( line ) \n",
        "\n",
        "tokenizer = preprocessing.text.Tokenizer()  \n",
        "tokenizer.fit_on_texts( eng_lines ) \n",
        "tokenized_eng_lines = tokenizer.texts_to_sequences( eng_lines ) \n",
        "\n",
        "length_list = list()\n",
        "for token_seq in tokenized_eng_lines:\n",
        "    length_list.append( len( token_seq ))\n",
        "max_input_length = np.array( length_list ).max()\n",
        "padded_eng_lines = preprocessing.sequence.pad_sequences( tokenized_eng_lines , maxlen=max_input_length , padding='post' )\n",
        "encoder_input_data = np.array( padded_eng_lines )\n",
        "\n",
        "eng_word_dict = tokenizer.word_index\n",
        "num_eng_tokens = len( eng_word_dict )+1"
      ],
      "execution_count": 4,
      "outputs": []
    },
    {
      "cell_type": "markdown",
      "metadata": {
        "id": "X9yDB0JxROL3"
      },
      "source": [
        "### 4) Preparing input data for the Decoder ( `decoder_input_data` )"
      ]
    },
    {
      "cell_type": "code",
      "metadata": {
        "colab": {
          "base_uri": "https://localhost:8080/"
        },
        "id": "YdPOTeojT9hv",
        "outputId": "4ef8d5f4-0828-4dbf-fb6b-ac30a3283d75"
      },
      "source": [
        "!pip install underthesea"
      ],
      "execution_count": 13,
      "outputs": [
        {
          "output_type": "stream",
          "text": [
            "Collecting underthesea\n",
            "\u001b[?25l  Downloading https://files.pythonhosted.org/packages/a8/5f/03ab9091b88e7851aa92da33f8eea6f111423cc1194cf1636c63c1fff3d0/underthesea-1.3.1-py3-none-any.whl (7.5MB)\n",
            "\u001b[K     |████████████████████████████████| 7.5MB 6.8MB/s \n",
            "\u001b[?25hRequirement already satisfied: scikit-learn in /usr/local/lib/python3.7/dist-packages (from underthesea) (0.22.2.post1)\n",
            "Requirement already satisfied: nltk in /usr/local/lib/python3.7/dist-packages (from underthesea) (3.2.5)\n",
            "Requirement already satisfied: requests in /usr/local/lib/python3.7/dist-packages (from underthesea) (2.23.0)\n",
            "Requirement already satisfied: joblib in /usr/local/lib/python3.7/dist-packages (from underthesea) (1.0.1)\n",
            "Collecting transformers<=3.5.1,>=3.5.0\n",
            "\u001b[?25l  Downloading https://files.pythonhosted.org/packages/3a/83/e74092e7f24a08d751aa59b37a9fc572b2e4af3918cb66f7766c3affb1b4/transformers-3.5.1-py3-none-any.whl (1.3MB)\n",
            "\u001b[K     |████████████████████████████████| 1.3MB 49.7MB/s \n",
            "\u001b[?25hCollecting unidecode\n",
            "\u001b[?25l  Downloading https://files.pythonhosted.org/packages/9e/25/723487ca2a52ebcee88a34d7d1f5a4b80b793f179ee0f62d5371938dfa01/Unidecode-1.2.0-py2.py3-none-any.whl (241kB)\n",
            "\u001b[K     |████████████████████████████████| 245kB 46.5MB/s \n",
            "\u001b[?25hCollecting python-crfsuite>=0.9.6\n",
            "\u001b[?25l  Downloading https://files.pythonhosted.org/packages/79/47/58f16c46506139f17de4630dbcfb877ce41a6355a1bbf3c443edb9708429/python_crfsuite-0.9.7-cp37-cp37m-manylinux1_x86_64.whl (743kB)\n",
            "\u001b[K     |████████████████████████████████| 747kB 47.1MB/s \n",
            "\u001b[?25hCollecting torch<=1.5.1,>=1.1.0\n",
            "\u001b[?25l  Downloading https://files.pythonhosted.org/packages/a4/cf/007b6de316c9f3d4cb315a60c308342cc299e464167f5ebc369e93b5e23a/torch-1.5.1-cp37-cp37m-manylinux1_x86_64.whl (753.2MB)\n",
            "\u001b[K     |████████████████████████████████| 753.2MB 24kB/s \n",
            "\u001b[?25hRequirement already satisfied: tqdm in /usr/local/lib/python3.7/dist-packages (from underthesea) (4.41.1)\n",
            "Collecting seqeval\n",
            "\u001b[?25l  Downloading https://files.pythonhosted.org/packages/9d/2d/233c79d5b4e5ab1dbf111242299153f3caddddbb691219f363ad55ce783d/seqeval-1.2.2.tar.gz (43kB)\n",
            "\u001b[K     |████████████████████████████████| 51kB 9.0MB/s \n",
            "\u001b[?25hRequirement already satisfied: PyYAML in /usr/local/lib/python3.7/dist-packages (from underthesea) (3.13)\n",
            "Requirement already satisfied: Click>=6.0 in /usr/local/lib/python3.7/dist-packages (from underthesea) (7.1.2)\n",
            "Requirement already satisfied: numpy>=1.11.0 in /usr/local/lib/python3.7/dist-packages (from scikit-learn->underthesea) (1.19.5)\n",
            "Requirement already satisfied: scipy>=0.17.0 in /usr/local/lib/python3.7/dist-packages (from scikit-learn->underthesea) (1.4.1)\n",
            "Requirement already satisfied: six in /usr/local/lib/python3.7/dist-packages (from nltk->underthesea) (1.15.0)\n",
            "Requirement already satisfied: chardet<4,>=3.0.2 in /usr/local/lib/python3.7/dist-packages (from requests->underthesea) (3.0.4)\n",
            "Requirement already satisfied: certifi>=2017.4.17 in /usr/local/lib/python3.7/dist-packages (from requests->underthesea) (2021.5.30)\n",
            "Requirement already satisfied: urllib3!=1.25.0,!=1.25.1,<1.26,>=1.21.1 in /usr/local/lib/python3.7/dist-packages (from requests->underthesea) (1.24.3)\n",
            "Requirement already satisfied: idna<3,>=2.5 in /usr/local/lib/python3.7/dist-packages (from requests->underthesea) (2.10)\n",
            "Requirement already satisfied: packaging in /usr/local/lib/python3.7/dist-packages (from transformers<=3.5.1,>=3.5.0->underthesea) (20.9)\n",
            "Requirement already satisfied: protobuf in /usr/local/lib/python3.7/dist-packages (from transformers<=3.5.1,>=3.5.0->underthesea) (3.12.4)\n",
            "Collecting sacremoses\n",
            "\u001b[?25l  Downloading https://files.pythonhosted.org/packages/75/ee/67241dc87f266093c533a2d4d3d69438e57d7a90abb216fa076e7d475d4a/sacremoses-0.0.45-py3-none-any.whl (895kB)\n",
            "\u001b[K     |████████████████████████████████| 901kB 41.0MB/s \n",
            "\u001b[?25hCollecting tokenizers==0.9.3\n",
            "\u001b[?25l  Downloading https://files.pythonhosted.org/packages/7b/ac/f5ba028f0f097d855e1541301e946d4672eb0f30b6e25cb2369075f916d2/tokenizers-0.9.3-cp37-cp37m-manylinux1_x86_64.whl (2.9MB)\n",
            "\u001b[K     |████████████████████████████████| 2.9MB 44.4MB/s \n",
            "\u001b[?25hRequirement already satisfied: filelock in /usr/local/lib/python3.7/dist-packages (from transformers<=3.5.1,>=3.5.0->underthesea) (3.0.12)\n",
            "Requirement already satisfied: regex!=2019.12.17 in /usr/local/lib/python3.7/dist-packages (from transformers<=3.5.1,>=3.5.0->underthesea) (2019.12.20)\n",
            "Collecting sentencepiece==0.1.91\n",
            "\u001b[?25l  Downloading https://files.pythonhosted.org/packages/f2/e2/813dff3d72df2f49554204e7e5f73a3dc0f0eb1e3958a4cad3ef3fb278b7/sentencepiece-0.1.91-cp37-cp37m-manylinux1_x86_64.whl (1.1MB)\n",
            "\u001b[K     |████████████████████████████████| 1.1MB 40.8MB/s \n",
            "\u001b[?25hRequirement already satisfied: future in /usr/local/lib/python3.7/dist-packages (from torch<=1.5.1,>=1.1.0->underthesea) (0.16.0)\n",
            "Requirement already satisfied: pyparsing>=2.0.2 in /usr/local/lib/python3.7/dist-packages (from packaging->transformers<=3.5.1,>=3.5.0->underthesea) (2.4.7)\n",
            "Requirement already satisfied: setuptools in /usr/local/lib/python3.7/dist-packages (from protobuf->transformers<=3.5.1,>=3.5.0->underthesea) (57.0.0)\n",
            "Building wheels for collected packages: seqeval\n",
            "  Building wheel for seqeval (setup.py) ... \u001b[?25l\u001b[?25hdone\n",
            "  Created wheel for seqeval: filename=seqeval-1.2.2-cp37-none-any.whl size=16184 sha256=72798eb134a0998fd7403ff0ce114a0b3b68f9c57a16d5ad6526758f0a1caa09\n",
            "  Stored in directory: /root/.cache/pip/wheels/52/df/1b/45d75646c37428f7e626214704a0e35bd3cfc32eda37e59e5f\n",
            "Successfully built seqeval\n",
            "\u001b[31mERROR: torchvision 0.10.0+cu102 has requirement torch==1.9.0, but you'll have torch 1.5.1 which is incompatible.\u001b[0m\n",
            "\u001b[31mERROR: torchtext 0.10.0 has requirement torch==1.9.0, but you'll have torch 1.5.1 which is incompatible.\u001b[0m\n",
            "Installing collected packages: sacremoses, tokenizers, sentencepiece, transformers, unidecode, python-crfsuite, torch, seqeval, underthesea\n",
            "  Found existing installation: torch 1.9.0+cu102\n",
            "    Uninstalling torch-1.9.0+cu102:\n",
            "      Successfully uninstalled torch-1.9.0+cu102\n",
            "Successfully installed python-crfsuite-0.9.7 sacremoses-0.0.45 sentencepiece-0.1.91 seqeval-1.2.2 tokenizers-0.9.3 torch-1.5.1 transformers-3.5.1 underthesea-1.3.1 unidecode-1.2.0\n"
          ],
          "name": "stdout"
        }
      ]
    },
    {
      "cell_type": "code",
      "metadata": {
        "colab": {
          "base_uri": "https://localhost:8080/"
        },
        "id": "6Ot7BFmwQkkw",
        "outputId": "509b4b2e-bc76-4626-98cc-d0606cfead3b"
      },
      "source": [
        "from underthesea import word_tokenize\n",
        "tokenized_vie_lines = []\n",
        "dict_words = np.array([])\n",
        "dict_numbers = np.array([]).astype('int64')\n",
        "vie_lines = []\n",
        "tokenized_vie_lines = []\n",
        "vie_word_dict = dict()\n",
        "for line in lines.vie:\n",
        "    line = word_tokenize(line,format='text')  \n",
        "    full_line = '<START> ' + line + ' <END>'\n",
        "    words = full_line.split(\" \")\n",
        "    for word in words:\n",
        "       where_word_arr = np.where(dict_words==word)[0]\n",
        "       if len(where_word_arr)==0: \n",
        "           dict_words=np.append(dict_words,word)\n",
        "           dict_numbers=np.append(dict_numbers,1)\n",
        "       else: \n",
        "         dict_numbers[where_word_arr[0]]+=1\n",
        "    vie_lines.append(full_line)\n",
        "\n",
        "agr_sorted_dict_numbers = np.argsort(dict_numbers)[::-1]\n",
        "for idx,value in enumerate(agr_sorted_dict_numbers):\n",
        "    vie_word_dict.update({dict_words[value]:idx})\n",
        "\n",
        "print(vie_word_dict)\n",
        "\n",
        "# tokenizer = preprocessing.text.Tokenizer()\n",
        "# tokenizer.fit_on_texts(vie_lines) \n",
        "# tokenized_vie_lines = tokenizer.texts_to_sequences(vie_lines) \n",
        "\n",
        "# length_list = list()\n",
        "# for token_seq in tokenized_vie_lines:\n",
        "#     length_list.append( len( token_seq ))\n",
        "\n",
        "# max_output_length = np.array( length_list ).max()\n",
        "# print( 'Vietnamese max length is {}'.format( max_output_length ))\n",
        "\n",
        "# padded_vie_lines = preprocessing.sequence.pad_sequences( tokenized_vie_lines , maxlen=max_output_length, padding='post' )\n",
        "# decoder_input_data = np.array( padded_vie_lines )\n",
        "# print( 'Decoder input data shape -> {}'.format( decoder_input_data.shape ))\n"
      ],
      "execution_count": 15,
      "outputs": [
        {
          "output_type": "stream",
          "text": [
            "/usr/local/lib/python3.7/dist-packages/ipykernel_launcher.py:13: FutureWarning: elementwise comparison failed; returning scalar instead, but in the future will perform elementwise comparison\n",
            "  del sys.path[0]\n"
          ],
          "name": "stderr"
        },
        {
          "output_type": "stream",
          "text": [
            "{'<START>': 0, '<END>': 1, '.': 2, 'Tôi': 3, 'không': 4, 'Tom': 5, 'là': 6, 'đã': 7, 'tôi': 8, '?': 9, 'có': 10, 'bạn': 11, 'ấy': 12, 'một': 13, 'của': 14, 'đó': 15, 'sẽ': 16, 'Bạn': 17, 'đi': 18, 'ở': 19, 'gì': 20, 'làm': 21, ',': 22, 'cho': 23, 'đang': 24, 'người': 25, 'nói': 26, 'được': 27, 'biết': 28, 'muốn': 29, 'phải': 30, 'này': 31, 'anh': 32, 'Anh': 33, 'đến': 34, 'với': 35, 'ta': 36, 'cái': 37, 'Mary': 38, 'có_thể': 39, 'nghĩ': 40, 'vào': 41, 'điều': 42, 'trong': 43, 'rất': 44, 'về': 45, 'ra': 46, 'để': 47, 'hơn': 48, 'nào': 49, 'bị': 50, 'Cô': 51, 'khi': 52, 'nhà': 53, 'đây': 54, 'nhiều': 55, 'rồi': 56, 'thích': 57, 'lại': 58, 'nó': 59, 'mà': 60, 'tiếng': 61, 'nên': 62, 'ai': 63, 'và': 64, 'ăn': 65, 'mình': 66, 'cô': 67, 'không_thể': 68, 'đâu': 69, 'thì': 70, 'những': 71, 'cần': 72, 'còn': 73, 'thấy': 74, 'Chúng_tôi': 75, 'cũng': 76, 'chưa': 77, 'chúng_tôi': 78, 'như': 79, 'học': 80, 'Có': 81, 'quá': 82, 'nữa': 83, 'từ': 84, 'tới': 85, 'cả': 86, 'vậy': 87, 'đều': 88, 'mua': 89, 'gặp': 90, 'làm_việc': 91, 'cậu': 92, 'trước': 93, 'rằng': 94, 'Hãy': 95, 'nghe': 96, 'việc': 97, 'mới': 98, 'lúc': 99, 'năm': 100, '!': 101, 'nhưng': 102, 'giờ': 103, 'tiền': 104, 'lên': 105, 'Pháp': 106, 'Chúng_ta': 107, 'Nó': 108, 'Đó': 109, 'bằng': 110, 'Không': 111, 'mất': 112, 'vẫn': 113, 'sống': 114, 'bao_giờ': 115, 'chúng_ta': 116, 'Đừng': 117, 'tin': 118, 'ngày': 119, 'vì': 120, 'xảy': 121, 'sau': 122, 'tốt': 123, 'Cái': 124, 'trên': 125, 'chơi': 126, 'từng': 127, 'xem': 128, 'con': 129, 'sách': 130, 'giúp': 131, 'thế': 132, 'nhất': 133, 'Boston': 134, 'tuổi': 135, 'mày': 136, 'ông': 137, 'mọi': 138, 'chuyện': 139, 'thứ': 140, 'họ': 141, 'thời_gian': 142, 'chỉ': 143, 'hay': 144, 'nhau': 145, 'mưa': 146, 'thêm': 147, 'Họ': 148, 'lần': 149, 'Đây': 150, 'ngủ': 151, 'nhìn': 152, 'hỏi': 153, 'chiếc': 154, 'hiểu': 155, '\"': 156, 'Cậu': 157, 'khác': 158, 'gọi': 159, 'đấy': 160, 'thật': 161, 'bắt_đầu': 162, 'tối': 163, 'nói_chuyện': 164, 'giỏi': 165, 'Ông': 166, 'thôi': 167, 'cách': 168, 'trời': 169, 'có_vẻ': 170, 'thế_nào': 171, 'Nếu': 172, 'chắc': 173, 'qua': 174, 'sự': 175, 'nay': 176, 'Sao': 177, 'đúng': 178, 'hai': 179, 'lời': 180, 'các': 181, 'hãy': 182, 'Mày': 183, 'tuần': 184, 'dùng': 185, 'đợi': 186, 'lắm': 187, 'hết': 188, 'bơi': 189, 'bao_nhiêu': 190, 'sáng': 191, 'Ai': 192, 'xe': 193, 'đọc': 194, 'vừa': 195, 'theo': 196, 'thử': 197, 'Tất_cả': 198, 'Hôm_nay': 199, 'ba': 200, 'cùng': 201, 'à': 202, 'bé': 203, 'khỏi': 204, 'Những': 205, 'điện_thoại': 206, 'tên': 207, 'cuốn': 208, 'xong': 209, 'phòng': 210, 'đưa': 211, 'gái': 212, 'sớm': 213, 'bên': 214, 'ngoài': 215, 'trông': 216, 'tự': 217, 'công_việc': 218, 'xin_lỗi': 219, 'Tớ': 220, 'nói_dối': 221, 'nếu': 222, 'bất_cứ': 223, 'nhé': 224, 'nước': 225, 'khó': 226, 'sao': 227, 'nhớ': 228, 'trường': 229, 'một_mình': 230, 'vấn_đề': 231, 'chó': 232, 'tìm': 233, 'Tao': 234, 'quên': 235, 'sợ': 236, 'lấy': 237, 'định': 238, 'rời': 239, 'một_chút': 240, 'Mẹ': 241, 'trẻ': 242, 'lúc_nào': 243, 'yêu': 244, 'ngồi': 245, 'bữa': 246, 'đường': 247, 'bảo': 248, 'vài': 249, 'Bây_giờ': 250, 'Tại_sao': 251, 'cảm_thấy': 252, 'chỗ': 253, 'Một': 254, 'nhỏ': 255, 'Mọi': 256, 'thực_sự': 257, 'Lúc': 258, 'hôm_qua': 259, 'quyết_định': 260, 'chẳng': 261, 'tưởng': 262, 'gần': 263, 'nhanh': 264, 'buổi': 265, 'tất_cả': 266, 'số': 267, 'đánh': 268, 'ô_tô': 269, 'câu': 270, 'chết': 271, 'em': 272, 'dậy': 273, 'Con': 274, 'bộ': 275, '10': 276, 'bài': 277, 'kể': 278, 'quay': 279, 'mang': 280, 'ngày_mai': 281, 'quan_trọng': 282, 'chạy': 283, 'hôm_nay': 284, 'khóc': 285, 'nhỉ': 286, 'tao': 287, 'lớn': 288, 'chắc_chắn': 289, 'cây': 290, 'thay_đổi': 291, 'tháng': 292, 'dành': 293, 'đông': 294, 'lý_do': 295, 'mấy': 296, 'đau': 297, 'đầu': 298, 'xuống': 299, 'kia': 300, 'bận': 301, 'bỏ': 302, 'uống': 303, 'Điều': 304, 'đủ': 305, 'xe_đạp': 306, 'mượn': 307, 'cuộc': 308, 'sắp': 309, 'viết': 310, 'ngôi': 311, 'Xin': 312, 'giáo_viên': 313, 'Úc': 314, 'đồ': 315, 'thật_sự': 316, 'cửa': 317, 'đừng': 318, 'cà_phê': 319, 'Có_lẽ': 320, 'nhận': 321, 'giúp_đỡ': 322, 'thường': 323, 'có_lẽ': 324, 'trai': 325, 'dễ': 326, 'Làm_ơn': 327, 'Hai': 328, 'bọn': 329, 'bắt': 330, 'sinh': 331, '3': 332, 'tớ': 333, 'Nhật_Bản': 334, 'mặc': 335, 'xe_hơi': 336, 'vui': 337, 'khiến': 338, 'cố': 339, 'to': 340, 'Trong': 341, 'bán': 342, 'bây_giờ': 343, 'giữ': 344, 'đầu_tiên': 345, 'Nhật': 346, 'luôn': 347, 'muộn': 348, 'bức': 349, '2': 350, 'nhờ': 351, 'tiệc': 352, 'suốt': 353, 'bàn': 354, 'Mình': 355, 'Ở': 356, 'đứa': 357, 'báo': 358, 'nơi': 359, 'khoảng': 360, 'đồng_hồ': 361, 'ghét': 362, 'mèo': 363, 'trở_thành': 364, 'đêm': 365, 'hoa': 366, 'tại_sao': 367, 'vợ': 368, 'mở': 369, 'Hôm_qua': 370, 'Các': 371, 'hứa': 372, 'tay': 373, 'chứ': 374, 'Đã': 375, 'ngay': 376, 'đẹp': 377, 'Người': 378, 'trả_lời': 379, 'Cả': 380, 'sai': 381, 'Em': 382, 'thành_phố': 383, 'xấu': 384, 'chuẩn_bị': 385, 'học_sinh': 386, 'đói': 387, 'trả': 388, 'rảnh': 389, 'bố': 390, 'quả': 391, 'trở_lại': 392, 'quyển': 393, 'màu': 394, 'cốc': 395, '30': 396, 'mẹ': 397, 'chờ_đợi': 398, 'giá': 399, 'chính': 400, 'ô': 401, 'Cho': 402, 'món': 403, 'giải_thích': 404, '6': 405, 'phụ_nữ': 406, 'cao': 407, 'Cuối_cùng': 408, 'duy_nhất': 409, 'ngạc_nhiên': 410, 'đáng': 411, 'Chiếc': 412, 'sẵn_sàng': 413, 'Mỹ': 414, 'cười': 415, 'ảnh': 416, 'piano': 417, 'Khi': 418, 'sự_thật': 419, 'bước': 420, 'lo_lắng': 421, 'Đi': 422, 'cuộc_sống': 423, 'du_lịch': 424, 'nóng': 425, 'thư': 426, 'lớp': 427, 'khá': 428, 'trở_nên': 429, 'mắt': 430, 'ạ': 431, 'cứ': 432, 'hoàn_toàn': 433, 'xa': 434, 'cố_gắng': 435, 'khuyên': 436, 'mùa': 437, 'sang': 438, 'Vào': 439, 'trắng': 440, 'táo': 441, 'Bọn': 442, 'thắng': 443, 'đùa': 444, 'lựa_chọn': 445, 'mỗi': 446, 'chờ': 447, 'hạnh_phúc': 448, 'xe_buýt': 449, 'vi': 450, 'dưới': 451, 'tiếp_tục': 452, 'điểm': 453, 'Để': 454, 'ý': 455, 'chân': 456, 'dù': 457, 'Bà': 458, 'Chắc': 459, 'mong': 460, 'vô_cùng': 461, 'ý_tưởng': 462, 'đôi': 463, 'già': 464, 'đàn_ông': 465, 'nghỉ': 466, 'cá': 467, 'Vì': 468, 'thiếu': 469, 'đoán': 470, 'Tối': 471, 'chiều': 472, 'hôn': 473, 'chuyến': 474, 'giết': 475, 'nổi_tiếng': 476, 'tại': 477, 'ý_định': 478, 'một_cách': 479, 'cực_kỳ': 480, 'hơi': 481, 'phim': 482, 'phút': 483, 'vụ': 484, 'Trời': 485, 'thư_viện': 486, 'hoạt_động': 487, 'Việc': 488, 'rõ': 489, 'ít': 490, 'hy_vọng': 491, 'nằm': 492, 'đóng': 493, 'giải_quyết': 494, 'ấn_tượng': 495, 'cuối': 496, 'hoàn_thành': 497, 'Bố': 498, 'sửa': 499, 'độ': 500, 'ước': 501, 'đội': 502, 'cơn': 503, 'lòng': 504, 'đứng': 505, 'ti': 506, 'chai': 507, 'mệt': 508, 'đắt': 509, 'hát': 510, 'chăm_chỉ': 511, 'một_ít': 512, 'dịch': 513, 'Chị': 514, 'Thật': 515, 'lái': 516, 'bận_rộn': 517, 'cuối_cùng': 518, 'tiết_kiệm': 519, 'lâu': 520, 'sinh_viên': 521, 'thế_giới': 522, 'bất_kỳ': 523, 'tặng': 524, 'tệ': 525, 'trốn': 526, 'phần': 527, 'điện': 528, 'ốm': 529, 'Chuyện': 530, 'dừng': 531, 'bay': 532, 'trà': 533, 'bệnh': 534, 'lẽ': 535, 'lái_xe': 536, 'máy': 537, 'dạy': 538, 'biển': 539, 'cẩn_thận': 540, 'nước_ngoài': 541, 'đặt': 542, 'đồng_ý': 543, 'kết_hôn': 544, 'Làm': 545, 'khóa': 546, 'ly': 547, 'nhạc': 548, 'như_thế': 549, 'cha': 550, 'một_vài': 551, 'kiếm': 552, 'tóc': 553, 'chuyển': 554, 'đời': 555, 'câu_chuyện': 556, 'tình': 557, 'giống': 558, 'bài_tập': 559, 'Nhà': 560, 'tính': 561, 'quen': 562, 'bánh': 563, 'Mùa': 564, 'Chỉ': 565, 'máy_ảnh': 566, 'bia': 567, 'nhà_ga': 568, 'tai_nạn': 569, 'đón': 570, 'ngay_lập_tức': 571, 'tàu': 572, 'gây': 573, 'loài': 574, 'Cảnh_sát': 575, 'em_gái': 576, 'Xin_lỗi': 577, 'cấp': 578, 'thành': 579, 'Rất': 580, 'Ngày_mai': 581, 'chị': 582, 'điên_rồ': 583, 'trưa': 584, '13': 585, 'nhầm': 586, 'bản': 587, 'Tôm': 588, 'bố_mẹ': 589, 'Công_việc': 590, 'chụp': 591, 'ghế': 592, 'kịp': 593, 'sỹ': 594, 'làng': 595, 'đối_với': 596, 'vàng': 597, 'rượu': 598, 'tòa': 599, 'Cha': 600, 'Tụi': 601, 'giận': 602, 'căn': 603, 'Nói': 604, 'kế_hoạch': 605, 'Đô-la': 606, 'phía': 607, 'Sự': 608, 'cửa_hàng': 609, 'tăng': 610, 'dài': 611, 'đàn': 612, 'thuốc': 613, 'Sau': 614, 'chút': 615, 'ngon': 616, 'Mỗi': 617, 'Chẳng': 618, 'thú_vị': 619, 'sa_thải': 620, 'loại': 621, 'dạo': 622, 'đuổi': 623, 'bị_thương': 624, '5': 625, 'sở_hữu': 626, 'em_trai': 627, 'nặng': 628, 'cửa_sổ': 629, 'Cho_dù': 630, 'John': 631, 'phàn_nàn': 632, 'túi': 633, 'Từ': 634, 'Ý': 635, 'lửa': 636, 'suy_nghĩ': 637, 'chung': 638, 'mức': 639, 'bà': 640, 'bão': 641, 'tốt_nghiệp': 642, 'toàn_bộ': 643, 'cạnh': 644, 'Nhiều': 645, 'tò_mò': 646, 'ổn': 647, '20': 648, 'do': 649, 'nhà_hàng': 650, 'thơ': 651, 'thuộc_lòng': 652, 'gia_đình': 653, 'Mặc_dù': 654, 'cổ': 655, 'Ngay': 656, 'đem': 657, 'lạnh': 658, 'cứu': 659, 'nguy_hiểm': 660, 'nổi': 661, 'rưỡi': 662, 'thói_quen': 663, 'mặt': 664, 'hút': 665, 'Đáng': 666, 'súng': 667, 'tranh': 668, 'quản_lý': 669, 'khả_năng': 670, 'Vui_lòng': 671, 'giàu': 672, 'váy': 673, 'lá': 674, 'tuyệt_vời': 675, 'giày': 676, 'kết_thúc': 677, 'dao': 678, 'gôn': 679, 'cha_mẹ': 680, 'tham_gia': 681, 'máy_tính': 682, 'chịu': 683, 'thịt': 684, 'giận_dữ': 685, 'ngựa': 686, 'im_lặng': 687, 'nấu': 688, 'thức_ăn': 689, 'cơ_hội': 690, '11': 691, 'vị_trí': 692, 'sân_bay': 693, 'tập': 694, 'thăm': 695, 'quà': 696, 'Cảm_ơn': 697, 'thằng': 698, 'Tuần': 699, 'bản_thân': 700, 'luôn_luôn': 701, 'cơm': 702, 'vỡ': 703, 'họp': 704, 'tắt': 705, 'thời_tiết': 706, 'từ_bỏ': 707, 'chọn': 708, 'thuê': 709, 'chú_ý': 710, 'thừa': 711, 'Buổi': 712, 'say': 713, 'từ_chối': 714, 'lẫn': 715, 'tự_tử': 716, 'vua': 717, 'tiểu_thuyết': 718, 'rẻ': 719, 'máu': 720, 'bánh_mì': 721, 'coi': 722, 'Năm': 723, 'Tối_qua': 724, 'sai_lầm': 725, 'Người_ta': 726, 'thuốc_lá': 727, 'mong_muốn': 728, 'sông': 729, 'thoát': 730, 'liên_lạc': 731, 'tui': 732, 'con_trai': 733, 'mẫu': 734, 'hoặc': 735, 'yêu_cầu': 736, 'giấu': 737, 'nợ': 738, 'lịch_sử': 739, 'luật_sư': 740, 'Giáng_Sinh': 741, 'chiến_tranh': 742, 'bút_chì': 743, 'Sẽ': 744, 'mai': 745, 'lát': 746, 'chồng': 747, 'con_gái': 748, 'quán': 749, 'vô': 750, 'dây': 751, 'Trước': 752, 'Trên': 753, 'mơ': 754, 'chìa_khóa': 755, 'hình': 756, 'rửa': 757, 'xây': 758, 'lỗi': 759, 'bác_sĩ': 760, 'giữa': 761, 'Cuốn': 762, 'chấp_nhận': 763, 'công_viên': 764, 'áo_len': 765, 'câu_lạc_bộ': 766, 'thừa_kế': 767, 'hang': 768, 'rượu_vang': 769, 'vui_lòng': 770, 'đáng_lẽ': 771, 'nghiên_cứu': 772, 'thất_vọng': 773, 'TV': 774, 'Đưa': 775, 'động_vật': 776, 'gió': 777, 'hắn': 778, 'gỗ': 779, 'tấm': 780, 'Mai': 781, 'bởi': 782, 'cảm_giác': 783, 'da': 784, 'đầy': 785, 'Tokyo': 786, 'Mấy': 787, 'di_chuyển': 788, 'Đức': 789, 'tờ': 790, 'nghèo': 791, 'khách': 792, 'giả': 793, 'hè': 794, 'chằm_chằm': 795, 'môn': 796, 'miếng': 797, 'tình_yêu': 798, 'vì_sao': 799, 'chủ': 800, 'công_ty': 801, 'thị_trấn': 802, 'giàu_có': 803, 'đèn': 804, 'thể_thao': 805, 'nhảy': 806, 'bây': 807, 'chán': 808, 'thành_công': 809, 'chúng': 810, 'mở_cửa': 811, 'cổng': 812, 'cắt': 813, 'xinh_đẹp': 814, 'Nước': 815, 'thông_minh': 816, 'trẻ_con': 817, 'ngã': 818, 'hầu_như': 819, 'núi': 820, 'nến': 821, 'tai': 822, 'vườn': 823, 'cân': 824, 'dẫn': 825, 'chảy': 826, 'tránh': 827, 'đỏ': 828, 'sinh_nhật': 829, 'nghiêm_túc': 830, 'đề_nghị': 831, 'máy_bay': 832, 'dư': 833, 'quan_tâm': 834, 'quốc_gia': 835, '/': 836, 'tự_hào': 837, 'khách_sạn': 838, 'mời': 839, 'dường_như': 840, 'đề_xuất': 841, 'áo': 842, 'tủ_lạnh': 843, 'Canada': 844, 'anh_trai': 845, 'bưu_điện': 846, 'tù': 847, 'ngờ': 848, 'thành_viên': 849, 'ngôi_sao': 850, 'cho_phép': 851, 'Lại': 852, 'giảm': 853, 'Nhìn': 854, 'như_vậy': 855, 'để_ý': 856, 'thua': 857, 'hề': 858, 'bao_lâu': 859, 'Một_số': 860, 'kỳ': 861, 'Ước': 862, 'hồ': 863, 'tối_qua': 864, 'an_toàn': 865, 'trái': 866, 'chùa': 867, 'chả': 868, 'bóng_đá': 869, 'ngôn_ngữ': 870, 'Xe_buýt': 871, 'thế_này': 872, 'Hy_vọng': 873, 'kiểm_tra': 874, 'Ba': 875, 'tin_tưởng': 876, 'triệu': 877, 'nhẹ': 878, 'chặt': 879, 'mũ': 880, 'bắt_buộc': 881, 'hay_là': 882, 'đơn_giản': 883, 'hài_lòng': 884, 'vú': 885, 'yếu': 886, 'phép': 887, 'Có_vẻ': 888, 'rau': 889, 'Thời_gian': 890, 'địa_chỉ': 891, 'hứng_thú': 892, 'béo': 893, 'tốn': 894, 'kỳ_lạ': 895, 'càng': 896, 'trộm': 897, 'cầm': 898, 'hối_hận': 899, 'Mary_định': 900, 'buồn_ngủ': 901, 'đá': 902, 'tầm': 903, 'thi': 904, 'giải': 905, 'sáu': 906, 'sử_dụng': 907, 'bắt_giữ': 908, 'mùi': 909, 'danh_sách': 910, 'dự': 911, 'Đến': 912, 'chim': 913, 'Chó': 914, 'Hiện_tại': 915, 'tiếp': 916, 'ghé': 917, 'năm_ngoái': 918, 'kìa': 919, 'tiếc': 920, 'cũ': 921, ':': 922, 'Tên': 923, 'tuyết': 924, 'bảo_vệ': 925, 'lạ': 926, 'tầng': 927, 'cánh': 928, 'sức_khỏe': 929, '8': 930, 'gấp': 931, 'âm_nhạc': 932, 'thất_bại': 933, 'ly_hôn': 934, 'ướt': 935, 'bụng': 936, 'nhanh_chóng': 937, 'sàn': 938, 'Thích': 939, 'buộc_tội': 940, 'mệt_mỏi': 941, 'quan_hệ': 942, 'nhóm': 943, 'Giữ': 944, 'mỳ': 945, 'diễn': 946, 'e_rằng': 947, 'chính_phủ': 948, 'trừ': 949, 'cảm_ơn': 950, 'khó_chịu': 951, 'đám': 952, 'mong_đợi': 953, 'tay_trái': 954, 'bệnh_viện': 955, 'phát_triển': 956, 'Mắt': 957, 'phạm': 958, 'sáng_mai': 959, 'trèo': 960, 'tường': 961, 'gửi': 962, 'quét': 963, 'cư_xử': 964, 'chậm': 965, 'nuôi': 966, 'ngu': 967, 'tôn_giáo': 968, 'cải_trang': 969, 'thang': 970, 'thuyền': 971, 'vé': 972, 'bơ': 973, 'tổ_chức': 974, 'Có_thể': 975, 'giả_vờ': 976, 'tham_dự': 977, 'ví': 978, 'kính': 979, 'tô': 980, 'vay': 981, 'kẻ': 982, 'sợ_hãi': 983, 'bình_tĩnh': 984, 'vẽ': 985, 'cháy': 986, 'Hồi': 987, 'Dạo': 988, 'rắc_rối': 989, 'dọc': 990, 'xe_tải': 991, 'thảo_luận': 992, 'thoải_mái': 993, 'Lần': 994, 'sắt': 995, 'gà': 996, 'tương_lai': 997, 'liệu': 998, 'Paris': 999, 'chăm_sóc': 1000, 'tìm_kiếm': 1001, 'hồi_phục': 1002, 'Tụi_tao': 1003, 'khó_khăn': 1004, 'tạo': 1005, 'sạch': 1006, 'Yên': 1007, 'lốp': 1008, 'Tủ_lạnh': 1009, 'giường': 1010, 'một_số': 1011, 'mà_còn': 1012, 'hồi': 1013, 'khả_thi': 1014, 'hiếm': 1015, 'hướng': 1016, 'tạnh': 1017, 'tỉnh': 1018, 'tụi': 1019, 'hấp_dẫn': 1020, 'xin': 1021, 'Cửa_hàng': 1022, 'thấp': 1023, 'tức_giận': 1024, 'tụi_tao': 1025, 'trở': 1026, 'thức_ăn_thừa': 1027, 'bó': 1028, 'kéo_dài': 1029, 'mạnh': 1030, 'guitar': 1031, 'điều_tra': 1032, 'Đáng_lẽ': 1033, 'sâu': 1034, 'tiền_lẻ': 1035, 'nắm': 1036, 'khổng_lồ': 1037, 'buồn': 1038, 'yêu_thích': 1039, 'hỏng': 1040, 'phụ': 1041, 'Chân': 1042, 'Em_trai': 1043, '12': 1044, 'nỗi': 1045, 'Hôm': 1046, 'Thế_giới': 1047, 'đồ_ăn': 1048, 'ấm': 1049, 'bối_rối': 1050, 'sữa': 1051, '18': 1052, 'thuyết_phục': 1053, 'sơn': 1054, 'lau': 1055, 'Số': 1056, 'e': 1057, 'Hầu_như': 1058, 'khăn': 1059, 'khu': 1060, 'nhắc': 1061, 'thức': 1062, '50': 1063, 'nền': 1064, 'thay': 1065, 'cảm': 1066, 'hiện_tại': 1067, 'tám': 1068, 'chuột': 1069, 'mừng': 1070, 'gội': 1071, 'chiến_thắng': 1072, 'báo_cáo': 1073, 'đỉnh': 1074, 'căng_thẳng': 1075, 'Thuốc': 1076, 'Tiếng': 1077, 'dắt': 1078, 'Công_ty': 1079, 'vòng': 1080, 'tháo': 1081, 'giấy': 1082, 'nút': 1083, 'Còn': 1084, 'Chắc_hẳn': 1085, 'ao': 1086, 'Sáng': 1087, 'hết_sức': 1088, 'lỡ': 1089, 'hàng_xóm': 1090, 'kiểu': 1091, 'hàng': 1092, 'ga': 1093, 'Máy_tính': 1094, 'cỏ': 1095, 'ngắn': 1096, '4': 1097, 'râu': 1098, 'trễ': 1099, 'thuyết_trình': 1100, 'mặc_dù': 1101, 'dấu_hiệu': 1102, 'thực_hiện': 1103, 'cô_đơn': 1104, 'phụ_thuộc': 1105, 'mười': 1106, 'Gọi': 1107, 'Hoa_Kỳ': 1108, 'hộp': 1109, 'bình_thường': 1110, '100': 1111, 'Thôi': 1112, 'nghỉ_ngơi': 1113, 'học_kỳ': 1114, 'yên': 1115, 'mua_sắm': 1116, 'trung_tâm': 1117, 'Quá': 1118, 'ngốc': 1119, 'cãi': 1120, 'hưu': 1121, 'Thứ': 1122, 'nông_thôn': 1123, 'cảnh_sát': 1124, 'tổn_thương': 1125, 'Tình_hình': 1126, 'cần_thiết': 1127, 'thề': 1128, 'lương': 1129, 'phát_âm': 1130, 'biến': 1131, 'cai': 1132, 'thời_kỳ': 1133, 'ư': 1134, 'thô_lỗ': 1135, 'bất_khả_thi': 1136, 'thân_thiện': 1137, 'Dùng': 1138, 'đóng_cửa': 1139, 'rừng': 1140, 'chính_xác': 1141, 'Giá': 1142, 'cảm_xúc': 1143, 'lướt_ván': 1144, 'vũ_khí': 1145, 'chắc_hẳn': 1146, 'chuông': 1147, 'hẳn': 1148, 'họa': 1149, 'trùng': 1150, 'xuất_hiện': 1151, 'dự_định': 1152, 'cam': 1153, 'xấu_hổ': 1154, 'Dường_như': 1155, 'ngoại_ngữ': 1156, 'Thầy': 1157, 'tự_động': 1158, 'Ngôi': 1159, 'thổi': 1160, 'Bộ': 1161, 'nội': 1162, 'trôi': 1163, 'kết_quả': 1164, 'thứ_bảy': 1165, 'giành': 1166, 'vừa_mới': 1167, 'Giờ': 1168, 'cạn': 1169, 'tử_hình': 1170, 'hại': 1171, 'Thử': 1172, 'lắng_nghe': 1173, 'con_nuôi': 1174, 'bỏ_cuộc': 1175, 'tiếp_theo': 1176, 'quần_vợt': 1177, 'đánh_giá': 1178, 'hả': 1179, 'luật': 1180, 'Bức': 1181, 'hòa_nhạc': 1182, 'ngưng': 1183, 'ngân_hàng': 1184, 'đan': 1185, 'thủ_đô': 1186, 'soạn': 1187, 'Hầu_hết': 1188, 'lạc': 1189, 'con_người': 1190, 'văn_phòng': 1191, 'xuất_phát': 1192, 'Rõ_ràng': 1193, 'sờ': 1194, 'lối': 1195, 'dị_ứng': 1196, 'cà_rốt': 1197, 'phô': 1198, 'hôm': 1199, 'tài_xế': 1200, 'giới_thiệu': 1201, 'bò': 1202, 'ngọt': 1203, 'đỗ': 1204, 'khác_biệt': 1205, 'Chủ_Nhật': 1206, 'than_phiền': 1207, 'lộn_nhào': 1208, 'hét': 1209, 'thầm': 1210, 'khí': 1211, 'dễ_dàng': 1212, 'có_mặt': 1213, 'Thực_sự': 1214, 'Bữa': 1215, 'taxi': 1216, 'nhập_viện': 1217, 'hiện_thực': 1218, 'phòng_ngủ': 1219, 'gõ_cửa': 1220, 'Ồ': 1221, 'tùy_tục': 1222, 'Nhập_gia': 1223, 'bắn': 1224, 'cuộc_đời': 1225, 'Vấn_đề': 1226, 'Bố_mẹ': 1227, 'ánh_sáng': 1228, 'quần_áo': 1229, 'xóa': 1230, 'tiêu': 1231, 'nhóc': 1232, 'leo': 1233, 'hoa_quả': 1234, 'bật': 1235, 'trồng': 1236, 'đến_nỗi': 1237, 'đèn_pin': 1238, 'tài_sản': 1239, 'Đèn': 1240, 'giao_thông': 1241, 'nghìn': 1242, 'tra': 1243, 'cay': 1244, 'diễn_viên': 1245, 'bác': 1246, 'đô_la': 1247, 'bao': 1248, 'ôm': 1249, 'tennis': 1250, 'ngu_ngốc': 1251, 'lào': 1252, 'hít': 1253, 'mồm': 1254, 'giấc': 1255, 'làm_bạn': 1256, 'di_cư': 1257, 'ngăn_cản': 1258, 'cưỡi': 1259, 'hành_tinh': 1260, 'ưa': 1261, 'đau_đầu': 1262, 'trượt_tuyết': 1263, 'Cá_voi': 1264, 'chứng_minh': 1265, 'sốt': 1266, 'làm_ơn': 1267, 'bằng_chứng': 1268, 'bóng': 1269, 'tốt_bụng': 1270, 'kinh_tế': 1271, 'chữa': 1272, 'cờ_vua': 1273, 'bóng_chày': 1274, 'khô': 1275, 'phức_tạp': 1276, 'tự_nhiên': 1277, 'liên_quan': 1278, 'vali': 1279, '2009': 1280, 'trục_trặc': 1281, 'dần_dần': 1282, 'Tổng_thống': 1283, 'nướng': 1284, 'khỏe_mạnh': 1285, 'trang': 1286, 'mắt_xanh': 1287, 'pizza': 1288, 'nhắn': 1289, 'sủa': 1290, 'giọt': 1291, 'trăm': 1292, 'Hắn': 1293, 'avatar': 1294, 'điên': 1295, 'vợt': 1296, 'dậy_thì': 1297, 'từ_điển': 1298, 'Thằng': 1299, 'quẹt': 1300, 'dã': 1301, 'mái': 1302, 'đổi': 1303, 'Hàn_Quốc': 1304, 'người_ta': 1305, 'ngược': 1306, 'tài_chính': 1307, 'máy_vi_tính': 1308, 'nhuộm': 1309, 'dựa': 1310, 'ném': 1311, 'nấu_ăn': 1312, 'lo': 1313, 'Dầu_mỏ': 1314, 'Tránh': 1315, 'vô_tội': 1316, 'xe_lửa': 1317, 'vai_trò': 1318, 'tận_hưởng': 1319, 'lột': 1320, 'giải_pháp': 1321, 'chuyên_nghiệp': 1322, 'phố': 1323, 'Mười': 1324, 'bếp': 1325, 'Đại_sứ': 1326, 'Sở': 1327, 'Cám_ơn': 1328, 'văn_minh': 1329, 'lấp_lánh': 1330, 'chứng_khoán': 1331, 'chưa_thể': 1332, 'thông_báo': 1333, 'đặc_biệt': 1334, 'nè': 1335, 'Bài_hát': 1336, 'tội': 1337, 'ổ': 1338, 'Năm_ngoái': 1339, 'trên_hết': 1340, 'đầu_tư': 1341, 'nỗ_lực': 1342, 'tật': 1343, 'trạm': 1344, 'lỗi_lầm': 1345, 'bar': 1346, 'nhạc_sĩ': 1347, 'Chúc_mừng': 1348, 'đắng': 1349, '%': 1350, 'cải_thiện': 1351, 'thắt': 1352, 'hâm_nóng': 1353, 'thẳng': 1354, 'không_thể_nào': 1355, 'London': 1356, 'Tui': 1357, 'cho_nên': 1358, 'Tùy': 1359, 'họa_sĩ': 1360, 'tuổi_thơ': 1361, 'nhà_văn': 1362, 'ghi-ta': 1363, 'quen_thuộc': 1364, 'hối_tiếc': 1365, 'cắm_trại': 1366, 'Chạy': 1367, 'đăng': 1368, 'củ': 1369, 'đột_nhập': 1370, 'Ra': 1371, 'sản_phẩm': 1372, 'Chào': 1373, 'bốn': 1374, 'quanh': 1375, 'mù': 1376, 'lưng': 1377, 'Cuộc_họp': 1378, 'ăn_mừng': 1379, 'Selena_Gomez': 1380, 'cháu': 1381, 'sân': 1382, 'chữ': 1383, '9': 1384, 'dặm': 1385, 'nghỉ_việc': 1386, 'khôn_ngoan': 1387, 'rõ_ràng': 1388, 'tuyệt': 1389, 'bãi': 1390, 'cú': 1391, 'Nghe': 1392, 'nghiêm_khắc': 1393, 'dạy_học': 1394, 'đéo': 1395, 'kéo': 1396, 'đầm': 1397, 'chịu_đựng': 1398, 'đối_xử': 1399, 'rẻ_tiền': 1400, 'Ăn': 1401, 'hành_động': 1402, 'bài_thơ': 1403, 'răng': 1404, 'bowling': 1405, 'ổng': 1406, 'thương_hại': 1407, 'biến_đổi': 1408, '40': 1409, 'thị_thực': 1410, 'thực_phẩm': 1411, 'thà': 1412, 'khẩn_cấp': 1413, 'tiệm': 1414, 'giày_dép': 1415, 'CD': 1416, 'chợp': 1417, 'bỏng': 1418, 'như_là': 1419, 'Đáng_lẽ_ra': 1420, 'cứng': 1421, 'lao_động': 1422, 'không_khí': 1423, 'trái_cây': 1424, 'Cần': 1425, 'đào': 1426, 'chăm': 1427, 'Xe_hơi': 1428, 'làm_sao': 1429, 'chẳng_thể': 1430, 'giảm_giá': 1431, 'học_đường': 1432, 'chi_trả': 1433, 'khuya': 1434, 'Thật_thà': 1435, 'Chiến_tranh_Lạnh': 1436, 'rẽ': 1437, 'Cửa': 1438, 'tắc': 1439, 'chở': 1440, 'ghita': 1441, 'ngừng': 1442, 'chính_trị': 1443, 'bus': 1444, 'hiểu_lầm': 1445, 'đại_học': 1446, 'học_hỏi': 1447, 'Hẹn': 1448, 'nha': 1449, 'cơ': 1450, 'San_Francisco': 1451, 'tùy': 1452, 'Cha_mẹ': 1453, 'đành': 1454, 'súp': 1455, 'đâm': 1456, 'vùng': 1457, 'nửa_đêm': 1458, 'trừng_phạt': 1459, 'tình_cờ': 1460, 'nghi_ngờ': 1461, 'đối_mặt': 1462, 'tan': 1463, 'bí_mật': 1464, 'tình_huống': 1465, 'toán': 1466, 'sở_thích': 1467, 'thương_mại': 1468, 'Nhân_gian': 1469, 'may': 1470, 'tục_tĩu': 1471, 'C': 1472, 'ngón': 1473, 'qua_đời': 1474, 'sồi': 1475, '300': 1476, 'lỏm': 1477, 'tháp': 1478, 'trung_học': 1479, 'tìm_hiểu': 1480, 'kiềm_chế': 1481, 'bờ': 1482, 'dại': 1483, 'khoản': 1484, 'ước_gì': 1485, 'hợp_đồng': 1486, 'Ngôi_sao': 1487, 'điện_ảnh': 1488, 'hàng_rào': 1489, 'tồi': 1490, 'khắp': 1491, 'bản_tính': 1492, 'Tòa': 1493, 'buồm': 1494, 'hành_xử': 1495, 'băng': 1496, 'Ban_Nha': 1497, 'cứu_hỏa': 1498, 'cắn': 1499, 'Tây': 1500, 'đống': 1501, 'xuân': 1502, 'Gần': 1503, 'ung_thư': 1504, 'trở_về': 1505, 'áo_khoác': 1506, 'ăn_mặc': 1507, 'Chiều': 1508, 'đơn': 1509, 'sưởi': 1510, 'lai': 1511, 'bất': 1512, 'Phúc': 1513, 'chống': 1514, 'đầu_gối': 1515, 'Vài': 1516, 'bắt_cóc': 1517, 'đồng': 1518, 'Rượu_vang': 1519, 'ngụm': 1520, 'voi': 1521, 'rảnh_rỗi': 1522, 'hộ': 1523, 'tem': 1524, 'phết': 1525, 'búp_bê': 1526, 'đàn_dương_cầm': 1527, 'bánh_quy': 1528, 'thanh_toán': 1529, 'ý_kiến': 1530, 'xe_máy': 1531, 'ca': 1532, 'hoãn': 1533, 'tàn': 1534, 'hứng': 1535, 'suýt': 1536, 'đánh_lừa': 1537, 'đề_phòng': 1538, 'chăng_nữa': 1539, 'bồi_bàn': 1540, 'Hổ': 1541, '7': 1542, 'cơ_mà': 1543, 'Trả': 1544, 'đồ_thừa': 1545, 'Uống': 1546, 'cô_giáo': 1547, 'hư': 1548, 'nửa': 1549, 'ảnh_hưởng': 1550, 'đóng_góp': 1551, 'đa': 1552, 'sãi': 1553, 'Sấm_chớp': 1554, 'độc': 1555, 'hổ_tử': 1556, 'bóng_rổ': 1557, 'bóng_râm': 1558, 'vẻ': 1559, 'bề_ngoài': 1560, 'thỏa_mãn': 1561, 'anh_em': 1562, 'tự_sát': 1563, 'ngâm_nga': 1564, 'mất_ngủ': 1565, 'hầu_hết': 1566, 'phản_chiếu': 1567, 'nguyên_nhân': 1568, 'khí_hậu': 1569, 'Theo': 1570, 'bài_toán': 1571, 'khăn_tắm': 1572, 'bầu_trời': 1573, 'hiệu_sách': 1574, 'chào': 1575, 'bể': 1576, 'ngăn': 1577, 'thầy': 1578, 'Vì_sao': 1579, 'ca_sĩ': 1580, 'ngày_nay': 1581, 'phiền': 1582, 'Tiền': 1583, '(': 1584, 'biết_ơn': 1585, 'nhẫn': 1586, '€': 1587, 'triển_lãm': 1588, 'thảm_họa': 1589, 'trải': 1590, 'mục_đích': 1591, 'que_diêm': 1592, ')': 1593, 'thừa_nhận': 1594, 'Điều_ước': 1595, 'học_tập': 1596, 'trí_nhớ': 1597, 'cọ': 1598, 'sinh_vật': 1599, 'người_yêu': 1600, 'ngu_xuẩn': 1601, 'xem_xét': 1602, 'Căn': 1603, 'bát': 1604, 'Việt': 1605, 'kỹ_năng': 1606, 'Quốc_tế_ngữ': 1607, 'sếp': 1608, 'tàu_hỏa': 1609, 'kinh_khủng': 1610, 'đau_buồn': 1611, 'ký': 1612, 'chủ_đề': 1613, 'hẹn_hò': 1614, 'hi_vọng': 1615, 'cầu_nguyện': 1616, 'gay_gắt': 1617, 'cưới': 1618, 'đồi': 1619, 'xăng': 1620, 'khuyến_khích': 1621, 'hoàng_tử': 1622, 'bẩn': 1623, 'xung_quanh': 1624, 'dần': 1625, 'riêng': 1626, 'mở_mắt': 1627, 'Với': 1628, 'Tuyết': 1629, 'tồi_tệ': 1630, 'quẩy': 1631, 'Nhờ': 1632, 'Ấy': 1633, 'Tháng': 1634, 'loài_người': 1635, 'bắt_chuyện': 1636, 'reo': 1637, 'đạt': 1638, 'thắp': 1639, 'két': 1640, 'Mũi': 1641, 'rơi': 1642, 'bỏ_phiếu': 1643, 'đằng': 1644, 'tự_do': 1645, 'la': 1646, 'đồng_tình': 1647, 'giao_tiếp': 1648, 'nữ': 1649, 'Mặt_đất': 1650, 'điều_kiện': 1651, 'tài_liệu': 1652, 'Dù': 1653, 'vội': 1654, 'ti-vi': 1655, 'giả_thuyết': 1656, '1': 1657, 'Kyoto': 1658, 'cầu': 1659, 'cấp_cứu': 1660, 'hóa_ra': 1661, 'Hay_là': 1662, 'xuất_chúng': 1663, 'pháp_luật': 1664, 'dũng_cảm': 1665, 'tất': 1666, 'giới_hạn': 1667, 'lạc_đường': 1668, 'đeo': 1669, 'bút': 1670, 'lười': 1671, 'Quyển': 1672, 'Chỗ': 1673, 'Sách': 1674, 'Jackson': 1675, 'đền': 1676, 'chi_tiết': 1677, 'điền': 1678, 'bẩn_thỉu': 1679, 'Mang': 1680, 'cứu_thương': 1681, 'thư_giãn': 1682, 'nhất_thiết': 1683, 'ngượng': 1684, 'phản_bội': 1685, 'xạo': 1686, 'hỗ_trợ': 1687, 'ngại': 1688, 'New_York': 1689, 'cặp_sách': 1690, 'thành_thạo': 1691, 'khủng_bố': 1692, 'nổi_giận': 1693, 'thương': 1694, 'bầu_cử': 1695, 'Bloody_Mary': 1696, 'Lưng': 1697, 'ma_cà_rồng': 1698, 'tuần_hoàn': 1699, 'Im_mồm': 1700, 'Im': 1701, 'hắng_giọng': 1702, 'cát': 1703, 'vang': 1704, 'Cái_bàn': 1705, 'lướt': 1706, 'Ngài': 1707, 'giảng': 1708, 'Ý_kiến': 1709, 'khoe': 1710, 'nho': 1711, 'lợn': 1712, 'chần_chừ': 1713, 'nhân_cách': 1714, 'lượt': 1715, 'người_lớn': 1716, 'đồng_nghiệp': 1717, 'ngoại': 1718, '._Mai': 1719, 'bất_kì': 1720, 'Roosevelt': 1721, '1943': 1722, 'kích_thích': 1723, 'dấu': 1724, 'đáng_giá': 1725, 'quyền': 1726, 'thẳng_thừng': 1727, 'tập_thể_dục': 1728, 'điều_độ': 1729, 'xăng-uých': 1730, 'Kẻ_thù': 1731, 'dày_đặc': 1732, 'sương_mù': 1733, 'con_chuột': 1734, 'Thật_sự': 1735, 'trong_sạch': 1736, 'chín': 1737, 'tôn_trọng': 1738, 'trứng': 1739, 'Ban_đầu': 1740, 'yêu_thương': 1741, 'Chuyến': 1742, 'vòng_vo': 1743, 'thuộc': 1744, 'á': 1745, 'game': 1746, 'Tách': 1747, 'nói_láo': 1748, 'mưa_rào': 1749, 'ánh': 1750, 'tha_thứ': 1751, 'như_thế_nào': 1752, 'nam_tính': 1753, 'chia_tay': 1754, 'đặc_điểm': 1755, 'sốc': 1756, 'thậm_chí': 1757, 'A': 1758, 'hái': 1759, 'thân': 1760, 'Lời': 1761, 'Muộn': 1762, 'tự_tin': 1763, 'bóng_tối': 1764, 'dâu': 1765, 'hiểm': 1766, 'mứt': 1767, 'rầu_rĩ': 1768, 'cướp': 1769, 'Liệu': 1770, 'hướng_dẫn': 1771, 'Đại': 1772, 'rào_cản': 1773, 'sấm_sét': 1774, 'đại_dương': 1775, 'án': 1776, 'kim_loại': 1777, 'thực_hành': 1778, 'đáng_kể': 1779, 'trả_đũa': 1780, 'Tiếp_tục': 1781, 'nhường_nào': 1782, 'diễn_tả': 1783, 'Ti': 1784, 'UNICEF': 1785, 'Vật_giá': 1786, 'Nhanh': 1787, 'Liên_hợp_quốc': 1788, 'Càng': 1789, 'phát_điên': 1790, 'Nhi_đồng': 1791, 'Quỹ': 1792, 'Im_lặng': 1793, 'Không_thể': 1794, 'đậu': 1795, 'má': 1796, 'thôi_việc': 1797, 'thú': 1798, 'chán_nản': 1799, 'ám_chỉ': 1800, 'dễ_thương': 1801, 'môi_trường': 1802, 'lựu': 1803, 'du_học': 1804, 'Hết': 1805, 'nháy_mắt': 1806, 'não': 1807, 'chúng_mày': 1808, 'Tin': 1809, 'thiết_bị': 1810, 'máy_ghi_âm': 1811, 'số_lượng': 1812, 'Học': 1813, 'rộng_lớn': 1814, 'đối_phó': 1815, 'tinh_thần': 1816, 'nhấp': 1817, 'cảnh_báo': 1818, 'mũ_bảo_hiểm': 1819, 'khát_nước': 1820, 'biết_ý': 1821, 'kẹo': 1822, 'dựng': 1823, 'bỗng': 1824, 'căn_bệnh': 1825, 'quân_đội': 1826, 'ra_viện': 1827, 'lắc_đầu': 1828, 'Ấn_Độ': 1829, 'cáo_buộc': 1830, 'Chủ_nhật': 1831, 'ban_đêm': 1832, 'lâu_lâu': 1833, 'tồn_tại': 1834, 'tỷ': 1835, 'hổ': 1836, 'Lùi': 1837, 'cùn': 1838, 'đấu': 1839, 'Cố': 1840, 'mém': 1841, 'tức': 1842, '2003': 1843, 'ra_vào': 1844, 'bất_tử': 1845, 'Eiffel': 1846, 'thải': 1847, 'trực_tiếp': 1848, 'sáo': 1849, 'toàn_cầu': 1850, 'âm_mưu': 1851, '911': 1852, 'góa': 1853, 'dân': 1854, 'Ngày': 1855, 'Tạm_biệt': 1856, 'cún': 1857, '1940': 1858, 'Hollywood': 1859, 'thiệt': 1860, 'lõi': 1861, 'golf': 1862, 'Đàn': 1863, 'tắm': 1864, 'trộm_cắp': 1865, 'Ánh_mắt': 1866, 'khởi_tố': 1867, 'lươn': 1868, 'rắn': 1869, 'nấy': 1870, 'Thậm_chí': 1871, 'che_giấu': 1872, 'ngoạn_mục': 1873, 'Quang_cảnh': 1874, 'Phòng': 1875, 'B': 1876, 'trò_đùa': 1877, 'thất_nghiệp': 1878, 'lừa_dối': 1879, 'bông': 1880, 'hóa': 1881, 'nghi': 1882, 'Tom_định': 1883, 'rác': 1884, 'Việt_Nam': 1885, 'nhớ_nước': 1886, 'kêu': 1887, 'danh_tiếng': 1888, 'phí': 1889, 'tí': 1890, 'Chìa': 1891, 'gã': 1892, 'Thời_tiết': 1893, 'file': 1894, 'tệp': 1895, 'lực': 1896, 'tạp_chí': 1897, 'mới_mẻ': 1898, 'li_hôn': 1899, 'nếu_như': 1900, 'ước_mơ': 1901, 'nhà_báo': 1902, 'hèn': 1903, 'ghế_bành': 1904, 'dầu': 1905, 'Hàn': 1906, 'pop': 1907, 'tát': 1908, 'ba_đời': 1909, 'an_nhàn': 1910, 'ra_sao': 1911, 'biết_mấy': 1912, 'Lớp': 1913, 'đụng': 1914, 'thiu': 1915, 'Thiếu': 1916, 'Tại': 1917, 'trống_không': 1918, 'kim_cương': 1919, 'Lượng': 1920, 'quỳ': 1921, 'ngôn': 1922, 'kỹ': 1923, 'trông_đợi': 1924, 'ngoại_trừ': 1925, 'Cuộc_sống': 1926, 'Cuộc_đời': 1927, 'tâm': 1928, 'Giám_đốc': 1929, 'mắc_kẹt': 1930, 'phát_hiện': 1931, 'ngươi': 1932, 'Ta': 1933, 'bãi_biển': 1934, 'mạnh_mẽ': 1935, 'thỏa_thuận': 1936, 'Hàng': 1937, 'rã_rời': 1938, 'cổ_điển': 1939, 'kế_tiếp': 1940, 'mèo_đen': 1941, 'côn_trùng': 1942, 'bấm_nút': 1943, 'xanh_lá': 1944, 'mục_tiêu': 1945, 'thay_thế': 1946, 'Đối_với': 1947, 'tư': 1948, 'Vụ': 1949, 'hết_mức': 1950, 'kịch': 1951, 'Ford': 1952, '2013': 1953, 'điếc': 1954, 'bụi': 1955, 'kén_chọn': 1956, 'phát_lương': 1957, 'Hoa_hồng': 1958, 'doanh_thu': 1959, 'đợt': 1960, 'Nhà_hàng': 1961, 'Trứng': 1962, 'lễ_hội': 1963, 'công_chúng': 1964, 'hạt_giống': 1965, 'mâu_thuẫn': 1966, 'pound': 1967, 'CO2': 1968, 'Chim': 1969, 'công': 1970, 'quyết_đoán': 1971, 'Tin_tức': 1972, 'phản_đối': 1973, 'lỗ': 1974, 'giỏ': 1975, 'đĩa': 1976, 'dự_án': 1977, 'găng_tay': 1978, 'Đồng_hồ': 1979, 'Chồng': 1980, 'Âm_nhạc': 1981, 'Kinkaku-ji': 1982, 'ngây_thơ': 1983, 'Giảm': 1984, 'Hình_như': 1985, 'cúm': 1986, 'gương_mặt': 1987, 'Khả_năng': 1988, 'Nhân_tiện': 1989, 'đi_đi': 1990, 'thèm': 1991, 'thái': 1992, 'thường_thức': 1993, 'ghi_nhớ': 1994, 'hố': 1995, 'nghĩa_vụ': 1996, 'bạo_lực': 1997, 'nhân_chứng': 1998, 'buộc': 1999, 'trò': 2000, 'dùm': 2001, 'Bác': 2002, 'vượt': 2003, 'ghi_hình': 2004, 'Đồ_ăn': 2005, 'xui_xẻo': 2006, 'Đầu': 2007, 'đồ_đạc': 2008, 'Cứ': 2009, 'Bé': 2010, '+': 2011, 'Bất_kỳ': 2012, 'đối_thủ': 2013, 'cho_dù': 2014, 'buồi': 2015, 'lồn': 2016, 'thá': 2017, 'hoàn_hảo': 2018, 'Phong_cảnh': 2019, 'dân_số': 2020, 'thiên_tài': 2021, 'thù_địch': 2022, 'Cây': 2023, 'Ông_già': 2024, 'ăn_cắp': 2025, 'Lũ': 2026, 'Dừng': 2027, 'ngoại_lệ': 2028, 'quyến_rũ': 2029, 'trêu': 2030, 'nhà_thờ': 2031, 'Đang': 2032, 'sexy': 2033, 'chí': 2034, 'nổ': 2035, 'dữ': 2036, 'Bên': 2037, 'Kế_hoạch': 2038, 'hoàn_tất': 2039, 'ăn_chay': 2040, 'Trái': 2041, 'Chính_xác': 2042, 'bí': 2043, 'laptop': 2044, 'cầu_thủ': 2045, 'oan': 2046, 'mối': 2047, 'Chức_năng': 2048, 'bọt_biển': 2049, 'phủ_nhận': 2050, 'tin_đồn': 2051, 'bóp': 2052, 'hải_sản': 2053, 'Chopin': 2054, 'chơi_đùa': 2055, '97': 2056, 'kẻ_thù': 2057, 'Rồi': 2058, 'ATM': 2059, 'lẽ_ra': 2060, 'kem': 2061, 'nắng': 2062, 'gạt_tàn': 2063, 'nhà_khoa_học': 2064, 'dọn_dẹp': 2065, 'Columbus': 2066, 'vĩ_đại': 2067, 'rút': 2068, 'bỗng_nhiên': 2069, 'bỗng_dưng': 2070, 'thập_toàn': 2071, 'Nhân': 2072, 'cống_hiến': 2073, 'phạt': 2074, 'dội': 2075, 'tỉnh_ngủ': 2076, 'châu_Mỹ': 2077, 'Tốt': 2078, 'khám_phá': 2079, 'đổ': 2080, 'Viking': 2081, 'hủy': 2082, 'âm_thanh': 2083, 'khủng_khiếp': 2084, 'bận_bịu': 2085, 'lịch_sự': 2086, 'Thứ_Bảy': 2087, 'ý_nghĩa': 2088, 'va-ni': 2089, 'dọn': 2090, 'nhạc_công': 2091, 'mây': 2092, 'đen': 2093, '1960': 2094, 'người_thường': 2095, 'Dân': 2096, 'ngân_sách': 2097, 'Giáo_viên': 2098, 'Chắc_chắn': 2099, 'góc': 2100, 'dọa': 2101, 'địa_phương': 2102, 'roi': 2103, 'vặn': 2104, 'làm_quà': 2105, 'thẻ': 2106, 'Giày': 2107, 'lan': 2108, 'chọn_lựa': 2109, 'ba_mươi': 2110, 'thứ_Hai': 2111, 'thái_độ': 2112, 'chợ': 2113, 'Bình_thường': 2114, 'mùi_soa': 2115, 'bán_chạy': 2116, 'thẳng_thắn': 2117, 'tiền_mặt': 2118, 'Cách': 2119, 'sách_lịch_sử': 2120, 'nam': 2121, 'thể_hiện': 2122, 'Ngoài': 2123, 'tụi_mình': 2124, 'tráng_miệng': 2125, 'bánh_ngọt': 2126, 'trải_nghiệm': 2127, 'Bưu_điện': 2128, 'sofa': 2129, 'huấn_luyện_viên': 2130, 'xanh': 2131, 'tung_hứng': 2132, 'tín_dụng': 2133, 'thích_hợp': 2134, 'phương_pháp': 2135, 'tài_năng': 2136, 'quỷ_quái': 2137, 'sẵn_lòng': 2138, 'Cà_phê': 2139, 'kết_luận': 2140, 'chào_đón': 2141, 'Cháu': 2142, 'tương_tự': 2143, 'Chiến_tranh': 2144, 'Lâu': 2145, 'Trái_đất': 2146, 'sợi': 2147, 'nghề': 2148, 'Washington': 2149, 'nha_sĩ': 2150, 'kiểm_soát': 2151, 'hôm_kia': 2152, 'châu_Âu': 2153, 'thu_nhập': 2154, 'treo': 2155, 'ngày_càng': 2156, 'thắt_lưng': 2157, 'tổng_thống': 2158, 'chương_trình': 2159, 'sót': 2160, 'dễ_chịu': 2161, 'nhân_loại': 2162, 'sinh_sống': 2163, 'pha': 2164, 'hợp_xướng': 2165, 'dàn': 2166, 'tập_trung': 2167, 'lặp': 2168, 'tim': 2169, 'cỡ': 2170, 'bước_đi': 2171, 'trận': 2172, 'thỏa_thích': 2173, 'xuất_bản': 2174, 'Tắt': 2175, 'chuồng': 2176, 'truyền_hình': 2177, 'sống_sót': 2178, 'quyết_tâm': 2179, 'bất_cẩn': 2180, 'liên_tục': 2181, 'ngọn': 2182, 'lâu_đài': 2183, 'khoá': 2184, 'ơn': 2185, 'vết_thương': 2186, 'thỉnh_thoảng': 2187, 'Hay': 2188, 'An_toàn': 2189, 'thơ_ca': 2190, 'hói_đầu': 2191, 'thở_phào': 2192, 'Khu_vực': 2193, 'tận': 2194, 'ác': 2195, 'Bệnh_nhân': 2196, 'Phụ_nữ': 2197, 'trách_nhiệm': 2198, 'Los_Angeles': 2199, 'Bao_giờ': 2200, 'ác_báo': 2201, 'y_tá': 2202, 'điện_thoại_di_động': 2203, 'con_tin': 2204, 'thiện': 2205, 'mua_cái': 2206, 'Thiện': 2207, 'Chúng': 2208, 'nhạo': 2209, 'nghĩa_là': 2210, 'hằng': 2211, 'bởi_vì': 2212, 'lược': 2213, 'trì_hoãn': 2214, 'gan': 2215, 'tràn': 2216, 'nguồn_gốc': 2217, 'giải_lao': 2218, 'Tư': 2219, 'Japan': 2220, 'so': 2221, 'chân_dung': 2222, 'chất': 2223, 'trợ_giúp': 2224, 'vậy_nên': 2225, 'lũ': 2226, 'dự_đoán': 2227, 'Phải': 2228, 'Hokkaido': 2229, 'tình_trạng': 2230, 'in': 2231, 'điếu': 2232, 'tiền_bạc': 2233, 'trao': 2234, 'Thị_trưởng': 2235, 'tốt_đẹp': 2236, 'trực_giác': 2237, 'lời_nói': 2238, 'nguyệt_thực': 2239, 'thực': 2240, 'ghê': 2241, 'tán_thành': 2242, 'nhện': 2243, 'đợi_chờ': 2244, 'đếm': 2245, 'bảy': 2246, 'pin': 2247, 'hành_vi': 2248, 'đua': 2249, 'Trường': 2250, 'la_mắng': 2251, 'xử_lý': 2252, 'đài': 2253, 'Bài': 2254, 'truyền_thống': 2255, 'lệ_thuộc': 2256, 'tai_nghe': 2257, 'lợi_dụng': 2258, 'tưởng_tượng': 2259, 'Máy_bay': 2260, 'đuôi': 2261, 'xi': 2262, 'Thị_trường': 2263, 'gối': 2264, 'xoay': 2265, 'ngữ_pháp': 2266, 'chứng': 2267, 'chật_vật': 2268, 'yên_bình': 2269, 'đạp': 2270, 'đôi_khi': 2271, 'yên_tĩnh': 2272, 'cất_cánh': 2273, 'bào': 2274, 'Bảy': 2275, 'ong': 2276, 'trí_tuệ': 2277, 'nghệ_sỹ': 2278, 'hài_hước': 2279, 'Ngày_kia': 2280, 'vị': 2281, 'nhân_viên': 2282, 'thợ_máy': 2283, 'gọi_là': 2284, 'tivi': 2285, 'banh': 2286, 'thầy_giáo': 2287, 'nghệ_thuật': 2288, 'phiên_dịch': 2289, 'xài': 2290, 'kiệt_sức': 2291, 'hay_sao': 2292, 'lợi_ích': 2293, 'Trông': 2294, 'bất_ngờ': 2295, 'trống': 2296, 'thông_thạo': 2297, 'so_sánh': 2298, 'đạo_tặc': 2299, 'đất': 2300, 'ngang': 2301, 'gợi': 2302, 'lùn': 2303, 'thọ': 2304, 'ăn_trộm': 2305, 'Thế_nào': 2306, 'ố': 2307, 'điệu': 2308, 'sô-cô-la': 2309, 'bình': 2310, 'tiết': 2311, 'bảo_quản': 2312, 'giùm': 2313, 'cháo': 2314, 'phủ': 2315, 'đồ_uống': 2316, 'vũ_trụ': 2317, 'thanh_niên': 2318, 'dì': 2319, 'công_nghiệp': 2320, 'nhà_chức_trách': 2321, 'ít_nhất': 2322, 'huýt_sáo': 2323, 'ma': 2324, 'cân_nhắc': 2325, 'bể_bơi': 2326, 'sụt_giảm': 2327, 'Tom_Jackson': 2328, 'quý': 2329, 'trong_lành': 2330, 'lành_mạnh': 2331, 'liền': 2332, 'bốn_mươi': 2333, 'Cuộc_vui': 2334, 'bản_đồ': 2335, 'Động_cơ': 2336, 'Dân_số': 2337, 'nạn': 2338, 'tình_nguyện': 2339, 'Một_vài': 2340, 'bột': 2341, 'thực_thi': 2342, 'án_mạng': 2343, 'Cuộc': 2344, 'tuyển': 2345, '-': 2346, 'khổ': 2347, 'ồn': 2348, 'tuyên_bố': 2349, 'tam_giác': 2350, 'sưu_tập': 2351, 'hẹn': 2352, 'môn_học': 2353, 'sướng': 2354, 'Pa-ri': 2355, 'bẫy': 2356, 'hình_sự': 2357, 'chỉ_trích': 2358, 'gương': 2359, 'mất_tích': 2360, 'vui_vẻ': 2361, 'dính_líu': 2362, 'mật_khẩu': 2363, 'trang_web': 2364, 'đẩy': 2365, 'chèo': 2366, 'cà-phê': 2367, 'dự_báo': 2368, 'nhỡ': 2369, 'bất_đạt': 2370, 'đúng_đắn': 2371, 'sự_cố': 2372, 'Âu_lo': 2373, 'phục_hồi': 2374, 'Để_yên': 2375, 'mươi': 2376, 'Ba_tui': 2377, 'thiên_văn_học': 2378, 'chùm': 2379, 'nhức_đầu': 2380, 'mới_đây': 2381, 'Dục': 2382, 'cảm_kích': 2383, 'mược': 2384, 'mô_hình': 2385, 'lo_nghĩ': 2386, 'Hễ': 2387, 'hội_nghị': 2388, 'công_an': 2389, 'Cặp': 2390, 'chìa_khoá': 2391, '2007': 2392, 'Hoá_ra': 2393, 'thả': 2394, 'Lo_lắng': 2395, 'yên_ả': 2396, 'vuột': 2397, 'ngoại_giao': 2398, 'karate': 2399, 'thư_pháp': 2400, 'ủng_hộ': 2401, 'diêm': 2402, 'hoan_nghênh': 2403, 'tốc': 2404, 'thí_sinh': 2405, 'tỉnh_giấc': 2406, 'ướt_sũng': 2407, 'phớt_lờ': 2408, 'dám': 2409, 'Trận': 2410, 'Chàng': 2411, 'Hy': 2412, 'hoa_cúc': 2413, 'Dám': 2414, 'Lạp': 2415, 'ăn_cá': 2416, 'mực': 2417, 'Pin': 2418, 'quyên_góp': 2419, 'quỹ': 2420, 'tị_nạn': 2421, 'ven': 2422, 'xê': 2423, 'nhốt': 2424, 'Hoàng_tử': 2425, 'bớt': 2426, 'sáng_lập': 2427, 'đối_đầu': 2428, 'Bill': 2429, 'Lối': 2430, 'Gates': 2431, 'nhấn': 2432, 'trang_trại': 2433, 'ăn_yến_mạch': 2434, 'kèm': 2435, 'khỏe': 2436, 'Xui': 2437, 'xúi_quẩy': 2438, 'Microsoft': 2439, 'Detroit': 2440, 'ngành': 2441, 'Đậu': 2442, 'Lược': 2443, 'Chúng_mày': 2444, 'păng': 2445, 'khởi_hành': 2446, 'nội_thất': 2447, 'Visa': 2448, 'Điểm': 2449, 'đường_cao_tốc': 2450, 'Chicago': 2451, 'hung_dữ': 2452, 'giải_mã': 2453, 'cảm_nhận': 2454, 'công_tác': 2455, 'tulip': 2456, 'Áo': 2457, 'cản': 2458, 'bất_kể': 2459, 'cáu': 2460, 'triết_học': 2461, 'Đám': 2462, 'vợ_chồng': 2463, 'Thanh_toán': 2464, 'lụt': 2465, 'buôn_bán': 2466, 'cạnh_tranh': 2467, 'Đặt': 2468, 'Tác_phẩm': 2469, 'Sản_phẩm': 2470, 'trước_đây': 2471, 'mát': 2472, 'WiFi': 2473, 'nổi_cáu': 2474, 'biện_hộ': 2475, 'chứng_cứ': 2476, 'củ_chuối': 2477, 'Thịt': 2478, 'vẹt': 2479, 'hành_khách': 2480, 'Mĩ': 2481, 'thảm': 2482, 'mô': 2483, 'đục': 2484, 'tỉ': 2485, 'hoạt_bát': 2486, 'Kinh_Thánh': 2487, 'hoảng_sợ': 2488, 'Khẩu': 2489, 'nhà_tắm': 2490, 'cướp_cò': 2491, 'ơi': 2492, 'Muốn': 2493, 'tủ': 2494, 'nhẹ_nhàng': 2495, 'hoàn_thiện': 2496, 'mõi': 2497, 'flycam': 2498, 'danh_bạ': 2499, 'cục': 2500, 'tào_lao': 2501, 'nô_lệ': 2502, 'tách': 2503, 'Bia': 2504, 'chế_độ': 2505, 'còi': 2506, 'lần_lượt': 2507, 'vật': 2508, 'chàng': 2509, 'Thu_nhập': 2510, 'phản_lực': 2511, 'cáp': 2512, '85': 2513, 'miễn_cưỡng': 2514, 'USB': 2515, '16': 2516, 'thông_tin': 2517, 'chí_mạng': 2518, 'tham_khảo': 2519, 'còng': 2520, 'Sai_lầm': 2521, 'đáp_ứng': 2522, 'Khát_vọng': 2523, 'tiên': 2524, 'đòi': 2525, 'gậy': 2526, 'So': 2527, 'Lẽ_ra': 2528, 'Hai_mươi': 2529, 'đuối': 2530, 'đường_hàng_không': 2531, 'buồn_cười': 2532, 'té': 2533, 'nhà_quê': 2534, 'chủ_nghĩa_xã_hội': 2535, 'Giả_sử': 2536, 'lực_lưỡng': 2537, 'số_một': 2538, 'mệt_lử': 2539, 'đốm': 2540, 'nhát': 2541, 'cáy': 2542, 'sách_vở': 2543, 'Rồng': 2544, 'ngửi': 2545, 'gả': 2546, 'tuy': 2547, 'tới_mức': 2548, 'xuể': 2549, 'sâu_sắc': 2550, 'cocktail': 2551, 'Kết_hôn': 2552, 'Thị_trấn': 2553, 'suy_luận': 2554, 'kẻ_trộm': 2555, 'euro': 2556, 'nhiệt_độ': 2557, 'chối_cãi': 2558, 'thông_dịch_viên': 2559, 'đánh_vần': 2560, 'hủy_bỏ': 2561, 'nhặt': 2562, 'Ít': 2563, 'tính_mạng': 2564, 'kết': 2565, 'hoạn_nạn': 2566, 'vệ_sĩ': 2567, 'vệ': 2568, 'lên_lớp': 2569, 'VIP': 2570, 'kính_hiển_vi': 2571, 'bỏ_tù': 2572, 'Tự_do': 2573, 'bảo_hiểm': 2574, 'đạo_diễn': 2575, 'Hiện_giờ': 2576, 'Spielberg': 2577, 'Steven': 2578, 'Nhật_ngữ': 2579, 'thực_ra': 2580, 'Vệ_Nữ': 2581, 'cao_su': 2582, 'chặng': 2583, 'video': 2584, 'đồng_nghĩa': 2585, 'đám_cưới': 2586, 'quảng_cáo': 2587, 'bỏ_qua': 2588, 'Đô': 2589, 'thưởng_thức': 2590, 'buồn_thảm': 2591, 'gia_nhập': 2592, 'nhập_ngũ': 2593, 'ưng_ý': 2594, 'Đâu': 2595, 'nhung_lụa': 2596, 'phù_hợp': 2597, 'Nhấp': 2598, 'ví_dụ': 2599, 'thiên_thần': 2600, 'Ngôn_ngữ': 2601, 'va_li': 2602, 'bắt_tay': 2603, 'thùng': 2604, 'trại': 2605, 'vòng_quanh': 2606, 'Chúng_nó': 2607, 'động_não': 2608, 'Mơ_ước': 2609, 'phong_cảnh': 2610, 'chiêm_ngưỡng': 2611, 'lân_cận': 2612, '150': 2613, 'Vùng': 2614, 'hờ': 2615, 'Hồ_Baikal': 2616, 'khép': 2617, 'sảnh': 2618, 'kinh_nghiệm': 2619, 'bảo_thủ': 2620, 'thiên_đường': 2621, 'Hóa_ra': 2622, 'giấy_tờ': 2623, 'một_phần': 2624, 'đẻ_trứng': 2625, 'quá_cố': 2626, 'Mặt_trời': 2627, 'hệ_thống': 2628, 'gợi_ý': 2629, 'dự_luật': 2630, 'phần_thưởng': 2631, 'hình_thành': 2632, 'rạp_hát': 2633, 'Vũ_trụ': 2634, 'vừa_qua': 2635, 'chiếu': 2636, 'khiển': 2637, 'mọng_nước': 2638, 'điểu': 2639, 'buộc_lòng': 2640, 'thị_trường_chứng_khoán': 2641, 'cha_ông': 2642, 'tiến_độ': 2643, 'trả_thù': 2644, 'học_hành': 2645, 'ngắn_ngủi': 2646, 'cổ_vũ': 2647, 'dở': 2648, 'thuốc_phiện': 2649, 'coi_nhẹ': 2650, 'sách_báo': 2651, 'bán_hoa': 2652, 'luật_pháp': 2653, 'thư_viện_học': 2654, 'bác_bỏ': 2655, 'rộng_mở': 2656, 'sĩ_diện': 2657, 'lận': 2658, 'đột_nhiên': 2659, 'diễn_văn': 2660, 'ẩm_thực': 2661, 'bận_tâm': 2662, 'chỉ_bảo': 2663, 'đầu_thú': 2664, 'phó_nháy': 2665, '17': 2666, 'mù_chữ': 2667, 'quang': 2668, 'trợ_lý': 2669, 'ngày_sinh_nhật': 2670, 'anh_chị_em': 2671, 'đồng_quê': 2672, 'nhân': 2673, 'Tri_thức': 2674, 'sức_mạnh': 2675, 'Chúng_mình': 2676, 'Xem': 2677, 'bây_giowf': 2678, 'ngày_mai_sau': 2679, 'Trung_quốc': 2680, 'thường_ngày': 2681, 'như_thế_này': 2682, 'tư_cách': 2683, 'vân': 2684, 'Phũ_Sĩ': 2685, 'mẫu_đơn': 2686, 'thiết_kế': 2687, 'tuyên_án': 2688, 'Nhiệt_độ': 2689, 'đổ_lỗi': 2690, 'ban': 2691, 'rãnh': 2692, 'tốn_kém': 2693, 'kịch_Kabuki': 2694, 'hợp': 2695, 'Qua': 2696, 'Thiền_định': 2697, 'Alice': 2698, 'xinh': 2699, 'kiên_trì': 2700, 'web': 2701, 'Bị_can': 2702, 'hoà_nhạc': 2703, 'nông_nghiệp': 2704, 'nhập_khẩu': 2705, 'đũa': 2706, 'lưới': 2707, 'cà_vạt': 2708, 'đánh_rơi': 2709, 'đầu_mối': 2710, 'thỏ_rừng': 2711, 'Bắt': 2712, 'hóa_học': 2713, 'nhân_sự': 2714, 'Nga': 2715, 'remix': 2716, 'hỏng_mắt': 2717, 'Bầu': 2718, 'mở_cửa_sổ': 2719, 'lên_cơn': 2720, 'Thế': 2721, 'dịp': 2722, 'Bất_kể': 2723, 'Trái_Đất': 2724, 'Trước_tiên': 2725, 'trước_tiên': 2726, 'La_tinh': 2727, 'cứ_việc': 2728, 'Lái': 2729, 'ùa': 2730, 'tình_hình': 2731, 'xáo_trộn': 2732, 'Hạnh_phúc': 2733, 'Bất_cứ': 2734, 'Chờ': 2735, 'vứt': 2736, 'kịch_bản': 2737, 'ngưỡng_mộ': 2738, 'bế_tắc': 2739, 'điều_hòa': 2740, 'bản_gốc': 2741, 'Ô_tô': 2742, 'bầu': 2743, 'Thức': 2744, 'như_thể': 2745, 'băn_khoăn': 2746, 'Thật_ra': 2747, 'Nhưng': 2748, 'Camera': 2749, 'đoàn_kết': 2750, 'vô_địch': 2751, 'UFO': 2752, 'danh_hiệu': 2753, 'phòng_ban': 2754, 'Gốc_rễ': 2755, 'tỏ': 2756, 'tai_họa': 2757, 'Trèo': 2758, 'Thực_hiện': 2759, 'Chính_sách': 2760, 'giăm_bông': 2761, 'thu_hình': 2762, 'tiêu_thụ': 2763, 'đẳng_cấp': 2764, 'vận_động_viên': 2765, 'tập_luyện': 2766, 'hối_hả': 2767, 'tù_và': 2768, 'Máy': 2769, 'đối_lập': 2770, 'đảng': 2771, 'phê_phán': 2772, 'con_bé': 2773, 'Lấy': 2774, 'jazz': 2775, 'tấn_công': 2776, 'sơn_phòng': 2777, 'xương': 2778, 'sỉ_nhục': 2779, 'uy_hiếp': 2780, 'lỗi_thời': 2781, 'giao': 2782, 'miễn': 2783, 'rõ_rệt': 2784, 'nhấn_chìm': 2785, 'Beatles': 2786, 'The': 2787, 'đột_xuất': 2788, 'mê_cung': 2789, 'Khai_báo': 2790, 'thị_chính': 2791, 'hống_hách': 2792, 'chính_quyền': 2793, 'bến_xe': 2794, 'giòn': 2795, 'phát_thanh_viên': 2796, 'lạ_thường': 2797, 'mặt_trăng': 2798, 'thực_tế': 2799, 'bắt_gặp': 2800, 'giải_thưởng': 2801, 'tu': 2802, 'áp_dụng': 2803, 'tệ_hại': 2804, 'thân_thể': 2805, 'Ứng_viên': 2806, 'hình_phạt': 2807, 'Cá_nhân': 2808, 'Anh_chàng': 2809, 'né_tránh': 2810, 'hăn': 2811, 'hung': 2812, 'vô_số': 2813, 'xuất_viện': 2814, 'giáo': 2815, 'thày': 2816, 'hình_dung': 2817, 'OK': 2818, '200': 2819, 'từ_chức': 2820, 'Hawaii': 2821, 'tôm': 2822, 'châu_Phi': 2823, 'Ngày_nay': 2824, 'Măng-gút': 2825, 'mọc': 2826, 'Vắng': 2827, 'cầy': 2828, 'bảng': 2829, 'vì_thế': 2830, 'mơ_mộng': 2831, 'Narita': 2832, 'đặt_hàng': 2833, 'địa_danh': 2834, 'Gặp': 2835, 'Marry': 2836, '11-12': 2837, 'ăn_Ý': 2838, '._Anh': 2839, 'Yaesu': 2840, 'Trung_học_cơ_sở': 2841, 'năng': 2842, 'khà': 2843, 'Thoáng': 2844, 'lực_lượng': 2845, 'biểu_tình': 2846, 'thập_niên': 2847, 'gởi': 2848, 'hói': 2849, 'ngăn_kéo': 2850, '1980': 2851, 'Tỉ_lệ': 2852, 'dao_nhíp': 2853, 'cành': 2854, '2008': 2855, 'phì': 2856, 'bản_xứ': 2857, 'hủy_diệt': 2858, 'xưa': 2859, 'ít_nhiều': 2860, 'dân_chủ': 2861, 'loại_hình': 2862, 'xà_beng': 2863, '15': 2864, 'nhất_quyết': 2865, 'nấu_nướng': 2866, 'trình': 2867, 'phá_sản': 2868, 'đắt_đỏ': 2869, 'Giúp': 2870, 'kể_cả': 2871, 'ăn_uống': 2872, 'trương': 2873, 'khẩu_vị': 2874, 'khó_tính': 2875, 'lần_mò': 2876, 'nhét': 2877, 'Sê-lê-na_Gô-mét': 2878, 'Cô_giáo': 2879, 'bô-linh': 2880, 'Thầy_giáo': 2881, 'Monroe': 2882, 'thông_điệp': 2883, 'đẻ': 2884, 'Hiểu': 2885, 'Câu': 2886, 'Cứu': 2887, 'vây': 2888, 'mội': 2889, 'xuống_thang': 2890, 'Hoàn_hảo': 2891, 'thăng_bằng': 2892, 'thút_thít': 2893, 'đùa_với': 2894, 'Shinto': 2895, 'thuận_lợi': 2896, 'Văn_hóa': 2897, 'dặn': 2898, 'cán': 2899, 'suýt_nữa': 2900, 'Xe_cứu_thương': 2901, 'già_dặn': 2902, 'bạc': 2903, 'vãi': 2904, 'phép_thuật': 2905, 'Ô_nhiễm': 2906, 'tiết_lộ': 2907, 'bảo_mật': 2908, 'tin_buồn': 2909, 'sửng_sốt': 2910, 'hoá_đơn': 2911, 'cổ_phiếu': 2912, 'Thông_thường': 2913, 'Do': 2914, 'thuế': 2915, 'thu': 2916, 'nguồn': 2917, 'sụt': 2918, 'Sửa': 2919, 'hiện_đại': 2920, 'Cong': 2921, '...': 2922, 'cha_đẻ': 2923, 'ăn_nói': 2924, 'Lạnh': 2925, 'mơ_hồ': 2926, 'thành_thị': 2927, 'Facebook': 2928, 'Số_lượng': 2929, 'hoàn_cảnh': 2930, 'xét': 2931, 'riêng_tư': 2932, 'thong_thả': 2933, 'tinh_bột': 2934, 'chứa': 2935, 'khoai_lang': 2936, 'Củ_cải': 2937, 'nhập_học': 2938, 'hữu_ích': 2939, 'cacbon': 2940, 'Gì': 2941, 'Phương_pháp_luận': 2942, 'Ép-phen': 2943, 'xâm_phạm': 2944, 'phát_biểu': 2945, 'gratin': 2946, 'ủ': 2947, 'Wright': 2948, 'mau': 2949, 'mười_bảy': 2950, 'tử_tế': 2951, 'đioxit': 2952, 'nốc': 2953, 'XVIII': 2954, 'thế_kỷ': 2955, 'Chúc': 2956, '46': 2957, 'mãnh_liệt': 2958, 'mặt_phẳng': 2959, 'nụ': 2960, 'vô_tuyến': 2961, 'khủng_hoảng_kinh_tế': 2962, 'xuất_sắc': 2963, 'cam_đoan': 2964, 'trọn': 2965, 'đi-ô-xít': 2966, 'các-bon': 2967, 'phần_trăm': 2968, 'yên_tâm': 2969, 'Azerbaijan': 2970, 'Giữ_ghế': 2971, 'tái_diễn': 2972, 'ôtô': 2973, 'quít': 2974, 'san': 2975, 'trang_trí': 2976, 'thuyền_trưởng': 2977, 'công_bằng': 2978, 'giáng_sinh': 2979, 'Natto': 2980, 'mạng': 2981, 'dinh_dính': 2982, 'ngưỡng': 2983, '2010': 2984, 'phó_thác': 2985, 'Nhổ': 2986, 'hình_thức': 2987, 'Singapore': 2988, 'chúc_mừng': 2989, 'thú_tội': 2990, 'tê_tê': 2991, 'đánh_đòn': 2992, 'tội_phạm': 2993, 'môt': 2994, 'Singapre': 2995, 'gốc': 2996, 'đầu_lưỡi': 2997, 'nhổ': 2998, 'tiếp_quản': 2999, 'Lái_xe': 3000, 'chậm_chạp': 3001, 'Đội': 3002, 'tiêu_cực': 3003, 'cảnh_ngộ': 3004, 'cùng_chung': 3005, 'tủi_thân': 3006, 'nhậy': 3007, 'yên_lặng': 3008, 'một_chiều': 3009, 'lưu_thông': 3010, 'ngược_chiều': 3011, 'Cẩn_thận': 3012, 'thô_thiển': 3013, 'phai': 3014, 'tổng_thể': 3015, 'Chặng': 3016, 'len': 3017, 'trầm_trọng': 3018, 'nhảy_múa': 3019, 'triệu_chứng': 3020, 'vận_tốc': 3021, 'Xe_lửa': 3022, 'Thượng_lộ': 3023, 'bình_an': 3024, 'hành_trình': 3025, 'vít': 3026, 'vi_phạm': 3027, 'ốc': 3028, 'chị_gái': 3029, 'nước_cam': 3030, 'Vặn': 3031, 'dịch_vụ': 3032, 'Hừm': 3033, 'Cầm': 3034, 'Nên': 3035, 'đi_lại': 3036, 'Ít_nhất': 3037, 'Hoàng_Gia': 3038, 'Auckland': 3039, 'Khách_sạn': 3040, 'Cửa_sổ': 3041, 'hành_lang': 3042, 'cúi': 3043, 'vodka': 3044, 'Alps': 3045, 'Thấy': 3046, 'Thế_là': 3047, 'dãy': 3048, '>': 3049, 'Bắc_Kinh': 3050, 'vật_lý': 3051, 'nhất_định': 3052, 'tuyên_thệ': 3053, 'nhật_thực': 3054, 'muỗi': 3055, 'giá_sách': 3056, 'lễ_cưới': 3057, 'Thỏ': 3058, 'hộ_chiếu': 3059, 'cụ': 3060, 'định_giá': 3061, 'Mặt': 3062, 'tái_mét': 3063, 'bất_động_sản': 3064, 'quãng': 3065, 'choáng': 3066, 'may_mắn': 3067, 'rót': 3068, 'thai': 3069, 's': 3070, 'kính_trọng': 3071, 'công_cộng': 3072, 'gấu': 3073, 'dân_làng': 3074, 'tựa': 3075, 'sực': 3076, 'lạnh_giá': 3077, 'gắn': 3078, 'yếu_hèn': 3079, 'Ờ': 3080, 'nhiệm_vụ': 3081, 'bất_công': 3082, 'lớn_tuổi': 3083, 'Tai_nạn': 3084, 'Quét': 3085, 'giện': 3086, 'cấm_vận': 3087, 'Jefferson': 3088, 'Lừa_dối': 3089, 'hình_ảnh': 3090, 'nóc': 3091, 'luộc': 3092, 'Nóng': 3093, 'chơi_chữ': 3094, 'công_ăn_việc_làm': 3095, '1946': 3096, 'Connecticut': 3097, 'biểu_thị': 3098, 'bang': 3099, 'W._Bush': 3100, 'Geogre': 3101, 'thắc_mắc': 3102, 'Oxford': 3103, 'ác-coóc-đê-ông': 3104, 'vai': 3105, 'cờ_bạc': 3106, 'Thiếu_niên': 3107, 'ngày_đêm': 3108, 'luận': 3109, 'Lễ_hội': 3110, 'luyện': 3111, 'quân_phục': 3112, 'hải_quân': 3113, 'Sĩ_quan': 3114, 'Nhà_báo': 3115, 'chia': 3116, 'Lớp_học': 3117, 'thư_ký': 3118, 'hiệu_quả': 3119, 'Băng': 3120, 'nếm': 3121, 'mũi': 3122, 'ngoài_ra': 3123, 'dương_cầm': 3124, 'nghệ': 3125, 'To': 3126, 'hưởng_thụ': 3127, 'mở_miệng': 3128, 'tranh_chấp': 3129, 'y_như_rằng': 3130, 'hễ': 3131, 'accordion': 3132, 'thủ_phạm': 3133, 'nhíu': 3134, 'hung_thủ': 3135, 'Mặc_kệ': 3136, 'Dịch': 3137, 'Phòng_học': 3138, 'trước_kia': 3139, 'gánh_vác': 3140, 'thở': 3141, 'nín': 3142, 'xử_lí': 3143, 'Cảnh': 3144, 'vô_thần': 3145, 'ma_túy': 3146, 'lượng': 3147, 'xứng_đôi': 3148, 'tịch_thu': 3149, 'tái_nhợt': 3150, 'sôi_máu': 3151, 'thẩm_phán': 3152, 'Chơi': 3153, 'giai_điệu': 3154, 'Bach': 3155, 'con_cái': 3156, 'hay_quên': 3157, 'Phạm_nhân': 3158, 'chạm': 3159, 'tuỳ': 3160, 'xấu_xí': 3161, 'thiếp': 3162, 'không_gian': 3163, 'đoạn': 3164, 'phòng_học': 3165, 'tầm_mắt': 3166, 'tù_chung_thân': 3167, 'nhạy_cảm': 3168, 'xử': 3169, 'ông_bà': 3170, 'đói_bụng': 3171, 'màu_sắc': 3172, 'gợi_cảm': 3173, 'mãi': 3174, 'trưởng_phòng': 3175, 'vốn': 3176, 'trẻ_trung': 3177, 'mở_rộng': 3178, 'Chừng': 3179, 'sụ': 3180, 'Thâm_hụt': 3181, 'Diêm_Vương': 3182, 'mô-tô': 3183, 'mắc_cỡ': 3184, 'đè': 3185, 'ha': 3186, 'ván': 3187, 'trượt': 3188, 'Đêm': 3189, 'thông_suốt': 3190, 'văn': 3191, 'ten-nít': 3192, 'sét': 3193, 'kỷ_niệm': 3194, 'ngột_ngạt': 3195, 'dài_hạn': 3196, 'chúng_tớ': 3197, 'Chúa': 3198, 'thượng_đế': 3199, 'Rửa': 3200, 'nhẹ_nhõm': 3201, 'khoa_học': 3202, 'to_chuyện': 3203, 'bất_hợp_pháp': 3204, 'mỉm': 3205, 'một_trăm': 3206, 'hòa_hợp': 3207, 'ngu_dốt': 3208, 'dưa_bở': 3209, 'Hilton': 3210, 'yard': 3211, 'Gió': 3212, 'lắp_bắp': 3213, 'Thẳng': 3214, 'Sân': 3215, 'Lá': 3216, 'kỹ_sư': 3217, 'cạo': 3218, 'vương_miện': 3219, 'Vị': 3220, 'Kỳ': 3221, 'hơi_lạnh': 3222, 'dữ_kiện': 3223, 'vừa_rồi': 3224, 'trẻ_con_người': 3225, 'đồng_loạt': 3226, 'Câu_hỏi': 3227, 'chào_hàng': 3228, 'kì_thi': 3229, 'biết_tỏng': 3230, 'ôi': 3231, 'Của': 3232, 'Thông_tin': 3233, 'Ôtô': 3234, 'Bình_tĩnh': 3235, 'mười_Đô-la': 3236, 'ấu_trĩ': 3237, 'Đôi': 3238, 'sặc_sỡ': 3239, 'ăn_bây_giờ': 3240, 'thường_thức_giấc': 3241, 'thỏ': 3242, 'trọng_đại': 3243, 'hóa_đơn': 3244, 'khuôn_mặt': 3245, 'cạn_kiệt': 3246, 'Thái_độ': 3247, 'Sâu_bọ': 3248, 'vỏ': 3249, 'sao_lãng': 3250, 'thái_bình': 3251, 'hưởng': 3252, 'rút_lui': 3253, 'Trợ_lý': 3254, 'Xan_Phờ-ran-xít-xcô': 3255, 'câu_đố': 3256, 'tội_ác': 3257, 'Đếm': 3258, 'cua': 3259, 'bự': 3260, 'gai': 3261, 'kinh_ngạc': 3262, 'đại': 3263, 'nã': 3264, 'Gia': 3265, 'bất_lịch_sự': 3266, 'phỏng': 3267, 'dằn_vặt': 3268, 'ngán': 3269, 'phụ_trách': 3270, 'bếp_núc': 3271, 'Giúp_đỡ': 3272, 'Sáng_mai': 3273, 'đô': 3274, 'tự_lập': 3275, 'tặng_phẩm': 3276, 'đặc_ân': 3277, 'thắng_cử': 3278, 'khoan_dung': 3279, 'chủ_trương': 3280, 'Giêxu': 3281, 'thương_tổn': 3282, 'Chú': 3283, 'Ngu_si': 3284, 'thử_thách': 3285, 'mô_tả': 3286, 'cơ_bắp': 3287, 'thìa': 3288, 'đồng_cảm': 3289, 'Bơi_lội': 3290, 'Ý_nghĩ': 3291, 'bộ_đồ': 3292, 'đăng_ký': 3293, 'căm_ghét': 3294, 'mỏi': 3295, 'lợi_nhuận': 3296, 'nhà_thơ': 3297, 'kiểm': 3298, 'nón': 3299, 'can-xi': 3300, 'bina': 3301, 'chải': 3302, 'Nhắc': 3303, 'xứng': 3304, 'tù_nhân': 3305, 'Rau': 3306, 'mặt_trời': 3307, 'thám_hiểm': 3308, 'truyện': 3309, 'rung': 3310, 'vắng_mặt': 3311, 'ngại_ngùng': 3312, 'muối_bỏ': 3313, 'nĩa': 3314, 'động_tác': 3315, 'gập': 3316, 'cực_nhanh': 3317, 'làn': 3318, 'chối': 3319, 'gian_lận': 3320, 'sáng_giá': 3321, 'violon': 3322, 'mờ': 3323, 'vitamin': 3324, 'khúc_ngoặt': 3325, 'fan': 3326, 'cuồng': 3327, 'tằng_hắng': 3328, 'Diễn_giả': 3329, 'dịu': 3330, 'Cơn': 3331, 'keo_kiệt': 3332, 'hiếu_khách': 3333, 'lính': 3334, 'Đồ': 3335, 'ban_đầu': 3336, 'khó_tiêu': 3337, 'phấn_khích': 3338, 'cùng_với': 3339, 'mở_tiệc': 3340, '500': 3341, 'tây': 3342, 'MRI': 3343, 'làm_đau': 3344, 'đóng_băng': 3345, 'Mary_số': 3346, 'vung': 3347, 'Maria': 3348, 'mái_tóc': 3349, 'giống_hệt': 3350, 'làm_bếp': 3351, '80': 3352, 'hoảng_hốt': 3353, 'kêu_gọi': 3354, 'giups': 3355, 'mắc': 3356, 'Quyền_lực': 3357, 'tham_nhũng': 3358, 'ngượng_ngịu': 3359, 'thẹn_thùng': 3360, 'hợp_pháp': 3361, 'Tuổi': 3362, 'xanh_lục': 3363, 'trưởng_thành': 3364, 'lắc': 3365, 'định_hướng': 3366, 'xa_xa': 3367, 'khía_cạnh': 3368, 'Trò_chơi': 3369, 'tạm_thời': 3370, 'Đường': 3371, 'chủ_sở_hữu_tòa': 3372, 'biển_báo': 3373, 'chủ_sở_hữu': 3374, 'sở_hữu_tòa': 3375, 'cử': 3376, 'huấn_luyện': 3377, 'làm_trò': 3378, 'chú': 3379, 'táp': 3380, 'cặp': 3381, 'cố_ý': 3382, 'năng_lượng': 3383, 'chĩa': 3384, 'sóng': 3385, 'ra_hiệu': 3386, 'tử_trận': 3387, 'út': 3388, 'nhà_kho': 3389, 'đất_nước': 3390, 'trục_xuất': 3391, 'bật_đèn_xanh': 3392, 'hào_hứng': 3393, 'thành_quả': 3394, 'thứ_Bảy': 3395, 'Lính': 3396, 'mơ_ước': 3397, 'gầm': 3398, 'Khởi_đầu': 3399, 'một_nửa': 3400, 'lăn': 3401, 'Thực_ra': 3402, 'cưng': 3403, 'Nhóm_máu': 3404, 'Quả_bóng': 3405, 'đồ_chơi': 3406, 'sản_xuất': 3407, 'thời_điểm': 3408, 'hội_đồng': 3409, 'Mất': 3410, 'thổ_lộ': 3411, 'cao_bằng': 3412, 'hòa_giải': 3413, 'dôi': 3414, 'một_phép': 3415, 'y_như': 3416, 'đay': 3417, 'chứng_kiến': 3418, 'Được': 3419, 'Phải_chăng': 3420, 'gặp_mặt': 3421, 'đấm': 3422, 'trò_chuyện': 3423, 'sáng_tác': 3424, 'đồn': 3425, 'in_ấn': 3426, 'ra_đời': 3427, 'luyện_tập': 3428, 'trường_phái': 3429, 'nhà_trường': 3430, 'xây_dựng': 3431, 'khố': 3432, 'visa': 3433, 'sạch_sẽ': 3434, 'vớ': 3435, 'nước_lã': 3436, 'nhũng': 3437, 'thuyết': 3438, 'tiến_hoá': 3439, 'cao_lớn': 3440, 'bình_luận': 3441, 'đảm_đương': 3442, 'chị_em_gái': 3443, 'Canađa': 3444, 'Phong_tục': 3445, 'khu_vực': 3446, 'Tây_Âu': 3447, 'Bông_hoa': 3448, 'Con_trai': 3449, 'tonic': 3450, 'gin': 3451, 'Câu_lạc_bộ': 3452, 'Bướm_đêm': 3453, 'thỏa_hiệp': 3454, 'lầy': 3455, 'chấm_dứt': 3456, 'gục': 3457, 'trần': 3458, 'chối_bỏ': 3459, 'quen_mắt': 3460, 'quen_tay': 3461, 'Ăn_cắp': 3462, 'tưới': 3463, 'thu_hút': 3464, 'lúc_nào_đó': 3465, 'Châu_Á': 3466, 'hữu_cơ': 3467, 'chú_giải': 3468, 'chú_thích': 3469, 'lầu': 3470, 'quần_jean': 3471, 'nhân_dịp': 3472, 'bồ': 3473, 'thay_áo_phông': 3474, 'điển_hình': 3475, 'Dịch_thuật': 3476, 'chẳng_thể_nào': 3477, 'đường_ngầm': 3478, 'trung_học_cơ_sở': 3479, 'Bạc': 3480, 'đên': 3481, 'Thất_bại': 3482, 'áo_quần': 3483, 'Luân_Đôn': 3484, 'đâu_đó': 3485, 'Ao': 3486, 'Quả_thật': 3487, 'ngoảnh_mặt': 3488, '._Size': 3489, 'Mặc': 3490, 'chao': 3491, 'lượn': 3492, 'Mục_đích': 3493, 'biện_minh': 3494, 'phương_tiện': 3495, 'nhà_giam': 3496, 'lục': 3497, 'trung_bình': 3498, 'Món': 3499, 'xúp': 3500, 'mặn': 3501, 'gia_sư': 3502, 'Waikiki': 3503, 'bấm': 3504, 'hậu_quả': 3505, 'sương_muối': 3506, 'lơ': 3507, 'cảnh_giác': 3508, 'bút_bi': 3509, 'Giá_mà': 3510, 'bầm_dập': 3511, 'ép': 3512, 'đầu_độc': 3513, 'ngộ_độc': 3514, 'trúng_độc': 3515, 'lên_giá': 3516, 'American_Express': 3517, 'hãng': 3518, 'Trẻ_em': 3519, 'lạ_mặt': 3520, 'xuất': 3521, 'Tỗi': 3522, 'rắn_độc': 3523, 'Được_cái': 3524, 'Mừng': 3525, 'nếp': 3526, 'viên': 3527, 'trường_hợp': 3528, 'ra_mắt': 3529, 'Sinh_viên': 3530, 'kẹt': 3531, 'góc_phố': 3532, 'cao_cấp': 3533, 'nhân_tạo': 3534, 'thới': 3535, 'đôla': 3536, 'giọng': 3537, 'dễ_ưa': 3538, 'thông_qua': 3539, 'khủng_hoảng': 3540, 'nhấn_mạnh': 3541, 'loa': 3542, 'trông_coi': 3543, 'nghiện': 3544, 'bẻ': 3545, 'giao_dịch': 3546, 'kiệt_xuất': 3547, 'ba_má': 3548, 'tài_ba': 3549, 'Lâu_đài': 3550, 'vòi_sen': 3551, 'Viết': 3552, 'chiến_đấu': 3553, 'đạo': 3554, 'cộng_tác': 3555, 'Hóa_à': 3556, 'hiếu_thắng': 3557, 'vá': 3558, 'xẹp': 3559, 'Đố': 3560, 'Nào': 3561, 'nắm_bắt': 3562, 'Tai': 3563, 'Đề_xuất': 3564, 'tiến': 3565, 'trước_hạn': 3566, 'chi': 3567, 'phản_hồi': 3568, 'cơ_chứ': 3569, 'chuyền': 3570, 'Điền': 3571, 'văn_cảnh': 3572, 'cam_kết': 3573, 'Không_thể_nào': 3574, 'Nhanh_chóng': 3575, 'tham_lam': 3576, 'Gia_đình': 3577, 'Mớ': 3578, 'Ba_má': 3579, 'Trước_đây': 3580, 'Xa': 3581, 'mặt_đối_mặt': 3582, 'tá': 3583, 'tương_đồng': 3584, 'kiềm': 3585, 'nước_mắt': 3586, 'nàng': 3587, 'bóng_chuyền': 3588, 'giấy_vệ_sinh': 3589, 'Mùi_hôi': 3590, 'Học_hành': 3591, 'điếc_tai': 3592, 'đánh_trống_lảng': 3593, 'ghi': 3594, 'toà': 3595, 'đổi_ý': 3596, 'chống_án': 3597, 'Chủ_đề': 3598, 'giải_nghĩa': 3599, 'trùng_hợp': 3600, 'ngẫu_nhiên': 3601, 'chớ': 3602, 'tiếng_mẹ_đẻ': 3603, 'vể': 3604, 'trút': 3605, 'bọ': 3606, 'torng': 3607, 'xa_lạ': 3608, 'cất': 3609, 'chỉnh_tề': 3610, 'gọn_gàng': 3611, 'xinh_xắn': 3612, 'cá_tính': 3613, 'Chả': 3614, 'Người_lạ': 3615, 'Thu_dọn': 3616, 'Đọc': 3617, 'đương_đầu': 3618, 'Giá_cả': 3619, 'miễn_thuế': 3620, 'xốc': 3621, 'Hiện': 3622, 'ngoan_cố': 3623, 'nguội': 3624, 'tiến_triển': 3625, 'thay_vì': 3626, 'cố_tình': 3627, 'phóng_viên': 3628, 'thầy_cô': 3629, 'sang_trọng': 3630, 'kiệt_tác': 3631, 'thượng_sách': 3632, 'ghen_tuông': 3633, 'ghen_ghét': 3634, 'đố_kỵ': 3635, 'nồng_nhiệt': 3636, 'Thắng': 3637, 'chóng_mặt': 3638, 'một_tí': 3639, 'sắp_xếp': 3640, 'Hèn_chi': 3641, 'đom_đóm': 3642, 'tàu_điện': 3643, 'nhật': 3644, 'hiểm_nguy': 3645, 'sô-pha': 3646, 'truy_nã': 3647, 'cử_động_cơ': 3648, 'cafe': 3649, 'điểm_số': 3650, 'đam': 3651, '20,000_Yên': 3652, 'ít_ra': 3653, 'nhạt': 3654, 'kimono': 3655, 'chanh': 3656, 'ly_dị': 3657, 'bùi': 3658, 'vọt': 3659, 'Thương': 3660, 'chữ_cái': 3661, 'Sushi': 3662, 'Thực_chất': 3663, 'trắng_đen': 3664, 'khắc': 3665, 'Cặp_đôi': 3666, 'ôn_hoà': 3667, 'Má': 3668, 'tổ_ấm': 3669, 'dân_ca': 3670, 'đàn_bà': 3671, 'Đấy': 3672, 'xong_xuôi': 3673, 'Cố_gắng': 3674, '00': 3675, '08': 3676, 'bở': 3677, 'Công_an': 3678, 'Chính_phủ': 3679, 'Lão': 3680, 'Tiểu_thuyết': 3681, 'xã_hội': 3682, 'Gore': 3683, 'Tiếc': 3684, 'Al': 3685, 'khuyết_điểm': 3686, 'bia_đỡ_đạn': 3687, 'ưu_điểm': 3688, 'da_đầu': 3689, 'Con_sông': 3690, 'Đóng': 3691, 'Quá_trình': 3692, 'trách': 3693, 'giáo_dục': 3694, 'há': 3695, 'miệng': 3696, 'hội': 3697, 'đòi_hỏi': 3698, 'cọc': 3699, 'xãy': 3700, 'chi_phí': 3701, 'nhân_chủng_học': 3702, 'siêu_thị': 3703, 'ẩm_ướt': 3704, 'Mặt_trăng': 3705, 'Bao_quanh': 3706, '10.000': 3707, 'D.C.': 3708, 'tơ_lụa': 3709, 'Mùi': 3710, 'đội_trưởng': 3711, 'May_mắn': 3712, 'Thành_phố': 3713, '._Bám': 3714, 'Mau': 3715, 'tách_rời': 3716, 'Voi': 3717, 'sự_kiện': 3718, 'cấm': 3719, 'ba_gác': 3720, 'Xe': 3721, 'Hy_Lạp': 3722, 'đựng': 3723, 'thần_thoại': 3724, 'chứa_đựng': 3725, 'cuả_Mexico': 3726, 'tuân': 3727, 'lịch': 3728, 'rủi_ro': 3729, 'mắng': 3730, 'vật_liệu': 3731, 'xấu_mặt': 3732, 'dốc': 3733, 'trẻ_em': 3734, 'Hồ_Chí_Minh': 3735, 'đồng_minh': 3736, 'lưu_niệm': 3737, 'nhờn': 3738, 'mong_ước': 3739, 'cơ_thể': 3740, 'rơm': 3741, 'đốt': 3742, 'ước_muốn': 3743, 'ký_ức': 3744, 'Bằng': 3745, 'qua_chuyện': 3746, 'đánh_thức': 3747, 'ham': 3748, 'vật_chất': 3749, 'cai_trị': 3750, 'vở': 3751, 'Lý_thuyết': 3752, 'múc': 3753, 'đề_cập': 3754, 'sớm_mai': 3755, 'lãng_phí': 3756, 'bất_thường': 3757, 'Như_vậy': 3758, 'cột': 3759, 'Trở': 3760, 'tội_lỗi': 3761, 'quá_sức': 3762, 'tương_tác': 3763, 'trông_cậy': 3764, 'ấy_chết': 3765, 'đúng_mực': 3766, 'lạm_dụng': 3767, 'cây_số': 3768, 'ấm_áp': 3769, 'dột': 3770, 'Mái': 3771, 'hiện_trường': 3772, 'phi_công': 3773, 'hoa_tiêu': 3774, 'cũi': 3775, 'Bánh_quy': 3776, 'phát': 3777, 'Piano': 3778, 'láng_giềng': 3779, 'Phim': 3780, 'nhuần_nhuyễn': 3781, 'đóng_gói': 3782, 'Thực_vật': 3783, 'Bán': 3784, 'vắt': 3785, 'bưu_thiếp': 3786, 'cầu_xin': 3787, 'tết': 3788, 'bội_nghĩa': 3789, 'vong': 3790, 'thắng_lợi': 3791, 'giếng': 3792, 'Loại': 3793, 'Chuông': 3794, 'bơi_lội': 3795, 'đúng_hướng': 3796, 'Công_viên': 3797, 'tận_mắt': 3798, 'có_ích': 3799, 'thứ_Sáu': 3800, 'tán_chuyện': 3801, 'hôi': 3802, 'than_vãn': 3803, 'rời_bỏ': 3804, 'lỗi_lạc': 3805, 'đầy_đủ': 3806, 'đáp_án': 3807, 'xác_nhận': 3808, 'toàn_thân': 3809, 'Trăm': 3810, 'Titanic': 3811, 'nhiễm_độc': 3812, 'khoẻ_mạnh': 3813, 'xác': 3814, 'đẹp_trai': 3815, 'Mary_liệu': 3816, 'con_mẹ': 3817, 'phụ_họa': 3818, 'khó_ngửi': 3819, 'bít': 3820, 'nhắc_nhở': 3821, 'sự_thực': 3822, 'phục_vụ': 3823, 'bực': 3824, 'rất_đỗi': 3825, '._Bạn': 3826, 'đủ_số': 3827, 'trân_trọng': 3828, 'kỹ_lưỡng': 3829, 'ga-ra': 3830, 'tranh_luận': 3831, 'cam_chịu': 3832, 'Gom': 3833, 'Cô-pen-ha-ghen': 3834, 'Rốt_cuộc': 3835, 'Marie': 3836, 'thung_lũng': 3837, 'Copenhagen': 3838, 'MP3': 3839, 'dày': 3840, 'tinh_tế': 3841, 'hầm': 3842, 'khác_thường': 3843, 'kiến_trúc': 3844, 'công_trình': 3845, 'giám_sát': 3846, 'Valencia': 3847, 'Bò': 3848, 'huỷ': 3849, 'mét': 3850, 'NASA': 3851, 'khuất': 3852, 'tràn_ngập': 3853, 'Tim': 3854, 'Dì': 3855, 'Khoa_học': 3856, 'múa': 3857, 'tào': 3858, 'cắt_giảm': 3859, 'nam_châm': 3860, 'nhỏ_nhặt': 3861, 'Trung_Quốc': 3862, 'Khí_hậu': 3863, 'linh_hồn': 3864, 'tiền_lương': 3865, 'danh_dự': 3866, 'Nara': 3867, 'Hoàng_đế': 3868, 'Park': 3869, 'phanh': 3870, 'đột_ngột': 3871, 'Tới': 3872, 'tái_phạm': 3873, 'đần': 3874, 'thợ_điện': 3875, 'ít_ỏi': 3876, 'vật_thể': 3877, 'Hành_lý': 3878, 'cờ': 3879, 'nghỉ_phép': 3880, 'tính_cách': 3881, 'Bần_hàn': 3882, 'khói': 3883, '3/4': 3884, 'Suy_nghĩ': 3885, 'miễn_phí': 3886, 'Bần_cùng': 3887, 'cheetah': 3888, 'sở': 3889, 'rũ': 3890, 'Bước': 3891, 'nở': 3892, 'phủi': 3893, 'chỉa': 3894, 'trench': 3895, 'Sáu': 3896, 'đại_diện': 3897, 'tin_tức': 3898, 'xúc_động': 3899, 'đính_hôn': 3900, 'nóng_lòng': 3901, 'bí_tỉ': 3902, 'Ả': 3903, 'rập': 3904, 'Ả_Rập': 3905, 'Bắp': 3906, 'mép': 3907, 'ria': 3908, 'kim': 3909, 'nhạt_nhẽo': 3910, 'Tàu': 3911, 'xu_hướng': 3912, 'nhàm_chán': 3913, 'Quán': 3914, 'Da_đầu': 3915, 'ngứa': 3916, 'năng_động': 3917, 'khoáng': 3918, 'lọ': 3919, 'mài': 3920, 'bì': 3921, 'phơi_bày': 3922, 'Nói_trắng': 3923, 'Ngô': 3924, 'ăn_cướp': 3925, 'nhạn': 3926, 'mỹ': 3927, 'Lá_cờ': 3928, 'Bể_bơi': 3929, 'Kia': 3930, 'Bảo': 3931, 'chúng_tao': 3932, 'rộng': 3933, 'gúp': 3934, 'đại_sứ_quán': 3935, 'vợ_con': 3936, 'album': 3937, 'nghiêm_cấm': 3938, 'thái_lai': 3939, 'Bĩ_cực': 3940, 'lẩm_bẩm': 3941, 'hết_mình': 3942, 'quá_khứ': 3943, 'đại_số': 3944, 'tay_phải': 3945, 'át': 3946, 'chuồn': 3947, 'Sắp': 3948, 'bánh_xe': 3949, 'cây_nến': 3950, 'áp_suất': 3951, 'Kiểm_tra': 3952, 'Xe_đạp': 3953, 'giải_thích_nghĩa': 3954, 'lóe': 3955, 'khẩu': 3956, 'Nhắm': 3957, 'thí_nghiệm': 3958, 'thực_đơn': 3959, 'Hành_động': 3960, 'làm_quen': 3961, 'cao_tầng': 3962, 'Coi': 3963, 'hài': 3964, 'tông': 3965, 'bàn_giao': 3966, 'dán': 3967, 'ghen': 3968, 'tỵ': 3969, 'NTT': 3970, 'Là': 3971, 'Và': 3972, 'Tất_nhiên': 3973, 'cổ_phần': 3974, '1,000': 3975, 'coat': 3976, 'Phóng_hoả': 3977, 'phạm_pháp': 3978, 'Ổng': 3979, 'lênh_đênh': 3980, 'cảng': 3981, 'giải_đáp': 3982, 'thợ': 3983, 'chúng_nó': 3984, 'hòm_thư_điện_tử': 3985, 'Vẽ': 3986, 'ngốc_nghếch': 3987, 'kết_nối': 3988, '1000': 3989, 'ổ_khóa': 3990, 'Bình': 3991, 'Hỏi': 3992, 'bất_lực': 3993, 'lanh': 3994, 'tải': 3995, 'hang_cọp': 3996, 'lười_biếng': 3997, 'Thú_vui': 3998, 'thú_vui': 3999, 'xứng_đáng': 4000, 'liên_hệ': 4001, 'Con_nít': 4002, 'cọ_rửa': 4003, 'trượt_băng': 4004, 'Trượt_băng': 4005, 'nhịn_đói': 4006, 'cha_tệ': 4007, 'Nhấn': 4008, 'mất_mạng': 4009, 'Nhà_vệ_sinh': 4010, 'Trung_cổ': 4011, 'thời': 4012, 'Túi': 4013, 'chuyên': 4014, 'ra-di-um': 4015, 'dòng': 4016, 'máy_móc': 4017, 'lắp_ráp': 4018, 'cuộc_chiến': 4019, 'cọp': 4020, 'gieo': 4021, 'can_đảm': 4022, 'ruồi': 4023, 'trung_học_phổ_thông': 4024, 'vội_vã': 4025, 'ra_lệnh': 4026, 'rèm': 4027, 'lừa': 4028, 'be_be': 4029, 'Ấm': 4030, 'sôi': 4031, 'Nhà_vua': 4032, 'xử_tử': 4033, 'Sữa': 4034, 'Câu_chuyện': 4035, 'nào_đó': 4036, 'đổi_thay': 4037, 'Về': 4038, 'cáo': 4039, 'đạo_đức': 4040, 'săn': 4041, 'Tin_đồn': 4042, 'Dòng': 4043, 'Cánh': 4044, 'bạn_đọc': 4045, 'chổi': 4046, 'hào_phóng': 4047, 'Điện_thoại': 4048, 'toàn': 4049, 'bằng_không_khí': 4050, 'nghỉ_hè': 4051, 'Bạn_bè': 4052, 'đứng_máy': 4053, 'co_rúm': 4054, 'cứng_đơ': 4055, 'phá': 4056, 'Giọng': 4057, 'sushi': 4058, 'trang_điểm': 4059, 'cà_chua': 4060, 'cánh_tay': 4061, 'dải': 4062, 'bồn_tắm': 4063, 'trói': 4064, 'sẹo': 4065, 'tequila': 4066, 'đổ_đầy': 4067, 'tấm_gương': 4068, 'chặn': 4069, 'lít': 4070, 'theo_dõi': 4071, 'nứt': 4072, 'vết': 4073, 'Thiên_Chúa_Giáo': 4074, 'Phật_Giáo': 4075, 'vi_hiến': 4076, 'Trưa': 4077, 'Nửa': 4078, 'Vầng_Trăng': 4079, 'phạt_tiền': 4080, 'đằng_xa': 4081, 'đơn_điệu': 4082, 'Khó_khăn': 4083, 'khán_giả': 4084, 'thuyết_giảng': 4085, 'Chậm': 4086, 'Cẩn_tắc': 4087, 'Con_người': 4088, 'áy_náy': 4089, 'bất_chấp': 4090, 'trái_phép': 4091, 'cảm_động': 4092, 'xông': 4093, 'người_nhà': 4094, 'làm_chủ': 4095, 'Cảm_phiền': 4096, 'lon': 4097, 'say_xỉn': 4098, 'Gã': 4099, 'ghê_sợ': 4100, 'dở_tệ': 4101, 'thi_công': 4102, 'dọn_bàn': 4103, 'ứng_cử_viên': 4104, 'bến': 4105}\n"
          ],
          "name": "stdout"
        }
      ]
    },
    {
      "cell_type": "code",
      "metadata": {
        "id": "ZMRmQ3A4yojk"
      },
      "source": [
        "for i,vie_line in enumerate(vie_lines):\n",
        "    words = vie_line.split(\" \")\n",
        "    words_arr = np.zeros(len(words),dtype=int)\n",
        "    for i,word in enumerate(words):\n",
        "       words_arr[i] = vie_word_dict[word]\n",
        "    tokenized_vie_lines.append(words_arr)"
      ],
      "execution_count": null,
      "outputs": []
    },
    {
      "cell_type": "code",
      "metadata": {
        "colab": {
          "base_uri": "https://localhost:8080/"
        },
        "id": "ribenQJVbF0P",
        "outputId": "89d6f8c4-f8dd-42b5-82bf-e4076795b1d1"
      },
      "source": [
        "length_list = list()\n",
        "for token_seq in tokenized_vie_lines:\n",
        "    length_list.append( len( token_seq ))\n",
        "max_output_length = np.array( length_list ).max()\n",
        "padded_vie_lines = preprocessing.sequence.pad_sequences( tokenized_vie_lines , maxlen=max_output_length , padding='post' )\n",
        "decoder_input_data = np.array( padded_vie_lines )\n",
        "num_vie_tokens = len(dict_words )+1\n",
        "print( 'Number of Vietnamese tokens = {}'.format( num_vie_tokens))"
      ],
      "execution_count": 18,
      "outputs": [
        {
          "output_type": "stream",
          "text": [
            "Number of Vietnamese tokens = 4107\n"
          ],
          "name": "stdout"
        }
      ]
    },
    {
      "cell_type": "markdown",
      "metadata": {
        "id": "nmNBbJM8bwUk"
      },
      "source": [
        "### 5) Preparing target data for the Decoder ( decoder_target_data ) "
      ]
    },
    {
      "cell_type": "code",
      "metadata": {
        "id": "-irfCOx0WPLV",
        "colab": {
          "base_uri": "https://localhost:8080/"
        },
        "outputId": "a9be1026-b52c-4f67-8ee7-d8e6c106b041"
      },
      "source": [
        "decoder_target_data = list()\n",
        "for token_seq in tokenized_vie_lines:\n",
        "    decoder_target_data.append( token_seq[ 1 : ] ) \n",
        "    \n",
        "padded_vie_lines = preprocessing.sequence.pad_sequences( decoder_target_data , maxlen=max_output_length, padding='post' )\n",
        "onehot_vie_lines = utils.to_categorical( padded_vie_lines , num_vie_tokens )\n",
        "decoder_target_data = np.array( onehot_vie_lines )\n",
        "print( 'Decoder target data shape -> {}'.format( decoder_target_data.shape ))"
      ],
      "execution_count": 19,
      "outputs": [
        {
          "output_type": "stream",
          "text": [
            "Decoder target data shape -> (7547, 38, 4107)\n"
          ],
          "name": "stdout"
        }
      ]
    },
    {
      "cell_type": "markdown",
      "metadata": {
        "id": "DDRBeEkPdbjz"
      },
      "source": [
        "#Defining and Training the models"
      ]
    },
    {
      "cell_type": "markdown",
      "metadata": {
        "id": "mX0D4cUCdhAp"
      },
      "source": [
        "###1, Defining the Encoder - Decoder model"
      ]
    },
    {
      "cell_type": "code",
      "metadata": {
        "colab": {
          "base_uri": "https://localhost:8080/"
        },
        "id": "sv-fFnnYdnmT",
        "outputId": "0ca16a2e-8d2a-43a1-b4d7-49d8abcf8844"
      },
      "source": [
        "encoder_inputs = tf.keras.layers.Input(shape=( None , ))\n",
        "encoder_embedding = tf.keras.layers.Embedding( num_eng_tokens, 256 , mask_zero=True ) (encoder_inputs)\n",
        "encoder_outputs , state_h , state_c = tf.keras.layers.LSTM( 128 , return_state=True  )( encoder_embedding )\n",
        "encoder_states = [ state_h , state_c ]\n",
        "\n",
        "decoder_inputs = tf.keras.layers.Input(shape=( None ,  ))\n",
        "decoder_embedding = tf.keras.layers.Embedding( num_vie_tokens, 256 , mask_zero=True) (decoder_inputs)\n",
        "decoder_lstm = tf.keras.layers.LSTM( 128 , return_state=True , return_sequences=True)\n",
        "decoder_outputs , _ , _ = decoder_lstm ( decoder_embedding , initial_state=encoder_states )\n",
        "decoder_dense = tf.keras.layers.Dense( num_vie_tokens , activation=tf.keras.activations.softmax ) \n",
        "output = decoder_dense ( decoder_outputs )\n",
        "\n",
        "model = tf.keras.models.Model([encoder_inputs, decoder_inputs], output )\n",
        "model.compile(optimizer=tf.keras.optimizers.RMSprop(), loss='categorical_crossentropy')\n",
        "\n",
        "model.summary()"
      ],
      "execution_count": 20,
      "outputs": [
        {
          "output_type": "stream",
          "text": [
            "Model: \"model\"\n",
            "__________________________________________________________________________________________________\n",
            "Layer (type)                    Output Shape         Param #     Connected to                     \n",
            "==================================================================================================\n",
            "input_1 (InputLayer)            [(None, None)]       0                                            \n",
            "__________________________________________________________________________________________________\n",
            "input_2 (InputLayer)            [(None, None)]       0                                            \n",
            "__________________________________________________________________________________________________\n",
            "embedding (Embedding)           (None, None, 256)    950272      input_1[0][0]                    \n",
            "__________________________________________________________________________________________________\n",
            "embedding_1 (Embedding)         (None, None, 256)    1051392     input_2[0][0]                    \n",
            "__________________________________________________________________________________________________\n",
            "lstm (LSTM)                     [(None, 128), (None, 197120      embedding[0][0]                  \n",
            "__________________________________________________________________________________________________\n",
            "lstm_1 (LSTM)                   [(None, None, 128),  197120      embedding_1[0][0]                \n",
            "                                                                 lstm[0][1]                       \n",
            "                                                                 lstm[0][2]                       \n",
            "__________________________________________________________________________________________________\n",
            "dense (Dense)                   (None, None, 4107)   529803      lstm_1[0][0]                     \n",
            "==================================================================================================\n",
            "Total params: 2,925,707\n",
            "Trainable params: 2,925,707\n",
            "Non-trainable params: 0\n",
            "__________________________________________________________________________________________________\n"
          ],
          "name": "stdout"
        }
      ]
    },
    {
      "cell_type": "markdown",
      "metadata": {
        "id": "XAmMJmV5ea8U"
      },
      "source": [
        "###Training model"
      ]
    },
    {
      "cell_type": "code",
      "metadata": {
        "colab": {
          "base_uri": "https://localhost:8080/"
        },
        "id": "3OIHzeZ-edzk",
        "outputId": "d58e1317-8686-4db0-da2f-ca8bbc0c97fe"
      },
      "source": [
        "model.fit([encoder_input_data , decoder_input_data], decoder_target_data, batch_size=250, epochs=50 ) \n",
        "model.save( 'model.h5' ) "
      ],
      "execution_count": 21,
      "outputs": [
        {
          "output_type": "stream",
          "text": [
            "Epoch 1/50\n",
            "31/31 [==============================] - 19s 215ms/step - loss: 1.4918\n",
            "Epoch 2/50\n",
            "31/31 [==============================] - 7s 217ms/step - loss: 1.2272\n",
            "Epoch 3/50\n",
            "31/31 [==============================] - 7s 218ms/step - loss: 1.1727\n",
            "Epoch 4/50\n",
            "31/31 [==============================] - 7s 215ms/step - loss: 1.1252\n",
            "Epoch 5/50\n",
            "31/31 [==============================] - 7s 213ms/step - loss: 1.0852\n",
            "Epoch 6/50\n",
            "31/31 [==============================] - 7s 217ms/step - loss: 1.0518\n",
            "Epoch 7/50\n",
            "31/31 [==============================] - 7s 221ms/step - loss: 1.0239\n",
            "Epoch 8/50\n",
            "31/31 [==============================] - 7s 220ms/step - loss: 1.0004\n",
            "Epoch 9/50\n",
            "31/31 [==============================] - 7s 217ms/step - loss: 0.9794\n",
            "Epoch 10/50\n",
            "31/31 [==============================] - 7s 215ms/step - loss: 0.9587\n",
            "Epoch 11/50\n",
            "31/31 [==============================] - 7s 220ms/step - loss: 0.9379\n",
            "Epoch 12/50\n",
            "31/31 [==============================] - 7s 217ms/step - loss: 0.9172\n",
            "Epoch 13/50\n",
            "31/31 [==============================] - 7s 217ms/step - loss: 0.8973\n",
            "Epoch 14/50\n",
            "31/31 [==============================] - 7s 221ms/step - loss: 0.8780\n",
            "Epoch 15/50\n",
            "31/31 [==============================] - 7s 218ms/step - loss: 0.8596\n",
            "Epoch 16/50\n",
            "31/31 [==============================] - 7s 220ms/step - loss: 0.8415\n",
            "Epoch 17/50\n",
            "31/31 [==============================] - 7s 219ms/step - loss: 0.8252\n",
            "Epoch 18/50\n",
            "31/31 [==============================] - 7s 224ms/step - loss: 0.8087\n",
            "Epoch 19/50\n",
            "31/31 [==============================] - 7s 221ms/step - loss: 0.7929\n",
            "Epoch 20/50\n",
            "31/31 [==============================] - 7s 221ms/step - loss: 0.7773\n",
            "Epoch 21/50\n",
            "31/31 [==============================] - 7s 221ms/step - loss: 0.7620\n",
            "Epoch 22/50\n",
            "31/31 [==============================] - 7s 218ms/step - loss: 0.7461\n",
            "Epoch 23/50\n",
            "31/31 [==============================] - 7s 222ms/step - loss: 0.7315\n",
            "Epoch 24/50\n",
            "31/31 [==============================] - 7s 220ms/step - loss: 0.7169\n",
            "Epoch 25/50\n",
            "31/31 [==============================] - 7s 224ms/step - loss: 0.7026\n",
            "Epoch 26/50\n",
            "31/31 [==============================] - 7s 224ms/step - loss: 0.6879\n",
            "Epoch 27/50\n",
            "31/31 [==============================] - 7s 219ms/step - loss: 0.6736\n",
            "Epoch 28/50\n",
            "31/31 [==============================] - 7s 221ms/step - loss: 0.6600\n",
            "Epoch 29/50\n",
            "31/31 [==============================] - 7s 222ms/step - loss: 0.6461\n",
            "Epoch 30/50\n",
            "31/31 [==============================] - 7s 229ms/step - loss: 0.6323\n",
            "Epoch 31/50\n",
            "31/31 [==============================] - 7s 224ms/step - loss: 0.6186\n",
            "Epoch 32/50\n",
            "31/31 [==============================] - 7s 220ms/step - loss: 0.6065\n",
            "Epoch 33/50\n",
            "31/31 [==============================] - 7s 230ms/step - loss: 0.5918\n",
            "Epoch 34/50\n",
            "31/31 [==============================] - 7s 225ms/step - loss: 0.5794\n",
            "Epoch 35/50\n",
            "31/31 [==============================] - 7s 226ms/step - loss: 0.5669\n",
            "Epoch 36/50\n",
            "31/31 [==============================] - 7s 224ms/step - loss: 0.5533\n",
            "Epoch 37/50\n",
            "31/31 [==============================] - 7s 226ms/step - loss: 0.5407\n",
            "Epoch 38/50\n",
            "31/31 [==============================] - 7s 227ms/step - loss: 0.5292\n",
            "Epoch 39/50\n",
            "31/31 [==============================] - 7s 235ms/step - loss: 0.5168\n",
            "Epoch 40/50\n",
            "31/31 [==============================] - 7s 222ms/step - loss: 0.5047\n",
            "Epoch 41/50\n",
            "31/31 [==============================] - 7s 223ms/step - loss: 0.4932\n",
            "Epoch 42/50\n",
            "31/31 [==============================] - 7s 225ms/step - loss: 0.4817\n",
            "Epoch 43/50\n",
            "31/31 [==============================] - 7s 228ms/step - loss: 0.4706\n",
            "Epoch 44/50\n",
            "31/31 [==============================] - 7s 228ms/step - loss: 0.4589\n",
            "Epoch 45/50\n",
            "31/31 [==============================] - 7s 221ms/step - loss: 0.4485\n",
            "Epoch 46/50\n",
            "31/31 [==============================] - 7s 218ms/step - loss: 0.4368\n",
            "Epoch 47/50\n",
            "31/31 [==============================] - 7s 220ms/step - loss: 0.4264\n",
            "Epoch 48/50\n",
            "31/31 [==============================] - 7s 222ms/step - loss: 0.4156\n",
            "Epoch 49/50\n",
            "31/31 [==============================] - 7s 226ms/step - loss: 0.4055\n",
            "Epoch 50/50\n",
            "31/31 [==============================] - 7s 219ms/step - loss: 0.3952\n"
          ],
          "name": "stdout"
        }
      ]
    },
    {
      "cell_type": "code",
      "metadata": {
        "id": "Zr5v0UNpgSu4"
      },
      "source": [
        "def make_inference_models():\n",
        "    \n",
        "    encoder_model = tf.keras.models.Model(encoder_inputs, encoder_states)\n",
        "    \n",
        "    decoder_state_input_h = tf.keras.layers.Input(shape=( 128 ,))\n",
        "    decoder_state_input_c = tf.keras.layers.Input(shape=( 128 ,))\n",
        "    \n",
        "    decoder_states_inputs = [decoder_state_input_h, decoder_state_input_c]\n",
        "    \n",
        "    decoder_outputs, state_h, state_c = decoder_lstm(\n",
        "        decoder_embedding , initial_state=decoder_states_inputs)\n",
        "    decoder_states = [state_h, state_c]\n",
        "    decoder_outputs = decoder_dense(decoder_outputs)\n",
        "    decoder_model = tf.keras.models.Model(\n",
        "        [decoder_inputs] + decoder_states_inputs,\n",
        "        [decoder_outputs] + decoder_states)\n",
        "    \n",
        "    return encoder_model , decoder_model\n",
        "\n",
        "def str_to_tokens( sentence : str ):\n",
        "    words = sentence.lower().split()\n",
        "    tokens_list = list()\n",
        "    for word in words:\n",
        "        tokens_list.append( eng_word_dict[ word ] ) \n",
        "    return preprocessing.sequence.pad_sequences( [tokens_list] , maxlen=max_input_length , padding='post')"
      ],
      "execution_count": 22,
      "outputs": []
    },
    {
      "cell_type": "code",
      "metadata": {
        "id": "Vl88bcX6gXqi",
        "colab": {
          "base_uri": "https://localhost:8080/",
          "height": 575
        },
        "outputId": "d1feb528-47cc-4268-da46-efc2aba4f496"
      },
      "source": [
        "\n",
        "enc_model , dec_model = make_inference_models()\n",
        "\n",
        "for epoch in range( encoder_input_data.shape[0] ):\n",
        "    states_values = enc_model.predict( str_to_tokens( input( 'Enter eng sentence : ' ) ) )\n",
        "    #states_values = enc_model.predict( encoder_input_data[ epoch ] )\n",
        "    empty_target_seq = np.zeros( ( 1 , 1 ) )\n",
        "    empty_target_seq[0, 0] = vie_word_dict['<START>']\n",
        "    stop_condition = False\n",
        "    decoded_translation = ''\n",
        "    while not stop_condition :\n",
        "        dec_outputs , h , c = dec_model.predict([ empty_target_seq ] + states_values )\n",
        "        sampled_word_index = np.argmax( dec_outputs[0, -1, :] )\n",
        "        sampled_word = None\n",
        "        for word , index in vie_word_dict.items() :\n",
        "            if sampled_word_index == index :\n",
        "                decoded_translation += ' {}'.format( word )\n",
        "                sampled_word = word\n",
        "        \n",
        "        if sampled_word == 'end' or len(decoded_translation.split()) > max_output_length:\n",
        "            stop_condition = True\n",
        "            \n",
        "        empty_target_seq = np.zeros( ( 1 , 1 ) )  \n",
        "        empty_target_seq[ 0 , 0 ] = sampled_word_index\n",
        "        states_values = [ h , c ] \n",
        "\n",
        "    print( decoded_translation )\n"
      ],
      "execution_count": 26,
      "outputs": [
        {
          "output_type": "stream",
          "text": [
            "Enter eng sentence : Are you ok\n",
            " ốm ai cũng không ? <END> <START> ốm ! <END> <START> ốm <START> ốm ? <END> <START> ốm <START> ốm ? <END> <START> ốm <START> ốm ! <END> <START> ốm <START> ốm <START> ốm ! <END> <START> ốm <START>\n"
          ],
          "name": "stdout"
        },
        {
          "output_type": "error",
          "ename": "KeyboardInterrupt",
          "evalue": "ignored",
          "traceback": [
            "\u001b[0;31m---------------------------------------------------------------------------\u001b[0m",
            "\u001b[0;31mKeyboardInterrupt\u001b[0m                         Traceback (most recent call last)",
            "\u001b[0;32m/usr/local/lib/python3.7/dist-packages/ipykernel/kernelbase.py\u001b[0m in \u001b[0;36m_input_request\u001b[0;34m(self, prompt, ident, parent, password)\u001b[0m\n\u001b[1;32m    728\u001b[0m             \u001b[0;32mtry\u001b[0m\u001b[0;34m:\u001b[0m\u001b[0;34m\u001b[0m\u001b[0;34m\u001b[0m\u001b[0m\n\u001b[0;32m--> 729\u001b[0;31m                 \u001b[0mident\u001b[0m\u001b[0;34m,\u001b[0m \u001b[0mreply\u001b[0m \u001b[0;34m=\u001b[0m \u001b[0mself\u001b[0m\u001b[0;34m.\u001b[0m\u001b[0msession\u001b[0m\u001b[0;34m.\u001b[0m\u001b[0mrecv\u001b[0m\u001b[0;34m(\u001b[0m\u001b[0mself\u001b[0m\u001b[0;34m.\u001b[0m\u001b[0mstdin_socket\u001b[0m\u001b[0;34m,\u001b[0m \u001b[0;36m0\u001b[0m\u001b[0;34m)\u001b[0m\u001b[0;34m\u001b[0m\u001b[0;34m\u001b[0m\u001b[0m\n\u001b[0m\u001b[1;32m    730\u001b[0m             \u001b[0;32mexcept\u001b[0m \u001b[0mException\u001b[0m\u001b[0;34m:\u001b[0m\u001b[0;34m\u001b[0m\u001b[0;34m\u001b[0m\u001b[0m\n",
            "\u001b[0;32m/usr/local/lib/python3.7/dist-packages/jupyter_client/session.py\u001b[0m in \u001b[0;36mrecv\u001b[0;34m(self, socket, mode, content, copy)\u001b[0m\n\u001b[1;32m    802\u001b[0m         \u001b[0;32mtry\u001b[0m\u001b[0;34m:\u001b[0m\u001b[0;34m\u001b[0m\u001b[0;34m\u001b[0m\u001b[0m\n\u001b[0;32m--> 803\u001b[0;31m             \u001b[0mmsg_list\u001b[0m \u001b[0;34m=\u001b[0m \u001b[0msocket\u001b[0m\u001b[0;34m.\u001b[0m\u001b[0mrecv_multipart\u001b[0m\u001b[0;34m(\u001b[0m\u001b[0mmode\u001b[0m\u001b[0;34m,\u001b[0m \u001b[0mcopy\u001b[0m\u001b[0;34m=\u001b[0m\u001b[0mcopy\u001b[0m\u001b[0;34m)\u001b[0m\u001b[0;34m\u001b[0m\u001b[0;34m\u001b[0m\u001b[0m\n\u001b[0m\u001b[1;32m    804\u001b[0m         \u001b[0;32mexcept\u001b[0m \u001b[0mzmq\u001b[0m\u001b[0;34m.\u001b[0m\u001b[0mZMQError\u001b[0m \u001b[0;32mas\u001b[0m \u001b[0me\u001b[0m\u001b[0;34m:\u001b[0m\u001b[0;34m\u001b[0m\u001b[0;34m\u001b[0m\u001b[0m\n",
            "\u001b[0;32m/usr/local/lib/python3.7/dist-packages/zmq/sugar/socket.py\u001b[0m in \u001b[0;36mrecv_multipart\u001b[0;34m(self, flags, copy, track)\u001b[0m\n\u001b[1;32m    582\u001b[0m         \"\"\"\n\u001b[0;32m--> 583\u001b[0;31m         \u001b[0mparts\u001b[0m \u001b[0;34m=\u001b[0m \u001b[0;34m[\u001b[0m\u001b[0mself\u001b[0m\u001b[0;34m.\u001b[0m\u001b[0mrecv\u001b[0m\u001b[0;34m(\u001b[0m\u001b[0mflags\u001b[0m\u001b[0;34m,\u001b[0m \u001b[0mcopy\u001b[0m\u001b[0;34m=\u001b[0m\u001b[0mcopy\u001b[0m\u001b[0;34m,\u001b[0m \u001b[0mtrack\u001b[0m\u001b[0;34m=\u001b[0m\u001b[0mtrack\u001b[0m\u001b[0;34m)\u001b[0m\u001b[0;34m]\u001b[0m\u001b[0;34m\u001b[0m\u001b[0;34m\u001b[0m\u001b[0m\n\u001b[0m\u001b[1;32m    584\u001b[0m         \u001b[0;31m# have first part already, only loop while more to receive\u001b[0m\u001b[0;34m\u001b[0m\u001b[0;34m\u001b[0m\u001b[0;34m\u001b[0m\u001b[0m\n",
            "\u001b[0;32mzmq/backend/cython/socket.pyx\u001b[0m in \u001b[0;36mzmq.backend.cython.socket.Socket.recv\u001b[0;34m()\u001b[0m\n",
            "\u001b[0;32mzmq/backend/cython/socket.pyx\u001b[0m in \u001b[0;36mzmq.backend.cython.socket.Socket.recv\u001b[0;34m()\u001b[0m\n",
            "\u001b[0;32mzmq/backend/cython/socket.pyx\u001b[0m in \u001b[0;36mzmq.backend.cython.socket._recv_copy\u001b[0;34m()\u001b[0m\n",
            "\u001b[0;32m/usr/local/lib/python3.7/dist-packages/zmq/backend/cython/checkrc.pxd\u001b[0m in \u001b[0;36mzmq.backend.cython.checkrc._check_rc\u001b[0;34m()\u001b[0m\n",
            "\u001b[0;31mKeyboardInterrupt\u001b[0m: ",
            "\nDuring handling of the above exception, another exception occurred:\n",
            "\u001b[0;31mKeyboardInterrupt\u001b[0m                         Traceback (most recent call last)",
            "\u001b[0;32m<ipython-input-26-74f576f0f09c>\u001b[0m in \u001b[0;36m<module>\u001b[0;34m()\u001b[0m\n\u001b[1;32m      3\u001b[0m \u001b[0;34m\u001b[0m\u001b[0m\n\u001b[1;32m      4\u001b[0m \u001b[0;32mfor\u001b[0m \u001b[0mepoch\u001b[0m \u001b[0;32min\u001b[0m \u001b[0mrange\u001b[0m\u001b[0;34m(\u001b[0m \u001b[0mencoder_input_data\u001b[0m\u001b[0;34m.\u001b[0m\u001b[0mshape\u001b[0m\u001b[0;34m[\u001b[0m\u001b[0;36m0\u001b[0m\u001b[0;34m]\u001b[0m \u001b[0;34m)\u001b[0m\u001b[0;34m:\u001b[0m\u001b[0;34m\u001b[0m\u001b[0;34m\u001b[0m\u001b[0m\n\u001b[0;32m----> 5\u001b[0;31m     \u001b[0mstates_values\u001b[0m \u001b[0;34m=\u001b[0m \u001b[0menc_model\u001b[0m\u001b[0;34m.\u001b[0m\u001b[0mpredict\u001b[0m\u001b[0;34m(\u001b[0m \u001b[0mstr_to_tokens\u001b[0m\u001b[0;34m(\u001b[0m \u001b[0minput\u001b[0m\u001b[0;34m(\u001b[0m \u001b[0;34m'Enter eng sentence : '\u001b[0m \u001b[0;34m)\u001b[0m \u001b[0;34m)\u001b[0m \u001b[0;34m)\u001b[0m\u001b[0;34m\u001b[0m\u001b[0;34m\u001b[0m\u001b[0m\n\u001b[0m\u001b[1;32m      6\u001b[0m     \u001b[0;31m#states_values = enc_model.predict( encoder_input_data[ epoch ] )\u001b[0m\u001b[0;34m\u001b[0m\u001b[0;34m\u001b[0m\u001b[0;34m\u001b[0m\u001b[0m\n\u001b[1;32m      7\u001b[0m     \u001b[0mempty_target_seq\u001b[0m \u001b[0;34m=\u001b[0m \u001b[0mnp\u001b[0m\u001b[0;34m.\u001b[0m\u001b[0mzeros\u001b[0m\u001b[0;34m(\u001b[0m \u001b[0;34m(\u001b[0m \u001b[0;36m1\u001b[0m \u001b[0;34m,\u001b[0m \u001b[0;36m1\u001b[0m \u001b[0;34m)\u001b[0m \u001b[0;34m)\u001b[0m\u001b[0;34m\u001b[0m\u001b[0;34m\u001b[0m\u001b[0m\n",
            "\u001b[0;32m/usr/local/lib/python3.7/dist-packages/ipykernel/kernelbase.py\u001b[0m in \u001b[0;36mraw_input\u001b[0;34m(self, prompt)\u001b[0m\n\u001b[1;32m    702\u001b[0m             \u001b[0mself\u001b[0m\u001b[0;34m.\u001b[0m\u001b[0m_parent_ident\u001b[0m\u001b[0;34m,\u001b[0m\u001b[0;34m\u001b[0m\u001b[0;34m\u001b[0m\u001b[0m\n\u001b[1;32m    703\u001b[0m             \u001b[0mself\u001b[0m\u001b[0;34m.\u001b[0m\u001b[0m_parent_header\u001b[0m\u001b[0;34m,\u001b[0m\u001b[0;34m\u001b[0m\u001b[0;34m\u001b[0m\u001b[0m\n\u001b[0;32m--> 704\u001b[0;31m             \u001b[0mpassword\u001b[0m\u001b[0;34m=\u001b[0m\u001b[0;32mFalse\u001b[0m\u001b[0;34m,\u001b[0m\u001b[0;34m\u001b[0m\u001b[0;34m\u001b[0m\u001b[0m\n\u001b[0m\u001b[1;32m    705\u001b[0m         )\n\u001b[1;32m    706\u001b[0m \u001b[0;34m\u001b[0m\u001b[0m\n",
            "\u001b[0;32m/usr/local/lib/python3.7/dist-packages/ipykernel/kernelbase.py\u001b[0m in \u001b[0;36m_input_request\u001b[0;34m(self, prompt, ident, parent, password)\u001b[0m\n\u001b[1;32m    732\u001b[0m             \u001b[0;32mexcept\u001b[0m \u001b[0mKeyboardInterrupt\u001b[0m\u001b[0;34m:\u001b[0m\u001b[0;34m\u001b[0m\u001b[0;34m\u001b[0m\u001b[0m\n\u001b[1;32m    733\u001b[0m                 \u001b[0;31m# re-raise KeyboardInterrupt, to truncate traceback\u001b[0m\u001b[0;34m\u001b[0m\u001b[0;34m\u001b[0m\u001b[0;34m\u001b[0m\u001b[0m\n\u001b[0;32m--> 734\u001b[0;31m                 \u001b[0;32mraise\u001b[0m \u001b[0mKeyboardInterrupt\u001b[0m\u001b[0;34m\u001b[0m\u001b[0;34m\u001b[0m\u001b[0m\n\u001b[0m\u001b[1;32m    735\u001b[0m             \u001b[0;32melse\u001b[0m\u001b[0;34m:\u001b[0m\u001b[0;34m\u001b[0m\u001b[0;34m\u001b[0m\u001b[0m\n\u001b[1;32m    736\u001b[0m                 \u001b[0;32mbreak\u001b[0m\u001b[0;34m\u001b[0m\u001b[0;34m\u001b[0m\u001b[0m\n",
            "\u001b[0;31mKeyboardInterrupt\u001b[0m: "
          ]
        }
      ]
    },
    {
      "cell_type": "code",
      "metadata": {
        "id": "vdXFpcuShmnG",
        "colab": {
          "base_uri": "https://localhost:8080/"
        },
        "outputId": "98ccb749-2cc2-4d5d-a33f-4fb80809e493"
      },
      "source": [
        "np.where(dict_words=='<START>')[0]"
      ],
      "execution_count": null,
      "outputs": [
        {
          "output_type": "execute_result",
          "data": {
            "text/plain": [
              "array([0])"
            ]
          },
          "metadata": {
            "tags": []
          },
          "execution_count": 28
        }
      ]
    },
    {
      "cell_type": "code",
      "metadata": {
        "id": "UkJqDfhHg_VS"
      },
      "source": [
        ""
      ],
      "execution_count": null,
      "outputs": []
    }
  ]
}